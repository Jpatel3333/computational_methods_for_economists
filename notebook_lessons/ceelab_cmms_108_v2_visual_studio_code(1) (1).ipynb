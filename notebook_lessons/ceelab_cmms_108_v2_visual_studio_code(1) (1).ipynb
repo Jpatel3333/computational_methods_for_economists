{
 "cells": [
  {
   "cell_type": "markdown",
   "id": "cfe2c38a",
   "metadata": {},
   "source": [
    "# Getting Started with Visual Studio Code\n",
    "\n",
    "* Download Visual Studio Code [here](https://code.visualstudio.com/)\n",
    "* Watch the intro tutorial [here](https://www.youtube.com/watch?v=ITxcbrfEcIY&list=PLj6YeMhvp2S4oEV_bT1Uk3oXfpvGW6Xqy&index=1)\n",
    "* `[Top Menu]` `Help -> Welcome` will open welcome screen  "
   ]
  },
  {
   "cell_type": "markdown",
   "id": "6ddf6784",
   "metadata": {},
   "source": [
    "## Extensions (four squares menu)\n",
    "\n",
    "Find out more in this [video](https://www.youtube.com/watch?v=SKcZ3cwX8lA&list=PLj6YeMhvp2S4oEV_bT1Uk3oXfpvGW6Xqy&index=3)\n",
    "* type `Python` and install the recommended `Python (Microsoft)` extension \n",
    "* Type `@cat` to bring up different categories of extensions.\n",
    "* Type `@installed` to see installed extensions"
   ]
  },
  {
   "cell_type": "markdown",
   "id": "a114a0bb",
   "metadata": {},
   "source": [
    "## Command Palette\n",
    "\n",
    "Open the Command Palette (Command+Shift+P on macOS and Ctrl+Shift+P on Windows/Linux) and type `Python:` this will give you a selection of Python specific commands.  One command you should do now is `Python: Select Linter` and choose `pylint` from the menu."
   ]
  },
  {
   "cell_type": "markdown",
   "id": "6c30d900",
   "metadata": {},
   "source": [
    "## Getting Started with Python\n",
    "\n",
    "Python with VSC [tutorial](https://code.visualstudio.com/docs/python/python-tutorial)"
   ]
  },
  {
   "cell_type": "markdown",
   "id": "07ca41ed",
   "metadata": {},
   "source": [
    "# Using Jupyter Notebook inside VSC\n",
    "\n",
    "* In extensions menu look for the `Jupyter` extension by Microsoft and `install`. \n",
    "* Once you load the extension you can work with this notebook inside VSC.\n",
    "* Watch the following [video](https://www.youtube.com/watch?v=Ozq24uAshXo)\n",
    "* More tutorial [here](https://code.visualstudio.com/docs/datascience/jupyter-notebooks) "
   ]
  },
  {
   "cell_type": "markdown",
   "id": "d4288d33",
   "metadata": {},
   "source": [
    "# Editing Code\n",
    "\n",
    "* tutorial [here](https://code.visualstudio.com/docs/python/editing)\n",
    "\n",
    "* Using `IntelliSense`:  `F12` to see definition and `right_click` -> `go to declaration`\n",
    "* `Run selection` in live terminal: select code and `shift-enter`"
   ]
  },
  {
   "cell_type": "markdown",
   "id": "a94566f9",
   "metadata": {},
   "source": [
    "# Linting Code\n",
    "\n",
    "* tutorial [here](https://code.visualstudio.com/docs/python/linting)\n",
    "*`ctrl-shift-p` Run Linting\n",
    "* try typing an incomplete statement and cursor over red squiggles to see issue"
   ]
  },
  {
   "cell_type": "markdown",
   "id": "eca2d567",
   "metadata": {},
   "source": [
    "# Debugging Code\n",
    "tutorial [here](https://code.visualstudio.com/docs/python/debugging)\n",
    "\n",
    "* `click on gutter` to set breakpoint\n",
    "* click `Run and Debug`\n",
    "    * choose `Debug the currently active Python File`\n",
    "* See `VARIABLES -> Locals` for values of variables\n",
    "* Use `popup controller` to continue processing"
   ]
  },
  {
   "cell_type": "markdown",
   "id": "c80da272",
   "metadata": {},
   "source": [
    "# Collaborating with Live Share\n",
    "\n",
    "* In extensions menu look for the `Live Share` extension by Microsoft and `install`. \n",
    "* Watch the following [video](https://www.youtube.com/watch?v=A2ceblXTBBc&list=PLj6YeMhvp2S4oEV_bT1Uk3oXfpvGW6Xqy&index=2)\n",
    "* More tutorial [here](https://code.visualstudio.com/learn/collaboration/live-share)\n",
    "\n"
   ]
  },
  {
   "cell_type": "markdown",
   "id": "3e409664",
   "metadata": {},
   "source": [
    "# Settings\n",
    "\n",
    "tutorial on VSC settings [here](https://code.visualstudio.com/docs/getstarted/settings)\n",
    "tutorial on Python VSC settings [here](https://code.visualstudio.com/docs/python/settings-reference)"
   ]
  }
 ],
 "metadata": {
  "kernelspec": {
   "display_name": "Python 3 (ipykernel)",
   "language": "python",
   "name": "python3"
  },
  "language_info": {
   "codemirror_mode": {
    "name": "ipython",
    "version": 3
   },
   "file_extension": ".py",
   "mimetype": "text/x-python",
   "name": "python",
   "nbconvert_exporter": "python",
   "pygments_lexer": "ipython3",
   "version": "3.7.9"
  },
  "toc": {
   "base_numbering": 1,
   "nav_menu": {},
   "number_sections": true,
   "sideBar": true,
   "skip_h1_title": false,
   "title_cell": "Table of Contents",
   "title_sidebar": "Contents",
   "toc_cell": false,
   "toc_position": {},
   "toc_section_display": true,
   "toc_window_display": false
  }
 },
 "nbformat": 4,
 "nbformat_minor": 5
}
