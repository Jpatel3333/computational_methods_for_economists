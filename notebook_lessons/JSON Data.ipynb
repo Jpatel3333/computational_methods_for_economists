{
 "cells": [
  {
   "cell_type": "markdown",
   "id": "f640c853",
   "metadata": {},
   "source": [
    "# JSON: JavaScript Object Notation \n",
    "\n",
    "> * **Serialization**: Encoding program data to JSON data\n",
    "> * **Deserialization**: Decoding JSON data to program data\n",
    "\n",
    "> JSON Data Types\n",
    "\n",
    "* object\n",
    "* array\n",
    "* string\n",
    "* number\n",
    "* true\n",
    "* false\n",
    "* null\n"
   ]
  },
  {
   "cell_type": "code",
   "execution_count": 1,
   "id": "6bea2ad9",
   "metadata": {},
   "outputs": [],
   "source": [
    "import json"
   ]
  },
  {
   "cell_type": "markdown",
   "id": "30b61761",
   "metadata": {},
   "source": [
    "\n",
    "> JSON Data Types to Python Data Types\n",
    "\n",
    "* object - > dictionary\n",
    "* array - > list\n",
    "* string -> str\n",
    "* number(int) -> int\n",
    "* number(real) -> float\n",
    "* number(complex) not implemented\n",
    "* true -> True\n",
    "* false -> False\n",
    "* null -> None\n",
    "\n",
    "> Python Data Types to JSON Data Types\n",
    "\n",
    "* dictionary -> object\n",
    "* list, tuple -> array\n",
    "* str -> string\n",
    "* int -> number\n",
    "* float -> number\n",
    "* True -> true\n",
    "* False -> false\n",
    "* None -> null"
   ]
  },
  {
   "cell_type": "markdown",
   "id": "9bf5ae3b",
   "metadata": {},
   "source": [
    "# Writing JSON Data"
   ]
  },
  {
   "cell_type": "code",
   "execution_count": 15,
   "id": "b9c28214",
   "metadata": {},
   "outputs": [
    {
     "name": "stdout",
     "output_type": "stream",
     "text": [
      "<class 'dict'>\n"
     ]
    }
   ],
   "source": [
    "data = {\n",
    "    \"B2\": {\n",
    "        \"name\": \"Buyer Two\",\n",
    "        \"currency\": 400,\n",
    "        \"values\": [200, 175, 150, 100]\n",
    "    },\n",
    "    \"B1\": {\n",
    "        \"name\": \"Buyer One\",\n",
    "        \"currency\": 500,\n",
    "        \"values\": [200, 175, 150, 100]\n",
    "    },\n",
    "    \"S1\": {\n",
    "        \"name\": \"Seller One\",\n",
    "        \"currency\": 300,\n",
    "        \"costs\": [50, 75, 100, 125]\n",
    "    }   \n",
    "}\n",
    "print(type(data))\n"
   ]
  },
  {
   "cell_type": "code",
   "execution_count": 16,
   "id": "4eed5233",
   "metadata": {},
   "outputs": [],
   "source": [
    "with open(\"data_file.json\", \"w\") as write_file:\n",
    "    json.dump(data, write_file)"
   ]
  },
  {
   "cell_type": "markdown",
   "id": "3c32a864",
   "metadata": {},
   "source": [
    "> Instead you can use the **.dumps()** method to create a string. "
   ]
  },
  {
   "cell_type": "code",
   "execution_count": 17,
   "id": "750ae0cf",
   "metadata": {},
   "outputs": [
    {
     "name": "stdout",
     "output_type": "stream",
     "text": [
      "{\"B2\": {\"name\": \"Buyer Two\", \"currency\": 400, \"values\": [200, 175, 150, 100]}, \"B1\": {\"name\": \"Buyer One\", \"currency\": 500, \"values\": [200, 175, 150, 100]}, \"S1\": {\"name\": \"Seller One\", \"currency\": 300, \"costs\": [50, 75, 100, 125]}}\n",
      "\n",
      "<class 'str'>\n"
     ]
    }
   ],
   "source": [
    "data_s = json.dumps(data)\n",
    "print(data_s)\n",
    "print()\n",
    "print(type(data_s))"
   ]
  },
  {
   "cell_type": "markdown",
   "id": "902aa21d",
   "metadata": {},
   "source": [
    "> To make the file easier to read use the **indent =**  keyword argument"
   ]
  },
  {
   "cell_type": "code",
   "execution_count": 18,
   "id": "8160dec6",
   "metadata": {},
   "outputs": [
    {
     "name": "stdout",
     "output_type": "stream",
     "text": [
      "{\n",
      "    \"B2\": {\n",
      "        \"name\": \"Buyer Two\",\n",
      "        \"currency\": 400,\n",
      "        \"values\": [\n",
      "            200,\n",
      "            175,\n",
      "            150,\n",
      "            100\n",
      "        ]\n",
      "    },\n",
      "    \"B1\": {\n",
      "        \"name\": \"Buyer One\",\n",
      "        \"currency\": 500,\n",
      "        \"values\": [\n",
      "            200,\n",
      "            175,\n",
      "            150,\n",
      "            100\n",
      "        ]\n",
      "    },\n",
      "    \"S1\": {\n",
      "        \"name\": \"Seller One\",\n",
      "        \"currency\": 300,\n",
      "        \"costs\": [\n",
      "            50,\n",
      "            75,\n",
      "            100,\n",
      "            125\n",
      "        ]\n",
      "    }\n",
      "}\n"
     ]
    }
   ],
   "source": [
    "data_is = json.dumps(data, indent=4)\n",
    "print(data_is)"
   ]
  },
  {
   "cell_type": "markdown",
   "id": "dbe42f75",
   "metadata": {},
   "source": [
    "> you can also use the **sort_keys = True** argument \n",
    "\n",
    "Notice how it changes the order of things which is not always better"
   ]
  },
  {
   "cell_type": "code",
   "execution_count": 19,
   "id": "105da452",
   "metadata": {},
   "outputs": [
    {
     "name": "stdout",
     "output_type": "stream",
     "text": [
      "{\n",
      "    \"B1\": {\n",
      "        \"currency\": 500,\n",
      "        \"name\": \"Buyer One\",\n",
      "        \"values\": [\n",
      "            200,\n",
      "            175,\n",
      "            150,\n",
      "            100\n",
      "        ]\n",
      "    },\n",
      "    \"B2\": {\n",
      "        \"currency\": 400,\n",
      "        \"name\": \"Buyer Two\",\n",
      "        \"values\": [\n",
      "            200,\n",
      "            175,\n",
      "            150,\n",
      "            100\n",
      "        ]\n",
      "    },\n",
      "    \"S1\": {\n",
      "        \"costs\": [\n",
      "            50,\n",
      "            75,\n",
      "            100,\n",
      "            125\n",
      "        ],\n",
      "        \"currency\": 300,\n",
      "        \"name\": \"Seller One\"\n",
      "    }\n",
      "}\n"
     ]
    }
   ],
   "source": [
    "data_is = json.dumps(data, sort_keys=True, indent=4)\n",
    "print(data_is)"
   ]
  },
  {
   "cell_type": "markdown",
   "id": "2bc1eebd",
   "metadata": {},
   "source": [
    "# Reading JSON Data"
   ]
  },
  {
   "cell_type": "code",
   "execution_count": 13,
   "id": "c47e0b14",
   "metadata": {},
   "outputs": [
    {
     "data": {
      "text/plain": [
       "{'B1': {'name': 'Buyer One', 'currency': 500, 'values': [200, 175, 150, 100]},\n",
       " 'S1': {'name': 'Seller One', 'currency': 300, 'costs': [50, 75, 100, 125]}}"
      ]
     },
     "execution_count": 13,
     "metadata": {},
     "output_type": "execute_result"
    }
   ],
   "source": [
    "with open(\"data_file.json\", \"r\") as read_file:\n",
    "    data = json.load(read_file)\n",
    "data"
   ]
  },
  {
   "cell_type": "markdown",
   "id": "8bdf1b84",
   "metadata": {},
   "source": [
    "> Instead you can use the **.laods()** method to create a dictionary again. "
   ]
  },
  {
   "cell_type": "code",
   "execution_count": 14,
   "id": "7c01a849",
   "metadata": {},
   "outputs": [
    {
     "data": {
      "text/plain": [
       "{'B1': {'name': 'Buyer One', 'currency': 500, 'values': [200, 175, 150, 100]},\n",
       " 'S1': {'name': 'Seller One', 'currency': 300, 'costs': [50, 75, 100, 125]}}"
      ]
     },
     "execution_count": 14,
     "metadata": {},
     "output_type": "execute_result"
    }
   ],
   "source": [
    "data_ds = json.loads(data_is)\n",
    "data_ds"
   ]
  },
  {
   "cell_type": "markdown",
   "id": "7c446fe2",
   "metadata": {},
   "source": [
    "# More to learn"
   ]
  },
  {
   "cell_type": "markdown",
   "id": "dc527cab",
   "metadata": {},
   "source": [
    "* [Pandas and JSON](https://towardsdatascience.com/how-to-parse-json-data-with-python-pandas-f84fbd0b1025)\n",
    "* [LMESPath - Query language for JSON](https://jmespath.org/)"
   ]
  }
 ],
 "metadata": {
  "kernelspec": {
   "display_name": "Python 3 (ipykernel)",
   "language": "python",
   "name": "python3"
  },
  "language_info": {
   "codemirror_mode": {
    "name": "ipython",
    "version": 3
   },
   "file_extension": ".py",
   "mimetype": "text/x-python",
   "name": "python",
   "nbconvert_exporter": "python",
   "pygments_lexer": "ipython3",
   "version": "3.7.9"
  },
  "toc": {
   "base_numbering": 1,
   "nav_menu": {},
   "number_sections": true,
   "sideBar": true,
   "skip_h1_title": false,
   "title_cell": "Table of Contents",
   "title_sidebar": "Contents",
   "toc_cell": false,
   "toc_position": {},
   "toc_section_display": true,
   "toc_window_display": false
  }
 },
 "nbformat": 4,
 "nbformat_minor": 5
}
