{
 "cells": [
  {
   "cell_type": "markdown",
   "id": "1d9fefa7",
   "metadata": {},
   "source": [
    "# Introduction\n",
    "\n",
    "> Each web page is different\n",
    "\n",
    "> Web pages change"
   ]
  },
  {
   "cell_type": "markdown",
   "id": "477b80da",
   "metadata": {},
   "source": [
    "# Follow the law and be careful what you scrape\n",
    "\n",
    "[Nice article on this](https://benbernardblog.com/web-scraping-and-crawling-are-perfectly-legal-right/)"
   ]
  },
  {
   "cell_type": "markdown",
   "id": "97f777f7",
   "metadata": {},
   "source": [
    "# APIs (Application Programming Interface)\n",
    "\n",
    "Return JSON, XML, YAML etc. (lightwieght formats for storing and transporting data) "
   ]
  },
  {
   "cell_type": "markdown",
   "id": "2297ec4d",
   "metadata": {},
   "source": [
    "# Web Scraping process\n",
    "\n",
    "1. Examine\n",
    "2. Scrape\n",
    "3. Parse"
   ]
  },
  {
   "cell_type": "markdown",
   "id": "085b903a",
   "metadata": {},
   "source": [
    "# Examine the Web Page\n",
    "\n",
    "## Explore\n",
    "\n",
    "Lets take a look at the [American Economics Society Website](https://www.aeaweb.org/) \n",
    "\n",
    "## Understanding URL's\n",
    "\n",
    "Lets take a closer look at [Internet Resources for Economists Webpage](https://www.aeaweb.org/rfe/showCat.php?cat_id=91)\n",
    "\n",
    "It looks like this:\n",
    "> <font size=\"6\">```https://www.aeaweb.org/rfe/showCat.php?cat_id=91```</font>\n",
    "\n",
    "which can be decomposed into:\n",
    "\n",
    "<font size=\"6\">Base URL: ```https://www.aeaweb.org/rfe/showCat.php```</font>\n",
    "\n",
    "<font size=\"6\">   Query: ```?cat_id=91```</font>\n",
    "\n",
    "### Deeper Understanding\n",
    "\n",
    "* query parameters often come from information entered on the web page\n",
    "* `?` is the query command\n",
    "*  `cat_id=91` is the query parameter (key=value format\n",
    "    * `cad_id` is the key\n",
    "    * `91` is the value\n",
    "* may include multiple parameters separated by\n",
    "    * `&` separator for and.\n",
    "    \n",
    "### Exercise \n",
    "\n",
    "Spend a few minutes looking at the URLs of other pages on the website"
   ]
  },
  {
   "cell_type": "markdown",
   "id": "68db962c",
   "metadata": {},
   "source": [
    "## Using Developer Tools\n",
    "\n",
    "* This usually works:  Right mouse click on page and choose Inspect\n",
    "\n",
    "* Firefox (Menu -> More Tools -> Web Developer Tools (Ctrl-Shift-I)"
   ]
  },
  {
   "cell_type": "markdown",
   "id": "a31c147e",
   "metadata": {},
   "source": [
    "### Finding HTML elements\n",
    "* Look at Inspector (or elements) and click on box with arrow at far left of menu\n",
    "* If you click on elements on page it will show you where they are in the source."
   ]
  },
  {
   "cell_type": "markdown",
   "id": "96f86d3a",
   "metadata": {},
   "source": [
    "# Scraping the Web Page\n",
    "You may have to `pip install requests` if you don't already have it"
   ]
  },
  {
   "cell_type": "code",
   "execution_count": null,
   "id": "6ec59429",
   "metadata": {},
   "outputs": [],
   "source": [
    "import requests"
   ]
  },
  {
   "cell_type": "markdown",
   "id": "ee4cf22b",
   "metadata": {},
   "source": [
    "## Static Websites"
   ]
  },
  {
   "cell_type": "code",
   "execution_count": null,
   "id": "a5f3167c",
   "metadata": {},
   "outputs": [],
   "source": [
    "url = \"https://www.aeaweb.org/rfe/showCat.php?cat_id=96\"\n",
    "response = requests.get(url)\n",
    "type(response.content)"
   ]
  },
  {
   "cell_type": "code",
   "execution_count": null,
   "id": "ea7fc74d",
   "metadata": {},
   "outputs": [],
   "source": [
    "response.content[:500]"
   ]
  },
  {
   "cell_type": "code",
   "execution_count": null,
   "id": "33549f5e",
   "metadata": {},
   "outputs": [],
   "source": [
    "loc = str(response.content).find('Tyler')\n",
    "print(loc)\n",
    "response.content[loc-100:loc+100]"
   ]
  },
  {
   "cell_type": "markdown",
   "id": "b363d6a2",
   "metadata": {},
   "source": [
    "# Parse: Using Beautiful Soup\n",
    "\n",
    "[webpage](https://www.crummy.com/software/BeautifulSoup/)\n",
    "\n",
    "[documentation](https://www.crummy.com/software/BeautifulSoup/bs4/doc/)"
   ]
  },
  {
   "cell_type": "code",
   "execution_count": null,
   "id": "9ecba315",
   "metadata": {},
   "outputs": [],
   "source": [
    "from bs4 import BeautifulSoup as bsoup\n",
    "soup = bsoup(response.content)\n",
    "print(soup.prettify())"
   ]
  },
  {
   "cell_type": "code",
   "execution_count": null,
   "id": "abe5077d",
   "metadata": {},
   "outputs": [],
   "source": [
    "soup.head"
   ]
  },
  {
   "cell_type": "code",
   "execution_count": null,
   "id": "e2e9efa4",
   "metadata": {},
   "outputs": [],
   "source": [
    "soup.title"
   ]
  },
  {
   "cell_type": "code",
   "execution_count": null,
   "id": "1ec9a37c",
   "metadata": {},
   "outputs": [],
   "source": [
    "soup.body"
   ]
  },
  {
   "cell_type": "code",
   "execution_count": null,
   "id": "22acbde2",
   "metadata": {},
   "outputs": [],
   "source": [
    "soup.body.find_all('ul')"
   ]
  },
  {
   "cell_type": "code",
   "execution_count": null,
   "id": "a18df655",
   "metadata": {},
   "outputs": [],
   "source": [
    "soup.p"
   ]
  },
  {
   "cell_type": "code",
   "execution_count": null,
   "id": "f944751a",
   "metadata": {},
   "outputs": [],
   "source": [
    "result = soup.find_all('a')\n",
    "result"
   ]
  },
  {
   "cell_type": "code",
   "execution_count": null,
   "id": "5ce5fb02",
   "metadata": {},
   "outputs": [],
   "source": [
    "for link in result:\n",
    "    print(link.get('href'))"
   ]
  },
  {
   "cell_type": "code",
   "execution_count": null,
   "id": "5a8bde6b",
   "metadata": {},
   "outputs": [],
   "source": [
    "print(soup.get_text())"
   ]
  },
  {
   "cell_type": "code",
   "execution_count": null,
   "id": "3b97bdd6",
   "metadata": {},
   "outputs": [],
   "source": [
    "print(type(soup.get_text()))"
   ]
  },
  {
   "cell_type": "code",
   "execution_count": null,
   "id": "79612646",
   "metadata": {},
   "outputs": [],
   "source": [
    "'Tyler' in soup.get_text()\n"
   ]
  }
 ],
 "metadata": {
  "kernelspec": {
   "display_name": "Python 3 (ipykernel)",
   "language": "python",
   "name": "python3"
  },
  "language_info": {
   "codemirror_mode": {
    "name": "ipython",
    "version": 3
   },
   "file_extension": ".py",
   "mimetype": "text/x-python",
   "name": "python",
   "nbconvert_exporter": "python",
   "pygments_lexer": "ipython3",
   "version": "3.7.9"
  },
  "toc": {
   "base_numbering": 1,
   "nav_menu": {},
   "number_sections": true,
   "sideBar": true,
   "skip_h1_title": false,
   "title_cell": "Table of Contents",
   "title_sidebar": "Contents",
   "toc_cell": false,
   "toc_position": {},
   "toc_section_display": true,
   "toc_window_display": false
  }
 },
 "nbformat": 4,
 "nbformat_minor": 5
}
