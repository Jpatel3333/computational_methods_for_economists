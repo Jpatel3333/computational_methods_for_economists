{
 "cells": [
  {
   "cell_type": "markdown",
   "metadata": {},
   "source": [
    "# Files and File Handling\n",
    "Files are permanent data structures used to store data on external storage devices such as your computer's hard drive or a USB Flash Drive. In the next section we will look at how to locate files on a windows system.  To do this we will use a built-in module called `os` which stands for operating system. "
   ]
  },
  {
   "cell_type": "markdown",
   "metadata": {},
   "source": [
    "# Using `os` on your computer"
   ]
  },
  {
   "cell_type": "code",
   "execution_count": 2,
   "metadata": {},
   "outputs": [
    {
     "name": "stdout",
     "output_type": "stream",
     "text": [
      "C:\\Users\\Desktop\\Desktop\n",
      " string_to_class_examples.ipynb\n",
      ".ipynb_checkpoints\n",
      "1678198366.pdf\n",
      "2020 Background Work\n",
      "2020 CSN Workshop Tax Considerations.pdf\n",
      "7 Tools to Write a Novel SCREEN_iPAD.pdf\n",
      "Abstarct for lending paper.docx\n",
      "agoric_test_blockchain_startup.txt\n",
      "algorithmicthinking_aproblem-basedintroduction.pdf\n",
      "AMM_roadmap.txt\n",
      "arg.py\n",
      "Auction Computations Larson Sandholm.pdf\n",
      "Auction Dynamics of entry and exit Compte and Jehiel 2007.pdf\n",
      "Authors\n",
      "Avada_Full_Package\n",
      "bitcoin economics simple 2019.pdf\n",
      "Bitcoin.docx\n",
      "bitcoins academic pedigree.pdf\n",
      "bitcoin_a_revolution-Haeringer_Halaburda_2018.pdf\n",
      "blockchain_chalolenges_and_opportunities.pdf\n",
      "blockchain_economics_abadi_brummermeisser_2018.pdf\n",
      "blockchain_technology_overview.pdf\n",
      "Blockchain_Token_Economics_A_Mean-Field-Type_Game_Perspective-2.pdf\n",
      "Blooms Taxonomy.docx\n",
      "Books\n",
      "CEE Screencast on Notebook 2\n",
      "celab_cmms_104_v5_sequences.ipynb\n",
      "celab_cmms_105_v5_dictionaries.ipynb\n",
      "celab_cmms_106_v5_files.ipynb\n",
      "Checklist-Create-Effective-Video.pdf\n",
      "ChessEngine-master\n",
      "chiu_koeppl_economics_of_cryptocurrencies_2019.pdf\n",
      "CM Lecture 1-1.pdf\n",
      "Compte and Jehiel.pdf\n",
      "Computational Economics.docx\n",
      "Computational Methods Schedule and Topics.docx\n",
      "Computations for Economists.docx\n",
      "computing in mechanism design.Palgrave.beforeMissingSpaceInserted.pdf\n",
      "convex_optimization.pdf\n",
      "convex_optimization_slides.pdf\n",
      "Copy of Payloads Exchange - REU-1.xlsx\n",
      "Cournot-Bertrand Game.png\n",
      "CSN_primer_2_expressions.ipynb\n",
      "CSN_primer_3_functions(1).ipynb\n",
      "CSN_Primer_Python_Data_Expressions(1).ipynb\n",
      "Data Explorer.ipynb\n",
      "debug.log\n",
      "Deception\n",
      "Decision Making\n",
      "DeFi\n",
      "descriptive_parent1_AMM.ipynb\n",
      "desktop.ini\n",
      "Dictator_Game_Giving.jpg\n",
      "directives.docx\n",
      "Discord.lnk\n",
      "Docker Desktop.lnk\n",
      "document(13).pdf\n",
      "Drones Dangerous Animals Peeping Toms IJESB Oct 2018.pdf\n",
      "duffy_unver.pdf\n",
      "Dwork-Naor1993_Chapter_PricingViaProcessingOrCombatti.pdf\n",
      "Dynamic Pricing Algorithms.docx\n",
      "economic analysis of the bitcoin payment system.pdf\n",
      "Economics of blockchain Davidson et al 2016.pdf\n",
      "education-pro_1.0.4.zip\n",
      "Effects_of_Collateral_Institutions_on_Lending_5.pdf\n",
      "envanto\n",
      "Escrow Resrearch ToDo List.docx\n",
      "evaluating user privacy in bitcoin2.pdf\n",
      "Exam Question 1.docx\n",
      "Exam Question v2.docx\n",
      "Exam Question.docx\n",
      "examples\n",
      "Food_Nutrition_Health\n",
      "getting_started.txt\n",
      "GitHub Desktop.lnk\n",
      "github-recovery-codes.txt\n",
      "GMT20200831-200100_Kevin-McCa_1920x1010.mp4\n",
      "Gruter 2020 Test V2.pptx\n",
      "Halaburda_etal_2021-the_mircoeconomics-of-cryptocurrecies.pdf\n",
      "Holt Laury Review v10.docx\n",
      "Holt-Laury Review References\n",
      "Humble Bundle Books\n",
      "ICES Professional Activities .docx\n",
      "IFREE-CEELAB Workshop.pdf\n",
      "images\n",
      "IMG_2972.JPG\n",
      "Incomplete Information Ultimatum Bargaining.ipynb\n",
      "Intor to Notebook 3.mp4\n",
      "Jupyter\n",
      "Jupyter_Primer(1).ipynb\n",
      "Kindle.lnk\n",
      "linear_algebra.pdf\n",
      "linear_algebra__slides.pdf\n",
      "Maggie\n",
      "Manageiral Economics Schedule and Topics.docx\n",
      "Managerial Economics Outline V2.docx\n",
      "Managerial Economics Outline.docx\n",
      "Markets\n",
      "masks.docx\n",
      "Mastering Blockchain Altcoins_Ethereum_Projects_and_More_Bonus_Content.pdf\n",
      "McCabe review of holt laury paper Holt comments.docx\n",
      "Mechanical Turk\n",
      "meeting_saved_chat.txt\n",
      "Microeconomic Systems as a Computational Science_SK.docx\n",
      "Milgrom Auctions and Bidding.pdf\n",
      "mTree update.docx\n",
      "mTree_log_parser .ipynb\n",
      "Networks and Exchange\n",
      "notbok\n",
      "Perkins-Coie-LLP-White-Paper-AML-Regulation-of-Privacy-enablin.pdf\n",
      "PowerPoint\n",
      "preferneces_for_blockchain_currencies.docx\n",
      "Price_Bubbles_in_Asset_Market_Experiments_with_a_F.pdf\n",
      "Price_bubbles_with_discounting_a_web-based_classro.pdf\n",
      "price_list.png\n",
      "Privacy-Preserving_Solutions_for_Blockchain_Review_and_Challenges-2.pdf\n",
      "Project 1_Freeman-0.5.ipynb\n",
      "Prolific Online Subject Pool  Paper.pdf\n",
      "Property Rights\n",
      "pygame\n",
      "Pyhton 102 V4 Control of Flow(1).ipynb\n",
      "Python - Journey from Novice to Expert.pdf\n",
      "Python Cheat Sheet.pdf\n",
      "python links.docx\n",
      "Python References\n",
      "python.txt\n",
      "pythonlearn.pdf\n",
      "python_cheat_sheet.pdf\n",
      "Quigging 1982, A Theory of Anticipated Utility.pdf\n",
      "Register with MobLab.docx\n",
      "Reilly_Chandler_CME_2018.ipynb\n",
      "research 2020\n",
      "reu\n",
      "REU Summary.docx\n",
      "Risky Exchange.ipynb\n",
      "row_4_decision.png\n",
      "SageMath 9.2 Notebook.lnk\n",
      "SageMath 9.2 Shell.lnk\n",
      "SageMath 9.2.lnk\n",
      "ScienceDirect_articles_05Apr2021_15-39-22.360.zip\n",
      "SciPy_10--Fundamental_Algorithms_for_Scientific_Co.pdf\n",
      "Screencasts\n",
      "simple economics of the blockchain.pdf\n",
      "Smith2000_Article_DividendTimingAndBehaviorInLab.pdf\n",
      "spot_market_cda.ipynb\n",
      "Stake Size in Ultimatum and Trust Games.pdf\n",
      "Supply and Demand.pdf\n",
      "supply_demand.jpg\n",
      "survey of game theory in blockchain.pdf\n",
      "Sustaining-the-Commons-v2.0.pdf\n",
      "taxes\n",
      "taxes_2\n",
      "Test Notebook.ipynb\n",
      "The Art of Experimental Economics_first proofs.pdf\n",
      "The Double Auction.docx\n",
      "The Double Auction.pdf\n",
      "The-Byzantine-Generals-Problem-1.pdf\n",
      "thesbian_in_depth.pdf\n",
      "thesbian_using.pdf\n",
      "Timestamp_bayer_haber_stornetta.pdf\n",
      "Trustworthy_Blockchain_Oracles_Review_Comparison_and_Open_Research_Challenges-1.pdf\n",
      "typ_bookmark_drag_box._CB485941360_.png\n",
      "Untitled.ipynb\n",
      "Using Git for Super-repositories.docx\n",
      "Video Files\n",
      "Videos - Shortcut.lnk\n",
      "Vijay_Mohan, 2021_Automated Market Makers and Decentralized Exchanges - A DeFi Primer.pdf\n",
      "Virtual Worlds\n",
      "Wacker and Deneffe 1996 Trade-Off Elicitation Method.pdf\n",
      "Whiteboard[1]-01.png\n",
      "word\n",
      "working_with_data.ipynb\n",
      "zcash_protocol_specification 20201.pdf\n",
      "Zheng, Weiwei defense signature sheet_signed.pdf\n",
      "Zheng, Weiwei signature sheet summer 2020 copy.pdf\n",
      "ZIPS\n",
      "__pycache__\n",
      "~$aptive Rational Markets.docx\n",
      "~$mputer Information.docx\n"
     ]
    }
   ],
   "source": [
    "import os  # operating system \n",
    "current_working_dir = os.getcwd()   # path to current directory\n",
    "print(current_working_dir)\n",
    "directory = os.listdir(current_working_dir)  # list of files and folders in working directory\n",
    "for item in directory:\n",
    "    print(item)"
   ]
  },
  {
   "cell_type": "markdown",
   "metadata": {},
   "source": [
    ">**Note:** we can also build a path by creating a string.  Notice in the example below we have to use `\\\\` to get a single `\\` since `\\` is used as the escape key in a python strings. "
   ]
  },
  {
   "cell_type": "code",
   "execution_count": 3,
   "metadata": {},
   "outputs": [
    {
     "name": "stdout",
     "output_type": "stream",
     "text": [
      "C:\\Users\\Desktop\\\n",
      "\n",
      ".anaconda\n",
      ".astropy\n",
      ".bash_history\n",
      ".ccache\n",
      ".conda\n"
     ]
    }
   ],
   "source": [
    "path = \"C:\\\\Users\\\\Desktop\\\\\"  # Build Your Own Path notice \\\\ in string to get \\\n",
    "print(path)\n",
    "print()\n",
    "new_directory = os.listdir(path)\n",
    "for k, item in enumerate(new_directory):\n",
    "    if k < 5:\n",
    "        print(item)\n",
    "    else:\n",
    "        break"
   ]
  },
  {
   "cell_type": "markdown",
   "metadata": {},
   "source": [
    "# Writing and Reading Text Files\n",
    "\n",
    "## writing\n",
    "\n",
    "```python\n",
    "output_file = open(path, 'w')      # the 'w' is for write\n",
    "output_file.write(\"a nice string\") # write a line\n",
    "output_file.close()                # close the file\n",
    "output_file = open(path, 'a')      # open file to append lines\n",
    "```\n",
    "## reading\n",
    "\n",
    "```python\n",
    "input_file = open(path)               # remeber to use \\\\ in paths\n",
    "file_content = input_file.read()      # one really large string\n",
    "file_content = input_file.readline()  # one line\n",
    "file_content = input_file.readlines() # a list of string lines\n",
    "```\n"
   ]
  },
  {
   "cell_type": "code",
   "execution_count": 4,
   "metadata": {},
   "outputs": [
    {
     "name": "stdout",
     "output_type": "stream",
     "text": [
      "Enter the filename test_2test_2\n",
      "C:\\Users\\Desktop\\Desktop\\test_2.txt\n"
     ]
    }
   ],
   "source": [
    "import os\n",
    "\n",
    "# set up path\n",
    "current_working_dir = os.getcwd()+\"\\\\\"\n",
    "file_name = input(\"Enter the filename test_2\")\n",
    "path = current_working_dir + file_name + '.txt'\n",
    "print(path)\n",
    "\n",
    "# start writing out to file\n",
    "output_file = open(path, 'w')          # the 'w' is for write\n",
    "output_file.write(\"a nice string\\n\")   # write a line, \n",
    "                                       # notice \\n needed for new line\n",
    "output_file.write(\"1, 2, 3, 4\")        # write another line\n",
    "output_file.close() \n"
   ]
  },
  {
   "cell_type": "code",
   "execution_count": 5,
   "metadata": {},
   "outputs": [
    {
     "name": "stdout",
     "output_type": "stream",
     "text": [
      "a nice string\n"
     ]
    }
   ],
   "source": [
    "# This examples reads one line and prints it\n",
    "\n",
    "input_file = open(path)\n",
    "line = input_file.readline()\n",
    "print(line, end=\"\")\n",
    "input_file.close()"
   ]
  },
  {
   "cell_type": "code",
   "execution_count": 6,
   "metadata": {},
   "outputs": [
    {
     "name": "stdout",
     "output_type": "stream",
     "text": [
      "a nice string\n",
      "1, 2, 3, 4\n"
     ]
    }
   ],
   "source": [
    "# This example reads the whole file as one string and prints it\n",
    "\n",
    "input_file = open(path)\n",
    "file_contents = input_file.read()\n",
    "print(file_contents)\n",
    "input_file.close()"
   ]
  },
  {
   "cell_type": "code",
   "execution_count": 7,
   "metadata": {},
   "outputs": [
    {
     "name": "stdout",
     "output_type": "stream",
     "text": [
      "['a nice string\\n', '1, 2, 3, 4']\n"
     ]
    }
   ],
   "source": [
    "# This example read assigns each line of the file to a list element \n",
    "\n",
    "input_file = open(path)\n",
    "line = input_file.readlines()\n",
    "print(line)\n",
    "input_file.close()"
   ]
  },
  {
   "cell_type": "code",
   "execution_count": 8,
   "metadata": {},
   "outputs": [
    {
     "name": "stdout",
     "output_type": "stream",
     "text": [
      "a nice string\n",
      "1, 2, 3, 4"
     ]
    }
   ],
   "source": [
    "# This examples uses a loop to read and print all lines\n",
    "\n",
    "input_file = open(path)\n",
    "for line in input_file:\n",
    "    print(line, end =\"\")\n",
    "input_file.close()"
   ]
  },
  {
   "cell_type": "code",
   "execution_count": 9,
   "metadata": {},
   "outputs": [
    {
     "name": "stdout",
     "output_type": "stream",
     "text": [
      "a nice string\n",
      "1, 2, 3, 4\n",
      "We are done\n"
     ]
    }
   ],
   "source": [
    "# This code uses a 'with' statement to open the file\n",
    "# using 'with' will automatically close a file\n",
    "\n",
    "with open(path) as input_file:\n",
    "    for line in input_file:\n",
    "        print(line, end =\"\")\n",
    "print()\n",
    "print(\"We are done\")"
   ]
  },
  {
   "cell_type": "markdown",
   "metadata": {},
   "source": [
    "# Exercise \n",
    "\n",
    "Open a code cell below and write a program to write to a file called `eg2.txt`.  The file will have 20 lines and each line in the file, from 0, ..., 19, contains the two numbers, `line_number, line_number**2`.  Thus the first four lines of the file are,\n",
    "```\n",
    "0, 0\n",
    "1, 1\n",
    "2, 4\n",
    "3, 9\n",
    "```\n",
    "Once the lines are written read the file and print the lines."
   ]
  },
  {
   "cell_type": "markdown",
   "metadata": {},
   "source": [
    "# CSV Files\n",
    "\n",
    "CSV stands for comma seperated values.  This is a typical file format used for data files.  Python has a built-in module for dealing with CSV files.  Below is an example."
   ]
  },
  {
   "cell_type": "code",
   "execution_count": 17,
   "metadata": {},
   "outputs": [],
   "source": [
    "import csv  #uncomment help to see it\n",
    "#help(csv)"
   ]
  },
  {
   "cell_type": "code",
   "execution_count": 14,
   "metadata": {},
   "outputs": [],
   "source": [
    "import csv  # handles csv type files\n",
    "\n",
    "# write a csv file\n",
    "output_file = open('example.csv', 'w', newline='')\n",
    "output_writer = csv.writer(output_file)\n",
    "output_writer.writerow(['spam', 'eggs', 'bacon'])  # write a list as a row\n",
    "output_writer.writerow([1, 2, 3.14159])\n",
    "output_file.close()"
   ]
  },
  {
   "cell_type": "code",
   "execution_count": 15,
   "metadata": {},
   "outputs": [
    {
     "name": "stdout",
     "output_type": "stream",
     "text": [
      "[['spam', 'eggs', 'bacon'], ['1', '2', '3.14159']]\n"
     ]
    }
   ],
   "source": [
    "# read a csv file all at one time\n",
    "input_file = open('example.csv')\n",
    "input_reader = csv.reader(input_file)\n",
    "all_data = list(input_reader)\n",
    "print(all_data)"
   ]
  },
  {
   "cell_type": "code",
   "execution_count": 22,
   "metadata": {},
   "outputs": [
    {
     "name": "stdout",
     "output_type": "stream",
     "text": [
      "['spam', 'eggs', 'bacon']\n",
      "['1', '2', '3.14159']\n",
      "['1', '2', '3.14159'] <class 'list'> 1 <class 'str'>\n"
     ]
    }
   ],
   "source": [
    "# read a csv file one line at a time\n",
    "import csv\n",
    "input_file = open('example.csv')\n",
    "input_reader = csv.reader(input_file)\n",
    "for row in input_reader:\n",
    "    print(row)\n",
    "print(row, type(row), row[0], type(row[0]))"
   ]
  },
  {
   "cell_type": "code",
   "execution_count": 23,
   "metadata": {},
   "outputs": [
    {
     "ename": "FileNotFoundError",
     "evalue": "[Errno 2] No such file or directory: 'exmple.csv'",
     "output_type": "error",
     "traceback": [
      "\u001b[1;31m---------------------------------------------------------------------------\u001b[0m",
      "\u001b[1;31mFileNotFoundError\u001b[0m                         Traceback (most recent call last)",
      "\u001b[1;32m<ipython-input-23-55875dfedaa7>\u001b[0m in \u001b[0;36m<module>\u001b[1;34m\u001b[0m\n\u001b[0;32m      1\u001b[0m \u001b[1;31m# lets create an error\u001b[0m\u001b[1;33m\u001b[0m\u001b[1;33m\u001b[0m\u001b[1;33m\u001b[0m\u001b[0m\n\u001b[1;32m----> 2\u001b[1;33m \u001b[0minput_file\u001b[0m \u001b[1;33m=\u001b[0m \u001b[0mopen\u001b[0m\u001b[1;33m(\u001b[0m\u001b[1;34m'exmple.csv'\u001b[0m\u001b[1;33m)\u001b[0m\u001b[1;33m\u001b[0m\u001b[1;33m\u001b[0m\u001b[0m\n\u001b[0m\u001b[0;32m      3\u001b[0m \u001b[0minput_reader\u001b[0m \u001b[1;33m=\u001b[0m \u001b[0mcsv\u001b[0m\u001b[1;33m.\u001b[0m\u001b[0mreader\u001b[0m\u001b[1;33m(\u001b[0m\u001b[0minput_file\u001b[0m\u001b[1;33m)\u001b[0m\u001b[1;33m\u001b[0m\u001b[1;33m\u001b[0m\u001b[0m\n\u001b[0;32m      4\u001b[0m \u001b[1;32mfor\u001b[0m \u001b[0mrow\u001b[0m \u001b[1;32min\u001b[0m \u001b[0minput_reader\u001b[0m\u001b[1;33m:\u001b[0m\u001b[1;33m\u001b[0m\u001b[1;33m\u001b[0m\u001b[0m\n\u001b[0;32m      5\u001b[0m     \u001b[0mprint\u001b[0m\u001b[1;33m(\u001b[0m\u001b[0mrow\u001b[0m\u001b[1;33m)\u001b[0m\u001b[1;33m\u001b[0m\u001b[1;33m\u001b[0m\u001b[0m\n",
      "\u001b[1;31mFileNotFoundError\u001b[0m: [Errno 2] No such file or directory: 'exmple.csv'"
     ]
    }
   ],
   "source": [
    "# lets create an error\n",
    "input_file = open('exmple.csv')\n",
    "input_reader = csv.reader(input_file)\n",
    "for row in input_reader:\n",
    "    print(row)"
   ]
  },
  {
   "cell_type": "code",
   "execution_count": 24,
   "metadata": {},
   "outputs": [
    {
     "name": "stdout",
     "output_type": "stream",
     "text": [
      "[Errno 2] No such file or directory: 'exmple.csv'\n"
     ]
    }
   ],
   "source": [
    "# lets trap this error\n",
    "path = 'exmple.csv'\n",
    "try: \n",
    "    input_file = open(path)\n",
    "    input_reader = csv.reader(input_file)\n",
    "    for row in input_reader:\n",
    "        print(row)\n",
    "except OSError as err:\n",
    "    print(err)"
   ]
  },
  {
   "cell_type": "markdown",
   "metadata": {},
   "source": [
    "How many system error in Windows are there https://msdn.microsoft.com/en-us/library/windows/desktop/ms681382(v=vs.85).aspx"
   ]
  },
  {
   "cell_type": "markdown",
   "metadata": {},
   "source": [
    "# Read and write a file using key:value pairs\n",
    "\n",
    "The shelve module allows us to read and write to a binary file using key: value pairs.  Typical usage is as follows.  See documentation [here](https://docs.python.org/3/library/shelve.html)."
   ]
  },
  {
   "cell_type": "code",
   "execution_count": 25,
   "metadata": {},
   "outputs": [
    {
     "name": "stdout",
     "output_type": "stream",
     "text": [
      "C:\\Users\\Desktop\\Dropbox\\2021 McCabe Work\\notebooks\\CMMS 100\\shelve_eg1\n"
     ]
    }
   ],
   "source": [
    "import os\n",
    "import shelve\n",
    "\n",
    "# set up path\n",
    "current_working_dir = os.getcwd()+\"\\\\\"\n",
    "file_name = \"shelve_eg1\"\n",
    "path = current_working_dir + file_name\n",
    "print(path)\n",
    "\n",
    "# start writing out to file\n",
    "shelf_file = shelve.open(path)         # open a shelve file\n",
    "shelf_file['stooges'] = [\"Larry\", \"Moe\", \"Joe\", \"Curly\"]\n",
    "shelf_file['number'] = 3\n",
    "shelf_file.close()"
   ]
  },
  {
   "cell_type": "code",
   "execution_count": 26,
   "metadata": {},
   "outputs": [
    {
     "name": "stdout",
     "output_type": "stream",
     "text": [
      "<class 'shelve.DbfilenameShelf'>\n",
      "['Larry', 'Moe', 'Joe', 'Curly']\n",
      "3\n"
     ]
    }
   ],
   "source": [
    "input_shelf = shelve.open(path)\n",
    "print(type(input_shelf))\n",
    "print(input_shelf['stooges'])\n",
    "print(input_shelf['number'])"
   ]
  },
  {
   "cell_type": "markdown",
   "metadata": {},
   "source": [
    "# Additional resources\n",
    "\n",
    "Real Python\n",
    "* [working with files](https://realpython.com/working-with-files-in-python/#reading-multiple-files)\n",
    "* [reading and writing files](https://realpython.com/read-write-files-python/)\n",
    "* [raeding and writing csv files](https://realpython.com/python-csv/)\n",
    "\n"
   ]
  }
 ],
 "metadata": {
  "kernelspec": {
   "display_name": "Python 3 (ipykernel)",
   "language": "python",
   "name": "python3"
  },
  "language_info": {
   "codemirror_mode": {
    "name": "ipython",
    "version": 3
   },
   "file_extension": ".py",
   "mimetype": "text/x-python",
   "name": "python",
   "nbconvert_exporter": "python",
   "pygments_lexer": "ipython3",
   "version": "3.7.9"
  },
  "toc": {
   "base_numbering": 1,
   "nav_menu": {},
   "number_sections": true,
   "sideBar": true,
   "skip_h1_title": false,
   "title_cell": "Table of Contents",
   "title_sidebar": "Contents",
   "toc_cell": false,
   "toc_position": {},
   "toc_section_display": true,
   "toc_window_display": true
  }
 },
 "nbformat": 4,
 "nbformat_minor": 4
}
