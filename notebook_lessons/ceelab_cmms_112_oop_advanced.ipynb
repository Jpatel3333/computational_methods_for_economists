{
 "cells": [
  {
   "cell_type": "markdown",
   "id": "bb661253-2aa4-42ad-98ad-a0dd4a2da158",
   "metadata": {},
   "source": [
    "# Properties and Data Classes"
   ]
  },
  {
   "cell_type": "code",
   "execution_count": null,
   "id": "dfc7d26a-e064-401e-9d3d-e9b68220b91d",
   "metadata": {},
   "outputs": [],
   "source": [
    "class ReservationValues:\n",
    "    \"\"\" Holds a list of reservation values for a single buyer.\n",
    "        attributes: self.reservation_values\n",
    "    \"\"\"\n",
    "    \n",
    "    def __init__(self, reservation_values):\n",
    "        self.reservation_values = reservation_values\n",
    "        # reservation values are sorted to enforce the diminishing marginal values rule\n",
    "        self.reservation_values.sort(reverse=True)\n",
    "\n",
    "    def __repr__(self):\n",
    "        return str(self.reservation_values)\n",
    "    \n",
    "    def check_values(self):\n",
    "        \"\"\" Checks to see if reservation values are integers\n",
    "           and non_negative.\n",
    "        \"\"\"\n",
    "        for value in reservation_values:\n",
    "            if type(value) != int: return False\n",
    "            if value < 0: return False\n",
    "        return True\n",
    "         "
   ]
  },
  {
   "cell_type": "code",
   "execution_count": null,
   "id": "b60ab0da-b3e1-46fc-b6fd-0c032b50d67c",
   "metadata": {},
   "outputs": [],
   "source": [
    "obj_1 = ReservationValues([100, 45, 75])\n",
    "print(obj_1)"
   ]
  },
  {
   "cell_type": "code",
   "execution_count": null,
   "id": "2d2653eb-9aad-4e21-9cf9-5f24e048ed87",
   "metadata": {},
   "outputs": [],
   "source": [
    "# Typical usage\n",
    "frank_values = ReservationValues([50, 25, 75])\n",
    "# Notice values have been automatically sorted in descending order\n",
    "print(f\" Frank's values = {frank_values.reservation_values}\")\n",
    "alice_values = ReservationValues([10, 120, 50])\n",
    "print(f\" Alice's values = {alice_values.reservation_values}\")\n"
   ]
  },
  {
   "cell_type": "markdown",
   "id": "ca702e69-bafe-4f67-815e-ba86e87eb9d7",
   "metadata": {},
   "source": [
    "## Properties\n",
    "\n",
    ">Properties allow us to treat methods as attributes.  What happens is the method will have code to do some processing and the resulting value will be pointed to by an attribute name equal to the method name.\n",
    "\n",
    "To do this we add a @property statement before the method.  Here is an example.\n",
    "```python\n",
    "@property\n",
    "def current_value(self):\n",
    "    return self.reservation_values[sel.current_unit]\n",
    "```\n",
    "We will make a few changes to the `ReservationValues` class by adding a owners_name to ReservationValues object and adding the the current_value property/attribute"
   ]
  },
  {
   "cell_type": "code",
   "execution_count": null,
   "id": "132d6293-f590-4f03-9503-e022c509c64f",
   "metadata": {},
   "outputs": [],
   "source": [
    "class ReservationValues:\n",
    "    \"\"\" Holds a list of reservation values for a single buyer.\n",
    "        attributes: self.reservation_values\n",
    "    \"\"\"\n",
    "    \n",
    "    def __init__(self, owners_name, reservation_values):\n",
    "        self.owners_name = owners_name\n",
    "        self.reservation_values = reservation_values\n",
    "        assert len(self.reservation_values) > 0, f\"For {self.owners_name} no reservation values were given\"\n",
    "        assert self.check_values(), f\"For {self.owners_name} At least one value is not an integer, or is negative\"\n",
    "        # reservation values are sorted to enforce the diminishing marginal values rule\n",
    "        self.reservation_values.sort(reverse=True)\n",
    "        \n",
    "        self.current_unit = 0 \n",
    "\n",
    "    def __repr__(self):\n",
    "        return self.owners_name + str(self.reservation_values)\n",
    "    \n",
    "    @property\n",
    "    def current_value(self):\n",
    "        try:\n",
    "            return self.reservation_values[self.current_unit]\n",
    "        except IndexError:\n",
    "            return \"does not exist\"\n",
    "\n",
    "    def check_values(self):\n",
    "        \"\"\" Checks to see if reservation values are integers\n",
    "           and non_negative.\n",
    "        \"\"\"\n",
    "        for value in self.reservation_values:\n",
    "            if type(value) != int: return False\n",
    "            if value < 0: return False\n",
    "        return True\n",
    "         "
   ]
  },
  {
   "cell_type": "code",
   "execution_count": null,
   "id": "570cc335-be07-47b8-b54e-248b5f8a5aec",
   "metadata": {},
   "outputs": [],
   "source": [
    "# Typical usage\n",
    "frank_values = ReservationValues('Frank',[50, 25, 75])\n",
    "# Notice values have been automatically sorted in descending order\n",
    "print(frank_values)\n",
    "alice_values = ReservationValues('Alice',[10, 120, 50])\n",
    "print(alice_values)\n",
    "print(frank_values.current_value)\n",
    "frank_values.current_unit = 2\n",
    "print(frank_values.current_value)"
   ]
  },
  {
   "cell_type": "markdown",
   "id": "df7f1a10-a69f-49e6-9411-8c68e1e6b48c",
   "metadata": {},
   "source": [
    "## Data Classes"
   ]
  },
  {
   "cell_type": "code",
   "execution_count": 1,
   "id": "7e749ced-fbdb-40d7-bd8b-e765fdb80d37",
   "metadata": {},
   "outputs": [],
   "source": [
    "from dataclasses import dataclass\n",
    "\n",
    "@dataclass\n",
    "class ReservationValues:\n",
    "    reservation_values: list\n",
    "  "
   ]
  },
  {
   "cell_type": "code",
   "execution_count": 3,
   "id": "55264270-3cf3-44cc-9440-36d6b823336a",
   "metadata": {},
   "outputs": [
    {
     "name": "stdout",
     "output_type": "stream",
     "text": [
      "ReservationValues(reservation_values=[100, 50, 10])\n"
     ]
    }
   ],
   "source": [
    "franks_values = ReservationValues([100, 50, 10])\n",
    "print(franks_values)"
   ]
  },
  {
   "cell_type": "markdown",
   "id": "88b6e65c-535a-41a3-ba20-5ca2d4b5f8b2",
   "metadata": {},
   "source": [
    "`@dataclass` adds some methods to our class including\n",
    "'__init__'\n",
    "`__repr__`\n",
    "`__eq__`\n"
   ]
  },
  {
   "cell_type": "code",
   "execution_count": 9,
   "id": "b02604f3-b25e-45a9-bb2d-e0603d58cfef",
   "metadata": {},
   "outputs": [],
   "source": [
    "from dataclasses import dataclass\n",
    "\n",
    "@dataclass\n",
    "class Event:\n",
    "    name: str\n",
    "    pay: float | list\n",
    "    prob: float = .5  #default value\n",
    "\n",
    "    def expected_value(self):\n",
    "        return self.pay*self.prob"
   ]
  },
  {
   "cell_type": "code",
   "execution_count": 13,
   "id": "e6a921ab-777a-4347-bb6c-478c96104ac9",
   "metadata": {},
   "outputs": [
    {
     "name": "stdout",
     "output_type": "stream",
     "text": [
      "Event(name='heads', pay=100, prob=0.5) Event(name='tails', pay=0, prob=0.5)\n",
      "Help on Event in module __main__ object:\n",
      "\n",
      "class Event(builtins.object)\n",
      " |  Event(name: str, pay: float | list, prob: float = 0.5) -> None\n",
      " |\n",
      " |  Event(name: str, pay: float | list, prob: float = 0.5)\n",
      " |\n",
      " |  Methods defined here:\n",
      " |\n",
      " |  __eq__(self, other)\n",
      " |      Return self==value.\n",
      " |\n",
      " |  __init__(self, name: str, pay: float | list, prob: float = 0.5) -> None\n",
      " |      Initialize self.  See help(type(self)) for accurate signature.\n",
      " |\n",
      " |  __repr__(self)\n",
      " |      Return repr(self).\n",
      " |\n",
      " |  expected_value(self)\n",
      " |\n",
      " |  ----------------------------------------------------------------------\n",
      " |  Data descriptors defined here:\n",
      " |\n",
      " |  __dict__\n",
      " |      dictionary for instance variables\n",
      " |\n",
      " |  __weakref__\n",
      " |      list of weak references to the object\n",
      " |\n",
      " |  ----------------------------------------------------------------------\n",
      " |  Data and other attributes defined here:\n",
      " |\n",
      " |  __annotations__ = {'name': <class 'str'>, 'pay': float | list, 'prob':...\n",
      " |\n",
      " |  __dataclass_fields__ = {'name': Field(name='name',type=<class 'str'>,d...\n",
      " |\n",
      " |  __dataclass_params__ = _DataclassParams(init=True,repr=True,eq=True,or...\n",
      " |\n",
      " |  __hash__ = None\n",
      " |\n",
      " |  __match_args__ = ('name', 'pay', 'prob')\n",
      " |\n",
      " |  prob = 0.5\n",
      "\n"
     ]
    }
   ],
   "source": [
    "ev_1 = Event(\"heads\", 100, 0.5)\n",
    "ev_2 = Event(\"tails\", 0)\n",
    "print(ev_1, ev_2)\n",
    "ev_1.expected_value()\n",
    "help(ev_1)"
   ]
  },
  {
   "cell_type": "code",
   "execution_count": 15,
   "id": "de1334d5-e24f-4725-b355-110a0f4bc796",
   "metadata": {},
   "outputs": [],
   "source": [
    "from dataclasses import dataclass\n",
    "\n",
    "@dataclass\n",
    "class Event:\n",
    "    name: str\n",
    "    pay: float\n",
    "    prob: float = .5  #default value\n",
    "    \n",
    "    @property\n",
    "    def expected_value(self):\n",
    "        return self.pay*self.prob"
   ]
  },
  {
   "cell_type": "code",
   "execution_count": 19,
   "id": "ad9c95c0-ea96-4e65-8334-37195cce16b8",
   "metadata": {},
   "outputs": [
    {
     "name": "stdout",
     "output_type": "stream",
     "text": [
      "Event(name='heads', pay=100, prob=0.5) Event(name='tails', pay=0, prob=0.5)\n",
      "50.0\n",
      "Help on Event in module __main__ object:\n",
      "\n",
      "class Event(builtins.object)\n",
      " |  Event(name: str, pay: float, prob: float = 0.5) -> None\n",
      " |\n",
      " |  Event(name: str, pay: float, prob: float = 0.5)\n",
      " |\n",
      " |  Methods defined here:\n",
      " |\n",
      " |  __eq__(self, other)\n",
      " |      Return self==value.\n",
      " |\n",
      " |  __init__(self, name: str, pay: float, prob: float = 0.5) -> None\n",
      " |      Initialize self.  See help(type(self)) for accurate signature.\n",
      " |\n",
      " |  __repr__(self)\n",
      " |      Return repr(self).\n",
      " |\n",
      " |  ----------------------------------------------------------------------\n",
      " |  Readonly properties defined here:\n",
      " |\n",
      " |  expected_value\n",
      " |\n",
      " |  ----------------------------------------------------------------------\n",
      " |  Data descriptors defined here:\n",
      " |\n",
      " |  __dict__\n",
      " |      dictionary for instance variables\n",
      " |\n",
      " |  __weakref__\n",
      " |      list of weak references to the object\n",
      " |\n",
      " |  ----------------------------------------------------------------------\n",
      " |  Data and other attributes defined here:\n",
      " |\n",
      " |  __annotations__ = {'name': <class 'str'>, 'pay': <class 'float'>, 'pro...\n",
      " |\n",
      " |  __dataclass_fields__ = {'name': Field(name='name',type=<class 'str'>,d...\n",
      " |\n",
      " |  __dataclass_params__ = _DataclassParams(init=True,repr=True,eq=True,or...\n",
      " |\n",
      " |  __hash__ = None\n",
      " |\n",
      " |  __match_args__ = ('name', 'pay', 'prob')\n",
      " |\n",
      " |  prob = 0.5\n",
      "\n"
     ]
    }
   ],
   "source": [
    "ev_1 = Event(\"heads\", 100, 0.5)\n",
    "ev_2 = Event(\"tails\", 0)\n",
    "print(ev_1, ev_2)\n",
    "print(ev_1.expected_value)\n",
    "help(ev_1)"
   ]
  },
  {
   "cell_type": "code",
   "execution_count": 23,
   "id": "e064b558-9788-42d6-86fe-e2291ba7d250",
   "metadata": {},
   "outputs": [],
   "source": [
    "from dataclasses import dataclass\n",
    "from typing import List\n",
    "\n",
    "@dataclass\n",
    "class Event:\n",
    "    name: str\n",
    "    pay: float | List[Event]\n",
    "    prob: float = .5  #default value\n",
    "    \n",
    "    @property\n",
    "    def expected_value(self):\n",
    "        return self.pay*self.prob\n",
    "\n",
    "@dataclass\n",
    "class Lottery:\n",
    "    name: str\n",
    "    lottery: List[Event]\n",
    "\n",
    "    def get_event(self):\n",
    "        \"\"\"Generator to be used in an iterable. \n",
    "           Yields the event pairs: pay, prob\"\"\"\n",
    "        \n",
    "        for event in self.lottery:\n",
    "            yield event.name, event.prob, event.pay, event.expected_value()\n",
    "\n",
    "    @property\n",
    "    def expected_value(self):\n",
    "        ev = 0\n",
    "        for event in self.lottery:\n",
    "            ev += event.pay*event.prob\n",
    "        return ev"
   ]
  },
  {
   "cell_type": "code",
   "execution_count": 27,
   "id": "fe979dc1-9d34-4891-be38-b13ac97c432d",
   "metadata": {},
   "outputs": [
    {
     "name": "stdout",
     "output_type": "stream",
     "text": [
      "Lottery(name='coin_flip', lottery=[Event(name='heads', pay=100, prob=0.5), Event(name='tails', pay=0, prob=0.5)]) 50.0\n"
     ]
    }
   ],
   "source": [
    "ev_1 = Event(\"heads\", 100, 0.5)\n",
    "ev_2 = Event(\"tails\", 0)\n",
    "lot = Lottery(\"coin_flip\", [ev_1, ev_2])\n",
    "print(lot, lot.expected_value)"
   ]
  }
 ],
 "metadata": {
  "kernelspec": {
   "display_name": "Python 3 (ipykernel)",
   "language": "python",
   "name": "python3"
  },
  "language_info": {
   "codemirror_mode": {
    "name": "ipython",
    "version": 3
   },
   "file_extension": ".py",
   "mimetype": "text/x-python",
   "name": "python",
   "nbconvert_exporter": "python",
   "pygments_lexer": "ipython3",
   "version": "3.12.4"
  }
 },
 "nbformat": 4,
 "nbformat_minor": 5
}
