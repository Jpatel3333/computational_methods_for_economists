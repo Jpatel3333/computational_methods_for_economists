{
 "cells": [
  {
   "cell_type": "markdown",
   "metadata": {},
   "source": [
    "# Introduction to SymPy \n",
    "\n",
    "SymPy is a python library for symbolic mathematics that introduces a new data type called symbols.  Symbols allow us to build and analyze mathematical models using symbolic computation.  Mathematical objects are represented exactly, not approximately, and mathematical expressions with unevaluated variables are left in symbolic form.   You have a cheat sheet on SymPy and information about all of Sympy features can be found [here](http://www.sympy.org/en/features.html). When you have more time, a more comprehensive Sympy tutorial is [here](http://docs.sympy.org/latest/tutorial)."
   ]
  },
  {
   "cell_type": "markdown",
   "metadata": {},
   "source": [
    "## A First Example\n",
    "\n",
    "A first example of symbolic computation is calculating square roots.  If the number that we are taking the square root of is a squared number, then the math.sqrt method and the sympy.sqrt method would both return the same result.  Run the code below."
   ]
  },
  {
   "cell_type": "code",
   "execution_count": 5,
   "metadata": {},
   "outputs": [
    {
     "name": "stdout",
     "output_type": "stream",
     "text": [
      "2.8284271247461903\n"
     ]
    }
   ],
   "source": [
    "from math import  sqrt  # mathematical functions library\n",
    "print (sqrt(8))"
   ]
  },
  {
   "cell_type": "code",
   "execution_count": 7,
   "metadata": {},
   "outputs": [
    {
     "name": "stdout",
     "output_type": "stream",
     "text": [
      "2*sqrt(2)\n"
     ]
    }
   ],
   "source": [
    "from sympy import sqrt  # symbolic mathematics library\n",
    "print (sqrt(8))       "
   ]
  },
  {
   "cell_type": "markdown",
   "metadata": {},
   "source": [
    "But what happens when the number is not a perfect square?  Change both of the code cells above to print the square root of 8 instead of 9 and rerun the code in each cell.\n",
    "\n",
    "The square root function from the math library returns a floating number that is an approximation of the square root of 8.  The sympy square root function returns an exact value by simplifying the expression and leaving the irrational portion of the answer (square root of 2) in symbol notation rather than estimating the value.  Think about how valuable this will be in evaluating equations!\n"
   ]
  },
  {
   "cell_type": "markdown",
   "metadata": {},
   "source": [
    "## Symbols\n",
    "A new data types that SymPy defines is a symbol.  These are created as follws:"
   ]
  },
  {
   "cell_type": "code",
   "execution_count": 9,
   "metadata": {},
   "outputs": [
    {
     "name": "stdout",
     "output_type": "stream",
     "text": [
      "a <class 'sympy.core.symbol.Symbol'>\n",
      "x <class 'sympy.core.symbol.Symbol'>\n"
     ]
    }
   ],
   "source": [
    "from sympy import Symbol, symbols  # use symbols to make a bunch of symbols at once\n",
    "from pprint import pprint\n",
    "a = Symbol('a')     # Class to make symbolic variables\n",
    "x, y = symbols('x y')  # function to make a bunch of symbolic variables  \n",
    "print(a, type(a))\n",
    "print(x, type(x))"
   ]
  },
  {
   "cell_type": "code",
   "execution_count": null,
   "metadata": {},
   "outputs": [],
   "source": [
    "#help(Symbol)  #or help(symbols)"
   ]
  },
  {
   "cell_type": "markdown",
   "metadata": {},
   "source": [
    "## Symbolic Expressions with Variables\n",
    "\n",
    "The equation for a line is commonly written as y = mx + b where m is the slope and b is the y intercept.   Let's define this equation using sympy symbolic expression.   The code cell below contains an import statement and a statement defining x and y as symbols.  Lines 3 and 4 define m with a value of -2, and b with a value of 10.  Line 5 defines the equation y = mx + b, and line six prints the value y.  Now run your code."
   ]
  },
  {
   "cell_type": "code",
   "execution_count": 11,
   "metadata": {},
   "outputs": [
    {
     "name": "stdout",
     "output_type": "stream",
     "text": [
      "10 - 2*x\n",
      "10 - 3*x\n"
     ]
    }
   ],
   "source": [
    "from sympy import symbols  # use symbols to make a bunch of symbols at once\n",
    "x, y = symbols('x y')\n",
    "m = -2\n",
    "b = 10\n",
    "expr = m*x + b\n",
    "print(expr)\n",
    "print(expr - x)"
   ]
  },
  {
   "cell_type": "markdown",
   "metadata": {},
   "source": [
    "Ok, python printed your equation substituting values for the variables m and b and leaving the symbol x.  That's pretty neat.  The next print, is `print(y-x)` Note, python has done the symbolic arithmetic on your equation.\n",
    "\n",
    "In the two coding examples so far, sympy has simplified the expression automatically.  This is more the exception than the rule.  Run the code in the following cell to see.\n"
   ]
  },
  {
   "cell_type": "code",
   "execution_count": 23,
   "metadata": {},
   "outputs": [
    {
     "name": "stdout",
     "output_type": "stream",
     "text": [
      "-2*x <class 'sympy.core.mul.Mul'>\n",
      "10 - 2*x <class 'sympy.core.add.Add'>\n",
      "(10 - 2*x)**2 <class 'sympy.core.power.Pow'>\n"
     ]
    }
   ],
   "source": [
    "from sympy import symbols\n",
    "x,y, z = symbols ('x y z')\n",
    "m = -2\n",
    "b = 10\n",
    "\n",
    "print(m*x, type(m*x))\n",
    "y = m*x + b\n",
    "print(y, type(y))\n",
    "print (y**2, type(y**2))\n"
   ]
  },
  {
   "cell_type": "markdown",
   "metadata": {},
   "source": [
    "It would be nice to see polynomials expanded or factored.  In SymPy, the method to expand a polynomial is called expand and the method to factor a polynomial is called factor.  Run the code below to see expand() and factor()."
   ]
  },
  {
   "cell_type": "code",
   "execution_count": 29,
   "metadata": {},
   "outputs": [
    {
     "name": "stdout",
     "output_type": "stream",
     "text": [
      "original: (10 - 2*x)**2\n",
      "expand: 4*x**2 - 40*x + 100\n",
      "factor: 4*(x - 5)**2\n",
      "factor then expand: 4*x**2 - 40*x + 100\n"
     ]
    },
    {
     "data": {
      "text/latex": [
       "$\\displaystyle 10 - 2 x$"
      ],
      "text/plain": [
       "10 - 2*x"
      ]
     },
     "execution_count": 29,
     "metadata": {},
     "output_type": "execute_result"
    }
   ],
   "source": [
    "from sympy import symbols, expand, factor \n",
    "x,y = symbols ('x y')\n",
    "m = -2\n",
    "b = 10\n",
    "y = m*x + b\n",
    "print (\"original:\", y**2)\n",
    "print (\"expand:\", expand(y**2))\n",
    "print (\"factor:\", factor(y**2))\n",
    "print(\"factor then expand:\", expand(factor(y**2)))\n",
    "y"
   ]
  },
  {
   "cell_type": "code",
   "execution_count": 33,
   "metadata": {},
   "outputs": [
    {
     "data": {
      "text/latex": [
       "$\\displaystyle 7$"
      ],
      "text/plain": [
       "7"
      ]
     },
     "execution_count": 33,
     "metadata": {},
     "output_type": "execute_result"
    }
   ],
   "source": [
    "import sympy as sp\n",
    "x = sp.symbols('x')\n",
    "expr = x**2 + x + 1\n",
    "expr.subs(x, 2)  # Example of substitution: substitute x with 2 in the expression x**2 + x + 1"
   ]
  },
  {
   "cell_type": "code",
   "execution_count": 35,
   "metadata": {},
   "outputs": [
    {
     "data": {
      "text/latex": [
       "$\\displaystyle y^{2} + \\left(y^{2} + 1\\right)^{2} + 2$"
      ],
      "text/plain": [
       "y**2 + (y**2 + 1)**2 + 2"
      ]
     },
     "execution_count": 35,
     "metadata": {},
     "output_type": "execute_result"
    }
   ],
   "source": [
    "import sympy as sp\n",
    "x, y = sp.symbols('x, y')\n",
    "expr = x**2 + x + 1\n",
    "new_expr = expr.subs(x, y**2 + 1)\n",
    "new_expr"
   ]
  },
  {
   "cell_type": "code",
   "execution_count": 37,
   "metadata": {},
   "outputs": [
    {
     "data": {
      "text/latex": [
       "$\\displaystyle y^{4} + 3 y^{2} + 3$"
      ],
      "text/plain": [
       "y**4 + 3*y**2 + 3"
      ]
     },
     "execution_count": 37,
     "metadata": {},
     "output_type": "execute_result"
    }
   ],
   "source": [
    "sp.expand(new_expr)"
   ]
  },
  {
   "cell_type": "markdown",
   "metadata": {},
   "source": [
    "## Solve"
   ]
  },
  {
   "cell_type": "code",
   "execution_count": 39,
   "metadata": {},
   "outputs": [
    {
     "name": "stdout",
     "output_type": "stream",
     "text": [
      "[]\n"
     ]
    }
   ],
   "source": [
    "import sympy as sp\n",
    "print(sp.solve(y, x))"
   ]
  },
  {
   "cell_type": "markdown",
   "metadata": {},
   "source": [
    "## Solving for a Range of Values"
   ]
  },
  {
   "cell_type": "markdown",
   "metadata": {},
   "source": [
    "It would be nice to graph this equation.  But first we need to solve it.  Sympy has a method to solve algebraic equations called solve.  The solve method takes as input an equation that is equal to zero, and the symbol that you want to solve for and returns a list of solutions.  Our equation $y=mx+b$ can be rewritten as $y-mx–b = 0$.  Run the code cell below to see how Sympy solves our equation for $x$ given $y=0$."
   ]
  },
  {
   "cell_type": "code",
   "execution_count": 41,
   "metadata": {},
   "outputs": [
    {
     "name": "stdout",
     "output_type": "stream",
     "text": [
      "[5] <class 'list'>\n"
     ]
    }
   ],
   "source": [
    "import sympy as sp\n",
    "x = sp.Symbol('x')\n",
    "m = -2\n",
    "b = 10\n",
    "y = 0\n",
    "solution = sp.solve(y-m*x-b,x)\n",
    "print (solution, type(solution))\n"
   ]
  },
  {
   "cell_type": "markdown",
   "metadata": {},
   "source": [
    "It would be nice to just print the y value rather than the list containing the y value.  In the code cell above, change the print statement to print the first entry in the list that is returned from solve.  \n",
    "\n",
    "Now that we can solve our equation for a specific value, let's solve our equation for all the x values between x=0 and the x value where y=0.  Modify the code cell below to print your results in the format (x,y).  Remember to add 1 to the upper range in your for loop and format your output as floats.\n"
   ]
  },
  {
   "cell_type": "code",
   "execution_count": null,
   "metadata": {},
   "outputs": [],
   "source": [
    "from sympy import symbols, solve\n",
    "x,y = symbols('x,y')\n",
    "m = -2\n",
    "b = 10\n",
    "# y = mx + b  or y –mx – b = 0\n",
    "range_2 = int(solve(0-m*x-b,x)[0])   #solve for x where y=0\n",
    "#insert for loop here\n",
    "    #insert print here"
   ]
  },
  {
   "cell_type": "markdown",
   "metadata": {},
   "source": [
    "As we get ready to graph our equation, we might want to provide the values for m and b in our equation when we run our program instead of hard coding the values in the program.  We can do this easily with an input statement.  In general, this statement has the form:\n",
    "\n",
    "```\n",
    "variable = input(\"Please enter variable\")\n",
    "```\n",
    "\n",
    "Note that variable will be a string which has to be converted.  To do this we will use an explicit type conversion.  Now, for example, we can ask the user to input a value for m and then we can convert it to floating point using an input statement like this:\n",
    "\n",
    "```\n",
    "m = float(input(\"Enter a value for m:\"))\n",
    "```\n",
    "In the code cell below replace the assignment statements for m and b to use input statements, uncomment the print statement, and run the code.  Set m=-2 and b=10. "
   ]
  },
  {
   "cell_type": "code",
   "execution_count": 43,
   "metadata": {},
   "outputs": [
    {
     "name": "stdout",
     "output_type": "stream",
     "text": [
      "5\n",
      "0 10 expr = y - 10\n",
      "1 8 expr = y - 8\n",
      "2 6 expr = y - 6\n",
      "3 4 expr = y - 4\n",
      "4 2 expr = y - 2\n",
      "5 0 expr = y\n"
     ]
    }
   ],
   "source": [
    "from sympy import symbols, solve\n",
    "x,y = symbols('x,y')\n",
    "\n",
    "m = -2  #replace with input statement\n",
    "b = 10 # replace with input statement\n",
    "\n",
    "range_2 = int(solve(0 - m*x - b,x)[0])   #solve for x where y=0\n",
    "print(range_2)\n",
    "\n",
    "for x in range(0,range_2+1):\n",
    "    expr = y - m*x -b\n",
    "    print (x,solve(y- m*x - b,y)[0], 'expr =', expr)"
   ]
  },
  {
   "cell_type": "markdown",
   "metadata": {},
   "source": [
    "## Graphing Your Results"
   ]
  },
  {
   "cell_type": "markdown",
   "metadata": {},
   "source": [
    "Now let's graph those coordinates!  We will use the plot function and the show function from the pylab module in the Matplotlib package.  The plot function creates the graph and the show function opens a matplotlib window to display the graph.   The plot function takes as input a list of x coordinates and a list of y coordinates.\n",
    "\n",
    "Let's modify the code we have already written, that prints out the coordinates, to save them to a list instead.  Each set of values needs to be in its own list.  Modify the code cell below to populate the lists  x_coords and y_coords in the for loop.  Add a print statement to print both lists to verify your work. Run the code and enter a value of -2 for m and 10 for b.\n"
   ]
  },
  {
   "cell_type": "code",
   "execution_count": null,
   "metadata": {},
   "outputs": [],
   "source": [
    "from sympy import symbols, solve\n",
    "x,y = symbols('x y')\n",
    "m = float(input(\"Enter a value for slope m:\"))  # slope of the line\n",
    "b = float(input(\"Enter a value for intercept b:\"))  # y intercept\n",
    "\n",
    "# create your empty lists here\n",
    "\n",
    "#y = m*x + b or y-mx-b=0\n",
    "range_2 = abs(int(solve(0-m*x-b,x)[0]))  #positive integer value for for_loop range\n",
    "\n",
    "for x in range(0,range_2+1):\n",
    "    #write code to append values to x_coord and y_coord\n",
    "    pass\n",
    "    \n",
    "#add a loop to print (x, y) pairs from x_coord and y_coord"
   ]
  },
  {
   "cell_type": "markdown",
   "metadata": {},
   "source": [
    "Alright!  Let's take those coordinates and graph them.  First import the plot and show functions from the pylab module, then create the plot using the plot function and our coordinates, and finally display the graph using the show function.  Uncomment the code below and run it."
   ]
  },
  {
   "cell_type": "code",
   "execution_count": null,
   "metadata": {},
   "outputs": [],
   "source": [
    "from pylab import plot, show\n",
    "plot(x_coords,y_coords)\n",
    "show()\n"
   ]
  },
  {
   "cell_type": "code",
   "execution_count": 45,
   "metadata": {},
   "outputs": [
    {
     "name": "stdin",
     "output_type": "stream",
     "text": [
      "Enter a value for slope m: -2\n",
      "Enter a value for intercept b: 10\n"
     ]
    },
    {
     "name": "stdout",
     "output_type": "stream",
     "text": [
      "0 10.0000000000000\n",
      "1 8.00000000000000\n",
      "2 6.00000000000000\n",
      "3 4.00000000000000\n",
      "4 2.00000000000000\n",
      "5 0\n"
     ]
    }
   ],
   "source": [
    "from sympy import symbols, solve\n",
    "x,y = symbols('x y')\n",
    "m = float(input(\"Enter a value for slope m:\"))  # slope of the line\n",
    "b = float(input(\"Enter a value for intercept b:\"))  # y intercept\n",
    "\n",
    "# create your empty lists here\n",
    "x_coords = []\n",
    "y_coords = []\n",
    "\n",
    "#y = m*x + b or y-mx-b=0\n",
    "range_2 = abs(int(solve(0-m*x-b,x)[0]))  #positive integer value for for_loop range\n",
    "\n",
    "for x in range(0,range_2+1):\n",
    "    x_coords.append(x)\n",
    "    y_coords.append(solve(y- m*x - b,y)[0])\n",
    "\n",
    "for c, d in zip(x_coords, y_coords):\n",
    "    print(c,d)\n",
    "    \n",
    "#add a loop to print (x, y) pairs from x_coord and y_coord"
   ]
  },
  {
   "cell_type": "code",
   "execution_count": 47,
   "metadata": {},
   "outputs": [
    {
     "data": {
      "image/png": "[encoded data removed]",
      "text/plain": [
       "<Figure size 640x480 with 1 Axes>"
      ]
     },
     "metadata": {},
     "output_type": "display_data"
    }
   ],
   "source": [
    "from pylab import plot, show\n",
    "plot(x_coords,y_coords)\n",
    "show()\n"
   ]
  },
  {
   "cell_type": "markdown",
   "metadata": {},
   "source": [
    "That graph looks great!  Let's finish with a flourish by marking each coordinate with an \\*, labeling the axis and adding a title.  In the above code cell, add marker='\\*' to the plot parameters inside the parenthesis after the coordinates.  For the title and labels, add title, xlabel, ylabel  to the import statement.  On the line after the plot command, add title('\\*\\*insert your title here\\*\\*').  The xlabel and ylabel commands have the same format.  Insert them after the title command and before the show command.  Now, run the code.\n"
   ]
  },
  {
   "cell_type": "markdown",
   "metadata": {},
   "source": []
  },
  {
   "cell_type": "code",
   "execution_count": 49,
   "metadata": {},
   "outputs": [
    {
     "data": {
      "image/png": "[encoded data removed]",
      "text/plain": [
       "<Figure size 640x480 with 1 Axes>"
      ]
     },
     "metadata": {},
     "output_type": "display_data"
    }
   ],
   "source": [
    "from pylab import plot, show, title, xlabel, ylabel, legend\n",
    "str_legend = f\"y={m}x + {b}\"\n",
    "plot(x_coords,y_coords, '-', label=str_legend)\n",
    "plot(x_coords,y_coords, '*', markersize=10, color=\"red\", label=\"Calculated Points\")\n",
    "title(\"y = mx + b\")\n",
    "xlabel(\"x vaue\")\n",
    "ylabel(\"y_value\")\n",
    "legend()\n",
    "show()\n"
   ]
  },
  {
   "cell_type": "code",
   "execution_count": 51,
   "metadata": {},
   "outputs": [
    {
     "data": {
      "image/png": "[encoded data removed]",
      "text/plain": [
       "<Figure size 640x480 with 1 Axes>"
      ]
     },
     "metadata": {},
     "output_type": "display_data"
    }
   ],
   "source": [
    "import pylab as pl \n",
    "str_legend = f\"y={m}x + {b}\"\n",
    "pl.plot(x_coords,y_coords, '-', label=str_legend)\n",
    "pl.plot(x_coords,y_coords, '*', markersize=10, color=\"red\", label=\"Calculated Points\")\n",
    "pl.title(\"y = mx + b\")\n",
    "pl.xlabel(\"x vaue\")\n",
    "pl.ylabel(\"y_value\")\n",
    "pl.legend()\n",
    "pl.show()\n"
   ]
  },
  {
   "cell_type": "markdown",
   "metadata": {},
   "source": [
    "## Differentiation"
   ]
  },
  {
   "cell_type": "code",
   "execution_count": 55,
   "metadata": {},
   "outputs": [
    {
     "name": "stdout",
     "output_type": "stream",
     "text": [
      "    2            \n",
      "30⋅x  - 4⋅x + 0.5\n"
     ]
    },
    {
     "data": {
      "text/latex": [
       "$\\displaystyle 30 x^{2} - 4 x + 0.5$"
      ],
      "text/plain": [
       "30*x**2 - 4*x + 0.5"
      ]
     },
     "execution_count": 55,
     "metadata": {},
     "output_type": "execute_result"
    }
   ],
   "source": [
    "import sympy as sp\n",
    "x = Symbol('x')\n",
    "expr = 10*x**3 + -2*x**2 + .5*x + 10 \n",
    "x_prime = sp.diff(expr, x)\n",
    "sp.pprint(x_prime)\n",
    "x_prime"
   ]
  },
  {
   "cell_type": "code",
   "execution_count": 57,
   "metadata": {},
   "outputs": [
    {
     "data": {
      "text/latex": [
       "$\\displaystyle 60 x - 4$"
      ],
      "text/plain": [
       "60*x - 4"
      ]
     },
     "execution_count": 57,
     "metadata": {},
     "output_type": "execute_result"
    }
   ],
   "source": [
    "x_prime_2 = sp.diff(x_prime, x)\n",
    "x_prime_2"
   ]
  },
  {
   "cell_type": "code",
   "execution_count": 61,
   "metadata": {},
   "outputs": [
    {
     "name": "stdout",
     "output_type": "stream",
     "text": [
      "4*(15*x - 1)\n",
      "60*x - 4\n"
     ]
    }
   ],
   "source": [
    "fast_x_prime_2 = sp.diff(expr, x, 2)\n",
    "print(fast_x_prime_2)  # notice this is the same but in factored form\n",
    "print(expand(fast_x_prime_2)) # we can expland it here"
   ]
  },
  {
   "cell_type": "code",
   "execution_count": 65,
   "metadata": {},
   "outputs": [
    {
     "data": {
      "text/latex": [
       "$\\displaystyle 60$"
      ],
      "text/plain": [
       "60"
      ]
     },
     "execution_count": 65,
     "metadata": {},
     "output_type": "execute_result"
    }
   ],
   "source": [
    "# we can also use diff as a method as shown\n",
    "expr.diff(x, 3)  # Notice in terminal mode output defaults to latex."
   ]
  },
  {
   "cell_type": "markdown",
   "metadata": {},
   "source": [
    "## Integration"
   ]
  },
  {
   "cell_type": "code",
   "execution_count": 67,
   "metadata": {},
   "outputs": [
    {
     "data": {
      "text/latex": [
       "$\\displaystyle \\log{\\left(x \\right)}^{2}$"
      ],
      "text/plain": [
       "log(x)**2"
      ]
     },
     "execution_count": 67,
     "metadata": {},
     "output_type": "execute_result"
    }
   ],
   "source": [
    "import sympy as sp\n",
    "expr = sp.log(x)**2\n",
    "expr"
   ]
  },
  {
   "cell_type": "code",
   "execution_count": 69,
   "metadata": {},
   "outputs": [
    {
     "data": {
      "text/latex": [
       "$\\displaystyle \\int \\log{\\left(x \\right)}^{2}\\, dx$"
      ],
      "text/plain": [
       "Integral(log(x)**2, x)"
      ]
     },
     "execution_count": 69,
     "metadata": {},
     "output_type": "execute_result"
    }
   ],
   "source": [
    "int_expr = sp.Integral(expr, x)\n",
    "int_expr"
   ]
  },
  {
   "cell_type": "code",
   "execution_count": 71,
   "metadata": {},
   "outputs": [
    {
     "data": {
      "text/latex": [
       "$\\displaystyle x \\log{\\left(x \\right)}^{2} - 2 x \\log{\\left(x \\right)} + 2 x$"
      ],
      "text/plain": [
       "x*log(x)**2 - 2*x*log(x) + 2*x"
      ]
     },
     "execution_count": 71,
     "metadata": {},
     "output_type": "execute_result"
    }
   ],
   "source": [
    "new_expr = int_expr.doit()  # This actually solves for the integral\n",
    "new_expr"
   ]
  },
  {
   "cell_type": "markdown",
   "metadata": {},
   "source": [
    "Just to be sure."
   ]
  },
  {
   "cell_type": "code",
   "execution_count": 73,
   "metadata": {},
   "outputs": [
    {
     "data": {
      "text/latex": [
       "$\\displaystyle \\log{\\left(x \\right)}^{2}$"
      ],
      "text/plain": [
       "log(x)**2"
      ]
     },
     "execution_count": 73,
     "metadata": {},
     "output_type": "execute_result"
    }
   ],
   "source": [
    "sp.diff(new_expr, x)"
   ]
  },
  {
   "cell_type": "markdown",
   "metadata": {},
   "source": [
    "Now that you have flexed your python and sympy muscles a little, let's see how you can use these tools on basic economics equations."
   ]
  },
  {
   "cell_type": "markdown",
   "metadata": {
    "collapsed": true,
    "jupyter": {
     "outputs_hidden": true
    }
   },
   "source": [
    "# Basic Economics Equations"
   ]
  },
  {
   "cell_type": "markdown",
   "metadata": {},
   "source": [
    "In economics, we express economic concepts with equations, and once we have an equation, we can then manipulate it to learn more about the economic concept.  As we have already seen, Sympy seems very well suited to aid us in our explorations of equations.  The rest of this notebook will take you through specific examples and exercises to show you how to work with some useful economics equations in Python and make use of what you have already learned about Sympy."
   ]
  },
  {
   "cell_type": "markdown",
   "metadata": {},
   "source": [
    "## The Budget Constraint"
   ]
  },
  {
   "cell_type": "markdown",
   "metadata": {},
   "source": [
    "Consider a simple example with two goods with non-negative quantities represented by $x_1$ and $x_2$.  The price of good $x_1$ is $p_1$, and the price of good $x_2$ is $p_2$.\n",
    "A consumer chooses how much of good one and good two to buy.  Given that the consumer has a certain amount of money, m, to spend, we can write the consumer's budget constraint as:\n",
    "\n",
    "\\begin{equation*}\n",
    "p_1x_1 + p_2x_2 \\le m.\n",
    "\\end{equation*}\n",
    "\n",
    "Notice the inequality defines the set of all affordable consumption bundles, $B$, as: \n",
    "\n",
    "\\begin{equation*}\n",
    "B =\\{(x_1, x_2): x_1 \\ge 0 , x_2 \\ge 0, \\, and \\,\\, p_1x_1 + p_2x_2 \\le m\\}.\n",
    "\\end{equation*}\n",
    "\n",
    "And the budget set is bounded above by the budget equation:\n",
    "\n",
    "\\begin{equation*}\n",
    "p_1x_1 + p_2x_2 = m.\n",
    "\\end{equation*}\n",
    "\n",
    "We can rewrite the budget equation with $x_2$ as a function of $x_1$ like this:\n",
    "\n",
    "\\begin{equation*}\n",
    "x_2 = m/p_2 - (p_1/p_2)x_1.\n",
    "\\end{equation*}\n",
    "\n",
    "This equation can be coded as a numerical equation in Python as shown below.  Uncomment the code and run it.\n"
   ]
  },
  {
   "cell_type": "code",
   "execution_count": 75,
   "metadata": {},
   "outputs": [
    {
     "ename": "NameError",
     "evalue": "name 'money' is not defined",
     "output_type": "error",
     "traceback": [
      "\u001b[1;31m---------------------------------------------------------------------------\u001b[0m",
      "\u001b[1;31mNameError\u001b[0m                                 Traceback (most recent call last)",
      "Cell \u001b[1;32mIn[75], line 1\u001b[0m\n\u001b[1;32m----> 1\u001b[0m units_of_2 \u001b[38;5;241m=\u001b[39m money\u001b[38;5;241m/\u001b[39mprice_of_2\u001b[38;5;241m-\u001b[39m(price_of_1\u001b[38;5;241m/\u001b[39mprice_of_2)\u001b[38;5;241m*\u001b[39munits_of_1\n",
      "\u001b[1;31mNameError\u001b[0m: name 'money' is not defined"
     ]
    }
   ],
   "source": [
    "units_of_2 = money/price_of_2-(price_of_1/price_of_2)*units_of_1"
   ]
  },
  {
   "cell_type": "markdown",
   "metadata": {},
   "source": [
    "When you executed this Python assignment statement, you got a 'NameError'.  What does this means? Of course, the assignment statement wants to evaluate the arithemetic expression to calculate an exact value for units_of_2.  But, the other variables are all undefined.  In the cell below, add code to initialize $m$ to 100, $p_1$ to 1, $p_2$ to 2 and $x_1$ to 30, using the variable names in the budget equation in the above code cell. Uncomment the budget euqation and the 3 print statements and run the code."
   ]
  },
  {
   "cell_type": "code",
   "execution_count": null,
   "metadata": {},
   "outputs": [],
   "source": [
    "# set values for money, price_of_1, price_of_2, units_of_1\n",
    "\n",
    "# Now we can calculate the budget equation\n",
    "#units_of_2 = money/price_of_2-(price_of_1/price_of_2)*units_of_1\n",
    "\n",
    "#print('Given your money and current prices:')\n",
    "#print('If you want to consume {} units of good one'.format(amt_good_1))\n",
    "#print('You have enough money left over to consume {} units of good 2'.format(amt_good_2))"
   ]
  },
  {
   "cell_type": "markdown",
   "metadata": {},
   "source": [
    "## Budget Definition Function\n",
    "\n",
    "Let's modularize some of the code above to make it easier to understand and use in the future. The following code cell defines a  function named set_budget_parms that takes some of the variables from our budget equation and places them in a dictonary named budget_parms. Uncomment the print statement and run the code."
   ]
  },
  {
   "cell_type": "code",
   "execution_count": 77,
   "metadata": {},
   "outputs": [
    {
     "name": "stdout",
     "output_type": "stream",
     "text": [
      "{'money': 100, 'price_1': 1, 'price_2': 2}\n"
     ]
    }
   ],
   "source": [
    "def set_budget_parms(money, price_of_1, price_of_2):\n",
    "    \"\"\" Return budget parameters in a dictionary\"\"\"\n",
    "    budget_parms = {\"money\": money, \"price_1\": price_of_1, \"price_2\": price_of_2}\n",
    "    return budget_parms \n",
    "\n",
    "print(set_budget_parms(100, 1, 2))"
   ]
  },
  {
   "cell_type": "markdown",
   "metadata": {},
   "source": [
    "Note, we used PEP 257 on Docstring Conventions to create a one line Docstring for set_budget_parms function as recommended in the CSN Style Guide.  The next code cell shows how to print out the doc string.  Run it to see what happens. "
   ]
  },
  {
   "cell_type": "code",
   "execution_count": null,
   "metadata": {},
   "outputs": [],
   "source": [
    "print (set_budget_parms.__doc__)"
   ]
  },
  {
   "cell_type": "markdown",
   "metadata": {},
   "source": [
    "Reminder, you may notice some jupyter notebook magic here.  The function set_budget_parms does not need to be defined in the above cell.  As long as you execute a cell in a notebook session, the variables and libraries are available later on during that same session."
   ]
  },
  {
   "cell_type": "markdown",
   "metadata": {
    "collapsed": true,
    "jupyter": {
     "outputs_hidden": true
    }
   },
   "source": [
    "###  Utility\n",
    "\n",
    "In economics we capture the preferences of our consumer with a utility function.  We can write the utility function in terms of the two goods as $u = U(x_1, x_2)$.  If the budget constraint tells us what commodity bundles are affordable, then the utility function tells us which commodity bundles are preferred.   We are now going to look at a specific form of the utility function called the Cobb-Douglas utility function given by:\n",
    "\n",
    "\\begin{equation*}\n",
    "U(x_1, x_2) = ax_1^bx_2^{1-b}, \\, where\\, a \\ge 0\\, and\\, 0 \\le b \\le 1.\n",
    "\\end{equation*} \n",
    "\n",
    "In the cell below evaluate the equation at $x_1 = 30$, $x_2 = 35$, a = 5, and b = 0.25.  Print out the Cobb-Douglas utility given these values.\n"
   ]
  },
  {
   "cell_type": "code",
   "execution_count": null,
   "metadata": {},
   "outputs": [],
   "source": [
    "# set initial values for x1, x2, a and b\n",
    "\n",
    "# print the Cobb-Douglas utility given these values"
   ]
  },
  {
   "cell_type": "markdown",
   "metadata": {},
   "source": [
    "Now, using the set_budget_parms function as an example, in the following cell, code up a function that evaluates a Cobb-Douglas utility function for any given values of x1, x2, a and b that meet the criteria stated above.  Remember that the values for x1, x2, a and b that you set in the prior cell will be available to your code."
   ]
  },
  {
   "cell_type": "code",
   "execution_count": null,
   "metadata": {},
   "outputs": [],
   "source": [
    "# define Cobb-Douglas function that returns utility value \n",
    "#        based on x1, x2, a and b values\n",
    "\n",
    "# print the utility "
   ]
  },
  {
   "cell_type": "markdown",
   "metadata": {},
   "source": [
    "## Back to the Budget Equation\n",
    "\n",
    "Let's look again at our budget equation.  \n",
    "\\begin{equation*}\n",
    "p_1x_1 + p_2x_2 = m.\n",
    "\\end{equation*}\n",
    "\n",
    "Remember Sympy solve?  It takes as input an equation that is equal to zero, and the symbol that you want to solve for and returns a list of solutions. Let's use Sympy solve on our budget equation.  First we need to rewrite the equation so all of the terms are on one side and equal to zero.\n",
    "\n",
    "\\begin{equation*}\n",
    "p_1x_1 + p_2x_2 - m = 0.\n",
    "\\end{equation*}\n",
    "\n",
    "Now that we have an equation, let's solve for one of the variables in terms of the other variables.  And just to make the coding easier, we will assign our budget equation to a variable named b.  In the code below, add code to solve the budget equation for each of the symbols p1, p2, x1, x2, and m.  Print each solution.   "
   ]
  },
  {
   "cell_type": "code",
   "execution_count": null,
   "metadata": {},
   "outputs": [],
   "source": [
    "from sympy import symbols,solve, pprint\n",
    "p1,p2,x1,x2,m = symbols('p1 p2 x1 x2 m')\n",
    "b = p1 *x1 + p2*x2 - m   # budget equation\n",
    "\n",
    "# Solve for b using the symbolic varibale p1\n",
    "\n",
    "solution = solve(b, p1)\n",
    "print(solution, type(solution))   # solve for p1 and print solution \n",
    "print()\n",
    "pprint(solution)\n",
    "print()\n",
    "print()\n",
    "d_solution = solve(b,p1,dict=True) # using dictionary flag returns a list of dictionaries\n",
    "print(d_solution, type(d_solution))\n",
    "print()\n",
    "pprint(d_solution[0])\n",
    "\n",
    "# solve for p2\n",
    "# solve for x1\n",
    "# solve for x2\n",
    "# solve for m\n"
   ]
  },
  {
   "cell_type": "markdown",
   "metadata": {},
   "source": [
    "\n",
    "Note, we can make our equations look nicer by using a Sympy method called pretty print, or pprint.  "
   ]
  },
  {
   "cell_type": "markdown",
   "metadata": {},
   "source": [
    "Let's get back to the budget equation and solve for $x_2$.  Tn the following code cell"
   ]
  },
  {
   "cell_type": "code",
   "execution_count": 81,
   "metadata": {},
   "outputs": [
    {
     "data": {
      "text/latex": [
       "$\\displaystyle \\frac{m - p_{1} x_{1}}{p_{2}}$"
      ],
      "text/plain": [
       "(m - p1*x1)/p2"
      ]
     },
     "execution_count": 81,
     "metadata": {},
     "output_type": "execute_result"
    }
   ],
   "source": [
    "from sympy import symbols,solve, pprint\n",
    "p1,p2,x1,x2,m = symbols('p1 p2 x1 x2 m')\n",
    "b = p1 *x1 + p2*x2 - m   # budget equation\n",
    "\n",
    "x2_expr = solve(b, x2, dict=True)[0]\n",
    "x2_expr = x2_expr[x2]\n",
    "x2_expr"
   ]
  },
  {
   "cell_type": "markdown",
   "metadata": {},
   "source": [
    "Notice, if we set m back to 100, $p_1$ back to 1, and $p_2$ back, to 2 we will have an equation that makes $x_2$ a function of $x_1$.  "
   ]
  },
  {
   "cell_type": "code",
   "execution_count": 83,
   "metadata": {},
   "outputs": [
    {
     "name": "stdout",
     "output_type": "stream",
     "text": [
      "     x₁\n",
      "50 - ──\n",
      "     2 \n"
     ]
    }
   ],
   "source": [
    "x2 = x2_expr.subs({m:100, p1:1, p2:2})\n",
    "pprint(x2)"
   ]
  },
  {
   "cell_type": "markdown",
   "metadata": {},
   "source": [
    "As a final step we can now plot this budget equation. "
   ]
  },
  {
   "cell_type": "code",
   "execution_count": 89,
   "metadata": {},
   "outputs": [
    {
     "data": {
      "image/png": "[encoded data removed]",
      "text/plain": [
       "<Figure size 640x480 with 1 Axes>"
      ]
     },
     "metadata": {},
     "output_type": "display_data"
    },
    {
     "data": {
      "text/plain": [
       "<sympy.plotting.plot.Plot at 0x1927ad30800>"
      ]
     },
     "execution_count": 89,
     "metadata": {},
     "output_type": "execute_result"
    }
   ],
   "source": [
    "import sympy as sp #sympy.plotting import plot\n",
    "sp.plotting.plot(x2, (x1, 0, 100))  # The second term says to itterate x1 from 0 to 100."
   ]
  },
  {
   "cell_type": "markdown",
   "metadata": {},
   "source": [
    "We can now add some labels to our plot to make it more readable."
   ]
  },
  {
   "cell_type": "code",
   "execution_count": 91,
   "metadata": {},
   "outputs": [
    {
     "data": {
      "image/png": "[encoded data removed]",
      "text/plain": [
       "<Figure size 640x480 with 1 Axes>"
      ]
     },
     "metadata": {},
     "output_type": "display_data"
    },
    {
     "data": {
      "text/plain": [
       "<sympy.plotting.plot.Plot at 0x1927add60c0>"
      ]
     },
     "execution_count": 91,
     "metadata": {},
     "output_type": "execute_result"
    }
   ],
   "source": [
    "sp.plotting.plot(x2, (x1, 0, 100), title='Budget Line', xlabel='x1', ylabel='x2')"
   ]
  },
  {
   "cell_type": "code",
   "execution_count": 93,
   "metadata": {},
   "outputs": [
    {
     "data": {
      "image/png": "[encoded data removed]",
      "text/plain": [
       "<Figure size 640x480 with 1 Axes>"
      ]
     },
     "metadata": {},
     "output_type": "display_data"
    }
   ],
   "source": [
    "p = sp.plotting.plot(x2, (x1, 0, 100), show = False)  # Don't show the plot yet\n",
    "p.title='Budget Line'  # Add a title\n",
    "p.xlabel='x1' # Add a x axis label\n",
    "p.ylabel='x2' # Add a y axis label\n",
    "p[0].line_color = 'r'  #  Change the line color to red\n",
    "p.legend=True  # Add a legend\n",
    "p.show() # Now show the whole plot"
   ]
  },
  {
   "cell_type": "markdown",
   "metadata": {},
   "source": [
    "## Exercise Three\n",
    "\n",
    "Given our Cobb-Douglas utility function defined above for a = 5 and b = 0.25.  Solve for $x_2$ as a function of $x_1$ for a utility of 168.3842 and plot the resulting curve.  Use the cells below."
   ]
  },
  {
   "cell_type": "markdown",
   "metadata": {},
   "source": [
    "Lets add the budget line back in and plot it as well."
   ]
  },
  {
   "cell_type": "code",
   "execution_count": 95,
   "metadata": {},
   "outputs": [
    {
     "data": {
      "image/png": "[encoded data removed]",
      "text/plain": [
       "<Figure size 640x480 with 1 Axes>"
      ]
     },
     "metadata": {},
     "output_type": "display_data"
    }
   ],
   "source": [
    "from sympy import Symbol\n",
    "from sympy.plotting import plot\n",
    "x1 = Symbol('x1')\n",
    "x2_u = (168.3842*x1**(-0.50)/5)**(-1/(0.50-1))  # The answer to exercise three\n",
    "x2_a = (100 - x1)/2\n",
    "\n",
    "p = plot(x2_u, x2_a, (x1, 0, 90), show = False)  # Don't show the plot yet\n",
    "p.title='Indifference Curve at u ~ 168.3842'  # Add a title\n",
    "p.xlabel='x1' # Add a x axis label\n",
    "p.ylabel='x2' # Add a y axis label\n",
    "p[0].line_color = 'b'  #  Change the indifference curve to blue\n",
    "p[1].line_color = 'r' #  Change budget line to red\n",
    "p.legend=True  # Add a legend\n",
    "p.axis_center = (0.0, 0.0)\n",
    "p.ylim = (0.0, 150.0)\n",
    "p.show() # Now show the whole plot"
   ]
  },
  {
   "cell_type": "markdown",
   "metadata": {},
   "source": [
    "So it does not look like we are at a maximum yet."
   ]
  },
  {
   "cell_type": "markdown",
   "metadata": {},
   "source": [
    "## Utility Theory Revisited\n",
    "\n",
    "Lets get back to work with the Cobb-Douglas Utility Function.  If you remember,  this equation is defined by,\n",
    "\n",
    "\\begin{equation*}\n",
    "U(x_1, x_2) = ax_1^bx_2^{1-b}, \\, where\\, a \\ge 0\\, and\\, 0 \\le b \\le 1.\n",
    "\\end{equation*} \n",
    "\n",
    "Which can be written in symbolic python as,"
   ]
  },
  {
   "cell_type": "code",
   "execution_count": 97,
   "metadata": {},
   "outputs": [
    {
     "name": "stdout",
     "output_type": "stream",
     "text": [
      "    b   1 - b\n",
      "a⋅x₁ ⋅x₂     \n"
     ]
    },
    {
     "data": {
      "text/latex": [
       "$\\displaystyle a x_{1}^{b} x_{2}^{1 - b}$"
      ],
      "text/plain": [
       "a*x1**b*x2**(1 - b)"
      ]
     },
     "execution_count": 97,
     "metadata": {},
     "output_type": "execute_result"
    }
   ],
   "source": [
    "from sympy import symbols, pprint, solve\n",
    "from sympy.plotting import plot\n",
    "a, b, u, x1, x2 = symbols('a, b, u, x1, x2')\n",
    "U = a*(x1**b)*(x2**(1-b))\n",
    "pprint(U)\n",
    "U"
   ]
  },
  {
   "cell_type": "markdown",
   "metadata": {},
   "source": [
    "We can now substitute some values into our utility function so we can see what it looks like with respect to $x_1$ alone.  To do this we are going to use the `.subs()` modifier as shown below."
   ]
  },
  {
   "cell_type": "code",
   "execution_count": 99,
   "metadata": {},
   "outputs": [
    {
     "name": "stdout",
     "output_type": "stream",
     "text": [
      "                   0.25\n",
      "16.7185076244105⋅x₁    \n"
     ]
    },
    {
     "data": {
      "text/latex": [
       "$\\displaystyle 16.7185076244105 x_{1}^{0.25}$"
      ],
      "text/plain": [
       "16.7185076244105*x1**0.25"
      ]
     },
     "execution_count": 99,
     "metadata": {},
     "output_type": "execute_result"
    }
   ],
   "source": [
    "Uat = U.subs({a:5, b:.25, x2:5})\n",
    "pprint (Uat)\n",
    "Uat"
   ]
  },
  {
   "cell_type": "markdown",
   "metadata": {},
   "source": [
    "We can plot this using our plot function."
   ]
  },
  {
   "cell_type": "code",
   "execution_count": 103,
   "metadata": {},
   "outputs": [
    {
     "data": {
      "image/png": "[encoded data removed]",
      "text/plain": [
       "<Figure size 640x480 with 1 Axes>"
      ]
     },
     "metadata": {},
     "output_type": "display_data"
    }
   ],
   "source": [
    "from sympy.plotting import plot\n",
    "p = plot(Uat, (x1, 0, 100), show = False)  # Don't show the plot yet\n",
    "p.title='Utility of Good One'  # Add a title\n",
    "p.xlabel='x1' # Add a x axis label\n",
    "p.ylabel='utility' # Add a y axis label\n",
    "p[0].line_color = 'r'  # red line\n",
    "p.ylim = (0.0, 75)\n",
    "p.legend=True  # Add a legend\n",
    "p.show() # Now show the whole plot"
   ]
  },
  {
   "cell_type": "markdown",
   "metadata": {},
   "source": [
    "From the graph we see that utility continues to increase as we increase  x1x1  but it does so at a decreasing rate. We can calculate the marginal utility with respect to good one as the derivative of our utility function with respect to x1. Lets do this now in symPy. And then evaluate it at a = 10, b = .25 and x2 = 5."
   ]
  },
  {
   "cell_type": "code",
   "execution_count": 115,
   "metadata": {},
   "outputs": [
    {
     "name": "stdout",
     "output_type": "stream",
     "text": [
      "      b   1 - b\n",
      "a⋅b⋅x₁ ⋅x₂     \n",
      "───────────────\n",
      "       x₁      \n"
     ]
    },
    {
     "data": {
      "text/latex": [
       "$\\displaystyle \\frac{4.17962690610264}{x_{1}^{0.75}}$"
      ],
      "text/plain": [
       "4.17962690610264/x1**0.75"
      ]
     },
     "execution_count": 115,
     "metadata": {},
     "output_type": "execute_result"
    }
   ],
   "source": [
    "from sympy import Derivative\n",
    "mu1 = Derivative(U, x1).doit()\n",
    "pprint(mu1.doit())\n",
    "mu1At = mu1.subs({a:5, b:.25, x2:5})\n",
    "mu1At"
   ]
  },
  {
   "cell_type": "markdown",
   "metadata": {},
   "source": [
    "Now we can plot marginal utility."
   ]
  },
  {
   "cell_type": "code",
   "execution_count": 117,
   "metadata": {},
   "outputs": [
    {
     "data": {
      "image/png": "[encoded data removed]",
      "text/plain": [
       "<Figure size 640x480 with 1 Axes>"
      ]
     },
     "metadata": {},
     "output_type": "display_data"
    }
   ],
   "source": [
    "from sympy.plotting import plot\n",
    "p = plot(mu1At, (x1, 0, 100), show = False)  # Don't show the plot yet\n",
    "p.title='Marginal Utility of Good One'  # Add a title\n",
    "p.xlabel='x1' # Add a x axis label\n",
    "p.ylabel='mu' # Add a y axis label\n",
    "p[0].line_color = 'b'  #  Line blue\n",
    "p.ylim = (0.0, 20)\n",
    "p.legend=True  # Add a legend\n",
    "p.show() # Now show the whole plot"
   ]
  },
  {
   "cell_type": "markdown",
   "metadata": {},
   "source": [
    "Since utility was increasing at a decreasing rate, as expected, marginal utility is decreasing as $x_1$ increase.  This is sometimes refered to as the\n",
    "\n",
    "Law of Diminishing Marginal Utility\n",
    "\n",
    "and reflects the intuitive idea that the more we consume of one thing the less additional utility it brings us.  "
   ]
  },
  {
   "cell_type": "markdown",
   "metadata": {},
   "source": [
    "## Exercise Four\n",
    "\n",
    "The marginal rate of substituion can be defined as,\n",
    "\n",
    "\\begin{equation*}\n",
    "MRS(x_1, x_2) = \\frac{\\frac{\\partial U(x_1, x_2)}{\\partial x_1}}{\\frac{\\partial U(x_1, x_2)}{\\partial x_2}}\n",
    "\\end{equation*} \n",
    "\n",
    "In the cell below calculate the Marginal Rate of Substituion of the Cobb Douglas Utility function for at least five values of $x_1$ and $x_2$."
   ]
  },
  {
   "cell_type": "markdown",
   "metadata": {},
   "source": [
    "We have already dome a number of exercises with this equation, but do date we have not figured out how to solve one of the fundamental problems in economics.  What choices will consumers make.  We may hypothesize that consumers will maximize utility in which case they would solve the following problem:  \n",
    "\n",
    "\n",
    "### Utility Maximization \n",
    "\n",
    "Given $U(x_1, x_2)$ and $p_1, p_2,$ and m.\n",
    "\n",
    "Choose $(x_1, x_2) \\in \\Re _+^2$, to\n",
    "\n",
    "maximize $U(x_1, x_2)$,\n",
    "\n",
    "subject to, $p_1x_1 + p_2x_2 \\le m$.\n",
    "\n",
    "Lets look at some python code that will help us solve this problem.  First from before we have the following code.  Note, we have also calculated the marginal utility of good 2."
   ]
  },
  {
   "cell_type": "code",
   "execution_count": 123,
   "metadata": {
    "scrolled": true
   },
   "outputs": [
    {
     "data": {
      "text/plain": [
       "[(alpha*m/(p*(alpha + beta)),\n",
       "  beta*m/(q*(alpha + beta)),\n",
       "  alpha*(alpha*m)**(alpha - 1)*(beta*m/(q*(alpha + beta)))**beta*(alpha + beta)**(1 - alpha)/p**alpha)]"
      ]
     },
     "execution_count": 123,
     "metadata": {},
     "output_type": "execute_result"
    }
   ],
   "source": [
    "import sympy as sp\n",
    "\n",
    "# Define symbols\n",
    "x, y, p, q, m, alpha, beta = sp.symbols('x y p q m alpha beta', positive=True)\n",
    "\n",
    "# Utility function\n",
    "U = x**alpha * y**beta\n",
    "\n",
    "# Budget constraint\n",
    "budget = p * x + q * y - m\n",
    "\n",
    "# Lagrangian\n",
    "lambda_ = sp.symbols('lambda', positive=True)\n",
    "L = U - lambda_ * budget\n",
    "\n",
    "# First-order conditions\n",
    "FOCs = [sp.diff(L, var) for var in (x, y, lambda_)]\n",
    "solutions = sp.solve(FOCs, (x, y, lambda_))\n",
    "\n",
    "# Filter solutions where x > 0 and y > 0\n",
    "interior_solution = []\n",
    "for sol in solutions:\n",
    "    if sp.simplify(sol[0] > 0) and sp.simplify(sol[1] > 0):  # Simplify inequalities\n",
    "        interior_solution.append(sol)\n",
    "\n",
    "# Print the interior solution\n",
    "interior_solution"
   ]
  },
  {
   "cell_type": "markdown",
   "metadata": {},
   "source": [
    "$$x^* = \\frac{\\alpha m}{p(\\alpha + \\beta)}$$\n",
    "$$y^* = \\frac{\\beta m}{q(\\alpha + \\beta)}$$\n",
    "$$\\lambda^* = \\frac{\\alpha (\\alpha m)^{\\alpha-1}*\\left(\\frac{\\beta m}{q(\\alpha+\\beta)}\\right)^\\beta * (\\alpha + \\beta)^{1 - \\alpha}}{p^\\alpha}$$"
   ]
  },
  {
   "cell_type": "markdown",
   "metadata": {},
   "source": [
    "- $x^*(p, q, m)$ is demand for x\n",
    "- $y^*(p, q, m)$ is demand for y\n",
    "- $\\lambda^*(p, q, m)$ is the marginal utility of income "
   ]
  },
  {
   "cell_type": "code",
   "execution_count": 125,
   "metadata": {},
   "outputs": [
    {
     "name": "stdout",
     "output_type": "stream",
     "text": [
      "Budget Constraint Verification: 0\n"
     ]
    }
   ],
   "source": [
    "import sympy as sp\n",
    "\n",
    "# Define symbols\n",
    "x, y, p, q, m, alpha, beta = sp.symbols('x y p q m alpha beta')\n",
    "\n",
    "# Define the budget constraint\n",
    "budget = p * x + q * y - m\n",
    "\n",
    "# Optimal solution for x and y (use division for fractions)\n",
    "x_optimal = alpha * m / (p * (alpha + beta))  # alpha*m / (p*(alpha + beta))\n",
    "y_optimal = beta * m / (q * (alpha + beta))   # beta*m / (q*(alpha + beta))\n",
    "\n",
    "# Substitute the optimal x and y into the budget constraint\n",
    "budget_substituted = budget.subs({x: x_optimal, y: y_optimal})\n",
    "\n",
    "# Simplify the result\n",
    "verification_result = sp.simplify(budget_substituted)\n",
    "\n",
    "# Output the result\n",
    "print(\"Budget Constraint Verification:\", verification_result)\n"
   ]
  },
  {
   "cell_type": "code",
   "execution_count": 127,
   "metadata": {},
   "outputs": [
    {
     "name": "stdout",
     "output_type": "stream",
     "text": [
      "Simplified Numerator: 0\n",
      "Denominator: alpha + beta\n",
      "Simplified Budget Constraint Verification: 0\n"
     ]
    }
   ],
   "source": [
    "import sympy as sp\n",
    "\n",
    "# Define symbols\n",
    "x, y, p, q, m, alpha, beta = sp.symbols('x y p q m alpha beta')\n",
    "\n",
    "# Define the budget constraint\n",
    "budget = p * x + q * y - m\n",
    "\n",
    "# Assume interior_solution is as follows\n",
    "interior_solution = [(alpha*m/(p*(alpha + beta)), beta*m/(q*(alpha + beta)), \"lambda_value\")]\n",
    "\n",
    "# Extract optimal x and y\n",
    "x_optimal = interior_solution[0][0]\n",
    "y_optimal = interior_solution[0][1]\n",
    "\n",
    "# Substitute the optimal x and y into the budget constraint\n",
    "budget_substituted = budget.subs({x: x_optimal, y: y_optimal})\n",
    "\n",
    "# Extract numerator and denominator\n",
    "numerator = sp.expand(budget_substituted.as_numer_denom()[0])\n",
    "denominator = budget_substituted.as_numer_denom()[1]\n",
    "\n",
    "# Combine like terms in the numerator\n",
    "simplified_numerator = sp.collect(numerator, [alpha, beta])\n",
    "\n",
    "# Simplify the entire fraction\n",
    "simplified_result = sp.simplify(simplified_numerator / denominator)\n",
    "\n",
    "# Output the result\n",
    "print(\"Simplified Numerator:\", simplified_numerator)\n",
    "print(\"Denominator:\", denominator)\n",
    "print(\"Simplified Budget Constraint Verification:\", simplified_result)\n"
   ]
  },
  {
   "cell_type": "markdown",
   "metadata": {},
   "source": [
    "# Answers"
   ]
  },
  {
   "cell_type": "code",
   "execution_count": null,
   "metadata": {},
   "outputs": [],
   "source": [
    "from sympy import symbols, solve\n",
    "x,y = symbols('x,y')\n",
    "m = -2\n",
    "b = 10\n",
    "# y = mx + b  or y –mx – b = 0\n",
    "range_2 = int(solve(0-m*x-b,x)[0])   #solve for x where y=0\n",
    "for x in range(range_2 + 1):\n",
    "    y = m*x + b\n",
    "    print (x, y)"
   ]
  },
  {
   "cell_type": "code",
   "execution_count": null,
   "metadata": {},
   "outputs": [],
   "source": [
    "from sympy import symbols, solve\n",
    "x,y = symbols('x,y')\n",
    "\n",
    "m = float(input(\"Enter a value for slope m:\"))\n",
    "b = float(input(\"Enter a value for intercept b:\"))\n",
    "\n",
    "# y = mx + b  or y –mx – b = 0\n",
    "range_2 = int(solve(0-m*x-b,x)[0])   #solve for x where y=0\n",
    "\n",
    "for x in range(0,range_2+1):\n",
    "    print (x,solve(y-m*x-b,y)[0])"
   ]
  },
  {
   "cell_type": "code",
   "execution_count": null,
   "metadata": {},
   "outputs": [],
   "source": [
    "from sympy import symbols, solve\n",
    "x,y = symbols('x y')\n",
    "m = float(input(\"Enter a value for slope m:\"))  # slope of the line\n",
    "b = float(input(\"Enter a value for intercept b:\"))  # y intercept\n",
    "\n",
    "# create your empty lists here\n",
    "x_coords = []\n",
    "y_coords = []\n",
    "#y = m*x + b or y-mx-b=0\n",
    "range_2 = abs(int(solve(0-m*x-b,x)[0]))  #positive integer value for for_loop range\n",
    "\n",
    "for x in range(0,range_2+1):\n",
    "    #replace the print statement with list appends for both x and y values\n",
    "    x_coords.append(x)\n",
    "    y_coords.append(m*x + b)\n",
    "\n",
    "for x, y in zip(x_coords, y_coords):\n",
    "    print (x,y)"
   ]
  },
  {
   "cell_type": "code",
   "execution_count": null,
   "metadata": {},
   "outputs": [],
   "source": [
    "from pylab import plot, show, title, xlabel, ylabel\n",
    "plot(x_coords,y_coords)\n",
    "title(f'Plot of Budget Line: y = {b}{m}x')\n",
    "xlabel('x')\n",
    "ylabel('y')\n",
    "show()\n"
   ]
  }
 ],
 "metadata": {
  "anaconda-cloud": {},
  "kernelspec": {
   "display_name": "Python 3 (ipykernel)",
   "language": "python",
   "name": "python3"
  },
  "language_info": {
   "codemirror_mode": {
    "name": "ipython",
    "version": 3
   },
   "file_extension": ".py",
   "mimetype": "text/x-python",
   "name": "python",
   "nbconvert_exporter": "python",
   "pygments_lexer": "ipython3",
   "version": "3.12.4"
  },
  "toc": {
   "base_numbering": 1,
   "nav_menu": {},
   "number_sections": true,
   "sideBar": true,
   "skip_h1_title": false,
   "title_cell": "Table of Contents",
   "title_sidebar": "Contents",
   "toc_cell": false,
   "toc_position": {
    "height": "calc(100% - 180px)",
    "left": "10px",
    "top": "150px",
    "width": "252px"
   },
   "toc_section_display": true,
   "toc_window_display": true
  }
 },
 "nbformat": 4,
 "nbformat_minor": 4
}
