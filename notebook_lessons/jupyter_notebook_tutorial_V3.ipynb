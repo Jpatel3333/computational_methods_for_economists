{
 "cells": [
  {
   "cell_type": "markdown",
   "metadata": {},
   "source": [
    "# Introduction to Jupyter Notebooks\n",
    "\n",
    "There are several ways to work with Python.  \n",
    "* You can simply type python at a command window prompt and use the interactive editor.  This is useful if you want to quickly test a piece of Python code. \n",
    "* You can use an integrated development enviornmnet (IDE).  Later on we will teach you how to use an industry standard IDE called Visual Studio Code.\n",
    "* You can use Jupyter Notebooks which allow you to build your code in a setting where you can also use the markdown language to document what you are doing.\n",
    "\n",
    "This notebook provides an introduction to Jupyter Notebooks. Everything you need to know is covered in this notebook.  If at anytime you wonder how a notebook feature was accomplished you can look at the markdown code in the cell.\n",
    "\n",
    "Over time you will learn other features. A good basic introduction is [here](https://realpython.com/jupyter-notebook-introduction/).  Complete documentation for Jupyter Notebooks can be found [here](http://jupyter-notebook.readthedocs.io/en/latest/index.html). In particular, the [notebook examples](https://jupyter-notebook.readthedocs.io/en/latest/examples/Notebook/examples_index.html) tab is very useful.\n",
    "\n",
    "Data Camp has a more advanced tutorial [here](https://www.datacamp.com/community/tutorials/tutorial-jupyter-notebook).  Take a look when you have some time. Click [here](https://www.datacamp.com/community/blog/jupyter-notebook-cheat-sheet) to get Data Camp's one page cheat sheet for Jupyter Notebooks.  \n",
    "\n",
    "Additional help on the markdown language can be found [here](https://www.markdownguide.org/) with a cheatsheet [here](https://guides.github.com/pdfs/markdown-cheatsheet-online.pdf).  More information on mathjax, an included feature that allows you to enter mathematical equations into notebooks, can be found [here](https://www.mathjax.org/) with a online quick reference [here](https://math.meta.stackexchange.com/questions/5020/mathjax-basic-tutorial-and-quick-reference).\n",
    "\n",
    "How Netflix data scientists use Jupyter Notebooks can be found [here](https://medium.com/netflix-techblog/notebook-innovation-591ee3221233) .\n"
   ]
  },
  {
   "cell_type": "markdown",
   "metadata": {},
   "source": [
    "# Starting with your own notebooks\n",
    "\n",
    "Notebooks allow you to combine hyperlinks, documentation, and code together in a single document. In this section you will learn how to build your own notebook.  But first, go through a copy of this notebook and experiment all you want. If your experimenting goes awry, you can always go back to the original and make a new copy.  So, the first step is to learn how to copy a notebook.\n",
    "\n",
    "## Copying a notebook\n",
    "\n",
    "Click on File in the menu bar at the top of this window and then choose the sub-menu option ```Make a Copy ...```.  When you do this you will be taken to a copy of the notebook.  You can continue following these instructions in the new copy and leave the original as is. \n",
    "\n",
    "At the very top of the screen you will see the name of the notebook.  Since you are working in a copy it will say something like CSN_Primer Jupyter_Notebooks-Copy1.  To make this notebook your own, let's change the name by first clicking on the name and changing it.  If you are in a class or workshop you should use the following convention.  Change CSN to your last name and then add the rest of the title.  For me, the new notebook will be called McCabe_Primer Jupyter_Notebooks.  Notice that ```-Copy1``` has been deleted.  Go ahead and do this now. \n",
    "\n",
    "## Starting with a new notebook\n",
    "\n",
    "To create a new notebook you will have to go back to the top of the Jupyter Home page (where you loaded this notebook).  Look on your browser window tabs and click on the Jupyter Tab marked Home.  At the far right near the top, you will see a drop down menu labeled 'New' with a downward arrow. Open the sub-menu by clicking on the down arrow and choose `Python 3`.  This will start a new notebook with a name of untitled1.  Go ahead and change the name of your new notebook to LAST-NAME_Test.  For me this would be McCabe_Test.  Go ahead and do this now.  When you are done, come back to the notebook you called LAST-NAME_Jupyter_Primer. "
   ]
  },
  {
   "cell_type": "markdown",
   "metadata": {},
   "source": [
    "# Jupyter Notebook Cells\n",
    "\n",
    "Everything in a Jupyter Notebook appears in a cell.  For now we will consider two kinds of cells.  Code cells and Markdown cells.  Code cells start with ```IN [ ]:``` followed by some python code.  Right now you reading text in a markdown cell.  If you click inside the cell once, you will see it outlined in Blue.  If you double-click inside this cell, you will see it in edit mode and it will be outlined in green.  In edit mode you can enter text and use the markdown language to format the text.  When you are done editing a cell you can press ```<Ctrl>Enter``` on the keyboard to run the cell.  When you run a markdown cell the text is rendered and displayed in the format described by the markdown language.  You will no longer see the markdown language.  \n",
    "\n",
    "Go ahead and enter edit mode in this cell.  When you do so notice the first line in the cell now looks like\n",
    "```\n",
    "### Jupyter Notebook Cells\n",
    "```\n",
    "The three hashtags are markdown language which tells the computer to make the line ```Jupyter Notebook Cells``` a level three header.\n",
    "\n",
    "Look at the cell in edit mode go.  When you are done run the cell by pressing ```<Ctrl>Enter``` on the keyboard.\n"
   ]
  },
  {
   "cell_type": "markdown",
   "metadata": {},
   "source": [
    "## Making New Cells\n",
    "You can make a new cell below this cell by selecting this cell (blue outline) and clicking on ```+``` in the tool bar below the menu bar.  Go ahead and do this now.  Notice you get a code cell.  There is also a dropdown list in the tool bar that shows you the cell's type.  You can use the dropdown menu to change the cell type.  Try changing it to a ```Markdown``` cell. "
   ]
  },
  {
   "cell_type": "markdown",
   "metadata": {},
   "source": [
    "## Checkpoint One\n",
    "\n",
    "Make a cell below this checkpoint and change it to a markdown cell.  Now go ahead and click inside the cell to turn it green for editing and type in Hello World!.  Now we want Jupyter to render the cell.  To do this make sure you are in the cell and it has a green highlight then press `<Ctrl>Enter`. Change `Hello World!` to say, `Hello World! It is I.`  Did you remember to press `<Ctrl>Enter` when you were done to render the cell? \n",
    "\n"
   ]
  },
  {
   "cell_type": "markdown",
   "metadata": {},
   "source": [
    "## Trying some Python code\n",
    "\n",
    "When you build a notebook you can add Python code that will execute in your cell. \n",
    "\n",
    "Make a cell below and keep it as a code cell.  This is where we write code.  In our case Python 3 code.  Go ahead and type\n",
    "```python\n",
    "print (\"Hello World\")\n",
    "```\n",
    "into the cell.  Since this is Python code we can execute it by pressing `<Ctrl>Enter`.  If you get an error make sure you typed in exactly what you see above starting in the first column.  Go ahead and do this now."
   ]
  },
  {
   "cell_type": "markdown",
   "metadata": {},
   "source": [
    "Notice the output from the print appears right below the print statement and it is treated as part of that cell.  However you cannot edit output, but instead have to edit the print statement.  Try editing it now to say \n",
    "```python\n",
    "print (\"Hello World.  What's happening?\")\n",
    "```\n",
    "Remember to execute the cell again to get the output.\n",
    "\n"
   ]
  },
  {
   "cell_type": "markdown",
   "metadata": {},
   "source": [
    "## The Command Palette\n",
    "\n",
    "When you are in a cell, type `ctrl-shift-p`.  This will bring up the command palette. If you are working on Firefox or Google Chrome `ctrl-shift-p` is already in use as a browser function. In this case, use `ctrl-shift-f` or press the 'help' option on the menu bar, select 'Edit Keyboard Shortcuts', and find 'Command Palette' to add your own keyboar shortcut.  You can click on an option, in the command palette, to execute it.  Try this now by changing the header to a header 2 and then back to a header 4. Notice the 'Commad Palette' gives you a keyboard shortcut, in windows ```<Esc>m```, to change a cell to Markdown.  This will probably become your preferred way to execute this command.  Insert a code cell below and change it to a markdown cell using the command palette.  The make it a code cell again using the keyboard shortcut ```<Esc>y```.\n"
   ]
  },
  {
   "cell_type": "markdown",
   "metadata": {},
   "source": [
    "# Using the markdown formatting options\n",
    "\n",
    "All of the text formatting you see in this notebook is a result of using markdown formatting codes.  You can check out the cheat sheet for a complete list but for now we will have you try out a few in the cells below.\n",
    "\n",
    "## Headers\n",
    "\n",
    "A header is used to start a new section.  It renders the text in larger bold letters.  Insert a markdown cell below and add a header called,\n",
    "\n",
    "```\n",
    "THIS IS A TEST\n",
    "```\n",
    "by typing in the following,\n",
    "\n",
    "```\n",
    "## THIS IS A TEST\n",
    "```\n",
    "and then `<Ctrl>-Enter` to render the text. Be sure to leave a space between the # and THIS.  Once this works try varying the number of #'s between zero and six and see what happens to the header when you render it. "
   ]
  },
  {
   "cell_type": "markdown",
   "metadata": {},
   "source": [
    "## Text Emphasis\n",
    "We can produce python code inside a markdown cell as follows.  Remember you will have to double click on the cell to see the markdown.  \n",
    "\n",
    "```python\n",
    "x = 3\n",
    "if x == target:\n",
    "    print(x)\n",
    "```\n",
    "\n",
    "We can add emphasis to text in four ways that are useful as follows:\n",
    "\n",
    "1. Enclosing text with `*` will convert it to italics.  <br>Hi there becomes *Hi there*\n",
    "\n",
    "2. Enclosing text with `**` converts the text to bold.  <br>Hi there becomes **Hi there**\n",
    "\n",
    "3. Starting a line with `>` followed by a space introduces a block quote.  Thus Hi there becomes<br>\n",
    "> Hi there\n",
    "\n",
    "4. Enclosing text with the \\` key will highlight the test.  Note, this is not the single quote key `'`. <br> Hi there becomes `Hi there`\n",
    "\n",
    "One problem you want to avoid is the indiscriminate use of emphasis in your notebook will just make your text confusing to the reader.  \n",
    "\n",
    "> **Note:** When using emphasis it it s good idea to follow a convention that a reader of your notebook can become familiar with.\n"
   ]
  },
  {
   "cell_type": "markdown",
   "metadata": {
    "collapsed": true
   },
   "source": [
    "## Lists\n",
    "\n",
    "To make an unnumbered list simply start the line with a `*`.  You can get a sublist by indenting the `*` on the next line. Make sure there is a space between the asterisk and the item on the list. Insert a markdown cell below and try typing the following. \n",
    "\n",
    "```\n",
    "* Monday\n",
    "    * AM\n",
    "    * PM\n",
    "* Tuesday\n",
    "* Wednesday\n",
    "```\n",
    "Remember to then render the cell with `<Ctrl>-Enter`.\n",
    "\n"
   ]
  },
  {
   "cell_type": "markdown",
   "metadata": {},
   "source": [
    "## Tables\n",
    "\n",
    "To make a table you use the | character. Insert a markdown cell below and type the following table in the cell. \n",
    "\n",
    "```\n",
    "Part |Description\n",
    "-----|-----------\n",
    "A001 | Tire\n",
    "A002 | Rim\n",
    "B001 | Seat\n",
    "B002 | Seat Cushion\n",
    "```\n",
    "Remember to render."
   ]
  },
  {
   "cell_type": "markdown",
   "metadata": {},
   "source": [
    "## Adding External Hyperlinks\n",
    "\n",
    "The ability to add a hyperlink to web  pages is a very useful process in building a research notebook.  We have already used these type of links in the first section of the notebook.  Suppose for example you are doing some research on constrained optimization and you find this link:\n",
    "```\n",
    "https://en.wikipedia.org/wiki/Constrained_optimization\n",
    "```\n",
    "You can add this link to your notebook as shown in the following example. Insert a markdown cell below and type the following link in the cell.  \n",
    "```\n",
    "[Wikipedia page on constrained optimization](https://en.wikipedia.org/wiki/Constrained_optimization)\n",
    "```\n",
    "Remember to render. "
   ]
  },
  {
   "cell_type": "markdown",
   "metadata": {},
   "source": [
    "[Wikipedia page on constrained optimization](https://en.wikipedia.org/wiki/Constrained_optimization)"
   ]
  },
  {
   "cell_type": "markdown",
   "metadata": {},
   "source": [
    "<a id=\"adding_hyperlinks\"></a>\n",
    "## Adding Internal Hyperlinks\n",
    "\n",
    "Markdown also allows you to insert HTML into a cell.  This is the language used to build a web page.  Using HTML we can build hyperlinks into our notebook which allows us to link one cell to another.  To do this we use HTML to put an anchor on a cell we want to link to, and then use some markdown code to go to that anchor.  To see how this is done I created a cell near the end of this notebook with the header ```Final Thoughts```.  I then added the anchor,\n",
    "\n",
    "`<a id=\"final_thoughts\"></a>`\n",
    "\n",
    "to the top of the cell.  You will not see the anchor in that cell unless you try to edit the cell.  This cell has an anchor too so we can get back to this point.  Go ahead and double-click on this cell to see the anchor at the top of this cell.  When you are done render this cell with ```<Ctrl>Enter```    \n",
    "\n",
    "Now we can add a link to the anchor by inserting the following code.\n",
    "\n",
    "`... [GOTO Final Thoughts](#final_thoughts)`\n",
    "\n",
    "It will render as follows:\n",
    "\n",
    "... [GOTO Final Thoughts](#final_thoughts).  Now try to click on the link and then come back here.\n"
   ]
  },
  {
   "cell_type": "markdown",
   "metadata": {},
   "source": [
    "## Adding a Graphic to Your Notebook\n",
    "\n",
    "You can add a graphic to a cell by using the Insert Image command near the bottom of the drop down `Edit` menu.  To do this add a markdown cell below.  go into the cell to edit it (Green border).  Go to the `Edit` menu and click on the `Insert Image` tab and then click the `Browse` button to look for a graphic to add.  When you find the graphic you want to add double click on it ans click the `OK` button.  This will insert code looking something like this into your cell.\n",
    "```\n",
    "![YOUR FILE NAME](attachment:YOUR FILE NAME)\n",
    "```\n",
    "Now go ahead and render the cell."
   ]
  },
  {
   "cell_type": "markdown",
   "metadata": {},
   "source": [
    "## Checkpoint Two\n",
    "\n",
    "Make a cell below this checkpoint and change it to a markdown cell.  Add an anchor to the cell you just created.  Add another anchor to the cell with the header ```Exercise Two``` at the end of the notebook.  Now add a link from the cell you just created to the ```Exercise Two``` anchor.  Add a link back from ```Exercise Two``` to the anchor in your created cell.\n",
    "\n",
    "Render both cells and test your links.\n",
    "\n"
   ]
  },
  {
   "cell_type": "markdown",
   "metadata": {},
   "source": [
    "## Equations\n",
    "\n",
    "Jupyter also lets you to format math in an equivalent of LATEX called MathJax. LATEX is a language often used to write equations in published journal articles.  This means that the MathJax you use in your notebook can be reused later in a paper you may write later.  To get good at equation editing in LATEX or MathJax takes alot of practice, but it is relatively simple to get started.  Here is an example:\n",
    "\n",
    "$$\\sum_{i=0}^n i^2 = \\frac{(n^2+n)(2n+1)}{6}$$\n",
    "\n",
    "A quick reference to MathJax is [here](https://math.meta.stackexchange.com/questions/5020/mathjax-basic-tutorial-and-quick-reference).\n",
    "\n",
    "We can start out very simple.  Insert a markdown cell below and type and render the following.\n",
    "\n",
    "```\n",
    "$\\alpha, \\beta, \\gamma, \\delta$\n",
    "```\n"
   ]
  },
  {
   "cell_type": "markdown",
   "metadata": {},
   "source": [
    "We can now add some subscripts and superscripts.  Insert a markdown cell below and type and render the following.\n",
    "\n",
    "```\n",
    "$a_i, \\alpha^j,b_{ik}, \\beta^{jm}, \\gamma_{i,k}^{j, m}, \\hat \\delta_{i,k}^{j, m} $\n",
    "```\n",
    "\n",
    "To make it easier you can copy lines of text in a cell by highlighting them and then typing ```<Ctrl>c```.  You can copy either rendered text or text in edit mode.  To paste something a cell must be in edit mode.  Move the cursor to where you want to paste in the cell you want to paste it into and type ```<Ctrl>v```."
   ]
  },
  {
   "cell_type": "markdown",
   "metadata": {},
   "source": [
    "Suppose we want to write a is an element of A which is a subset of B intersect D.  We can do this by typing the following.\n",
    "\n",
    "```\n",
    "$a \\in A, where \\, A \\subset B \\cap D$\n",
    "```\n",
    "Add a markdown cell and try this."
   ]
  },
  {
   "cell_type": "markdown",
   "metadata": {},
   "source": [
    "Keep practicing using the [quick reference](https://math.meta.stackexchange.com/questions/5020/mathjax-basic-tutorial-and-quick-reference)."
   ]
  },
  {
   "cell_type": "markdown",
   "metadata": {},
   "source": [
    "<a id=\"final_thoughts\"></a>\n",
    "## Final Thoughts\n",
    "... [GOTO Adding Hyperlinks](#adding_hyperlinks)"
   ]
  },
  {
   "cell_type": "markdown",
   "metadata": {},
   "source": [
    "# Installing and using nbextensions\n",
    "\n",
    "You should have the table of contents and spell checker extensions enabled on your notebook.  To do this go to `nbextensions config` at the very bottom of the `EDIT` drop-down menu. If this tab is not here then go [here](https://towardsdatascience.com/jupyter-notebook-extensions-517fa69d2231) and [here](https://medium.com/@maxtingle/10-jupyter-notebook-extensions-making-my-lyfe-easier-f40139a334ce) to install it and see other options.\n",
    "\n",
    "When you click on the `nbextensions config` tab you can then use the radio button to choose the extensions you want to add. In particular choose the `spellchecker` and `Table of Contents (2)` options.  Now you should see these options to the right of you cell choice menu item."
   ]
  },
  {
   "cell_type": "markdown",
   "metadata": {},
   "source": [
    "# Project\n",
    "You can use Jupyter Notebooks to do research on topics.  One thing you can try is to implement the [Zettelkasten Method](https://zettelkasten.de/posts/zettelkasten-improves-thinking-writing/) invented by Niklas Luhmann.  You can read the blog above and then implement it using Jupyter Notebooks.  As a note you can always link to another notebook using the standard convention.\n",
    "```\n",
    "[id_title](another_notebook.ipynb)\n",
    "```\n",
    "In particular, a new note is added as a notebook and numbered using Luhmann's method 1, 2, etc. Subtopics and comments can be added using the headers with the top level header, #, being used to describe the topic and keep a link list to sub-headers. Hyperlinks across notebooks lets you connect different topics at different levels.     "
   ]
  },
  {
   "cell_type": "markdown",
   "metadata": {},
   "source": [
    "# Extras\n",
    "\n",
    "Jupyter notebooks can also be used to program in the statistical language `R`.  See [here](https://datatofish.com/r-jupyter-notebook/).  You can also use Jupyter notebooks to do mathematics using `sage math`.  see [here](https://www.sagemath.org/).  A very useful website for economists is [QuantEcon](https://quantecon.org/).  You can check out their Python lectures [here](https://python-programming.quantecon.org/intro.html) or another programming language called Julia [here](https://julia.quantecon.org/index_toc.html). They also have a lot of notebooks to provide further practice and learning [here](https://quantecon.org/notebooks/) and [here](https://notes.quantecon.org/).  You can even write your own book [here](https://jupyterbook.org/intro.html)."
   ]
  }
 ],
 "metadata": {
  "anaconda-cloud": {},
  "kernelspec": {
   "display_name": "Python 3",
   "language": "python",
   "name": "python3"
  },
  "language_info": {
   "codemirror_mode": {
    "name": "ipython",
    "version": 3
   },
   "file_extension": ".py",
   "mimetype": "text/x-python",
   "name": "python",
   "nbconvert_exporter": "python",
   "pygments_lexer": "ipython3",
   "version": "3.7.9"
  },
  "toc": {
   "base_numbering": 1,
   "nav_menu": {},
   "number_sections": true,
   "sideBar": true,
   "skip_h1_title": false,
   "title_cell": "Table of Contents",
   "title_sidebar": "Contents",
   "toc_cell": false,
   "toc_position": {
    "height": "calc(100% - 180px)",
    "left": "10px",
    "top": "150px",
    "width": "224px"
   },
   "toc_section_display": true,
   "toc_window_display": true
  }
 },
 "nbformat": 4,
 "nbformat_minor": 2
}
