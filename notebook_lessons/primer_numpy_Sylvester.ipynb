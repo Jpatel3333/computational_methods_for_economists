{
 "cells": [
  {
   "cell_type": "markdown",
   "metadata": {},
   "source": [
    "# NumPy"
   ]
  },
  {
   "cell_type": "markdown",
   "metadata": {},
   "source": [
    "NumPy is short for Numerical Python and is part of the SciPy ecosystem.  NumPy introduces a new container class called **ndarrays** which is short for n-dimensional arrays. \n",
    "\n",
    "Before using NumPy in a python file or jupyter notebook, you will have to import it."
   ]
  },
  {
   "cell_type": "code",
   "execution_count": 1,
   "metadata": {},
   "outputs": [],
   "source": [
    "import numpy as np"
   ]
  },
  {
   "cell_type": "markdown",
   "metadata": {},
   "source": [
    "## A. Building an ndarray"
   ]
  },
  {
   "cell_type": "markdown",
   "metadata": {},
   "source": [
    "We can use\n",
    "```python\n",
    "np.array(list)\n",
    "```\n",
    "to build an array."
   ]
  },
  {
   "cell_type": "code",
   "execution_count": 2,
   "metadata": {},
   "outputs": [
    {
     "name": "stdout",
     "output_type": "stream",
     "text": [
      "eg \n",
      " [4, 3.1, 7, 9, 11]\n",
      "\n",
      "eg1 \n",
      " <class 'numpy.ndarray'> \n",
      " [ 4.   3.1  7.   9.  11. ]\n"
     ]
    }
   ],
   "source": [
    "eg = [4, 3.1, 7, 9, 11] # This is a list\n",
    "eg1 = np.array(eg)  # This builds a one-dimensional array\n",
    "print(\"eg\", '\\n', eg)\n",
    "print()\n",
    "print(\"eg1\", '\\n', type(eg1),'\\n', eg1)"
   ]
  },
  {
   "cell_type": "code",
   "execution_count": 3,
   "metadata": {},
   "outputs": [
    {
     "name": "stdout",
     "output_type": "stream",
     "text": [
      "eg2 \n",
      " <class 'list'> \n",
      " [[1, 2, 3, 4], [5, 6, 7, 8]]\n",
      "\n",
      " Compare! \n",
      "\n",
      "eg3 \n",
      " <class 'numpy.ndarray'> \n",
      " [[1 2 3 4]\n",
      " [5 6 7 8]]\n"
     ]
    }
   ],
   "source": [
    "eg2 = [[1, 2, 3, 4], [5, 6, 7, 8]] # This is a list of lists\n",
    "eg3 = np.array(eg2) # This is a two dimensional array\n",
    "print(\"eg2\", '\\n',type(eg2),'\\n', eg2)\n",
    "print('\\n', \"Compare!\", '\\n')\n",
    "print(\"eg3\", '\\n',type(eg3), '\\n', eg3)"
   ]
  },
  {
   "cell_type": "markdown",
   "metadata": {},
   "source": [
    "We can also use\n",
    "```python\n",
    "np.zeros((M,N))\n",
    "```\n",
    "to build an M x N array of zeros.\n",
    "\n",
    "Or, we can use\n",
    "```python\n",
    "np.identity(N)\n",
    "```\n",
    "to build an N x N identity matrix.\n",
    "\n",
    "Or, we can use\n",
    "```python\n",
    "np.diag(list)\n",
    "```\n",
    "to build an N x N matrix with list on the diagonal."
   ]
  },
  {
   "cell_type": "code",
   "execution_count": 4,
   "metadata": {},
   "outputs": [
    {
     "name": "stdout",
     "output_type": "stream",
     "text": [
      "<class 'numpy.ndarray'> \n",
      " [[0. 0.]\n",
      " [0. 0.]\n",
      " [0. 0.]\n",
      " [0. 0.]\n",
      " [0. 0.]]\n"
     ]
    }
   ],
   "source": [
    "eg4 = np.zeros((5,2)) # This makes a 5x2 array of zeros\n",
    "print(type(eg4),'\\n', eg4)"
   ]
  },
  {
   "cell_type": "code",
   "execution_count": 9,
   "metadata": {},
   "outputs": [
    {
     "name": "stdout",
     "output_type": "stream",
     "text": [
      "<class 'numpy.ndarray'> \n",
      " [[1. 0. 0. 0.]\n",
      " [0. 1. 0. 0.]\n",
      " [0. 0. 1. 0.]\n",
      " [0. 0. 0. 1.]]\n"
     ]
    }
   ],
   "source": [
    "eg5 = np.identity(4) # This builds a 4x4 identity matrix\n",
    "print(type(eg5),'\\n', eg5)"
   ]
  },
  {
   "cell_type": "code",
   "execution_count": 6,
   "metadata": {},
   "outputs": [
    {
     "data": {
      "text/plain": [
       "array([[1, 0, 0, 0],\n",
       "       [0, 2, 0, 0],\n",
       "       [0, 0, 3, 0],\n",
       "       [0, 0, 0, 4]])"
      ]
     },
     "execution_count": 6,
     "metadata": {},
     "output_type": "execute_result"
    }
   ],
   "source": [
    "# diagonal array\n",
    "np.diag([1,2,3,4])"
   ]
  },
  {
   "cell_type": "markdown",
   "metadata": {},
   "source": [
    "We can use the **arange** function to build a one dimensional array as follows."
   ]
  },
  {
   "cell_type": "code",
   "execution_count": 10,
   "metadata": {},
   "outputs": [
    {
     "name": "stdout",
     "output_type": "stream",
     "text": [
      "<class 'numpy.ndarray'> \n",
      " [1 3 5]\n"
     ]
    }
   ],
   "source": [
    "eg6 = np.arange(start=1, stop=6, step=2)\n",
    "print(type(eg6),'\\n', eg6)"
   ]
  },
  {
   "cell_type": "code",
   "execution_count": 12,
   "metadata": {},
   "outputs": [
    {
     "name": "stdout",
     "output_type": "stream",
     "text": [
      "<class 'list'> [1, 2, 3]\n"
     ]
    }
   ],
   "source": [
    "x = [1,2,3]\n",
    "print(type(x), x)"
   ]
  },
  {
   "cell_type": "markdown",
   "metadata": {},
   "source": [
    "### Try It 1"
   ]
  },
  {
   "cell_type": "markdown",
   "metadata": {},
   "source": [
    "Use the code cell below to see if you can convert an array back to a list.  Try converting eg6 to a list first.  But notice what happens when you try to convert eg5.  can you explain why?"
   ]
  },
  {
   "cell_type": "code",
   "execution_count": 11,
   "metadata": {},
   "outputs": [
    {
     "name": "stdout",
     "output_type": "stream",
     "text": [
      "[1, 3, 5]\n",
      "[array([1., 0., 0., 0.]), array([0., 1., 0., 0.]), array([0., 0., 1., 0.]), array([0., 0., 0., 1.])]\n"
     ]
    }
   ],
   "source": [
    "# Try It Code\n",
    "print(list(eg6))\n",
    "print(list(eg5))"
   ]
  },
  {
   "cell_type": "markdown",
   "metadata": {},
   "source": [
    "We can use\n",
    "```python\n",
    "np.column_stack((A,B))\n",
    "```\n",
    "to build one dimensional arrays into columns of two dimensional arrays."
   ]
  },
  {
   "cell_type": "code",
   "execution_count": 13,
   "metadata": {},
   "outputs": [
    {
     "name": "stdout",
     "output_type": "stream",
     "text": [
      "a is [1 2 3]\n",
      "b is [5 6 7]\n"
     ]
    },
    {
     "data": {
      "text/plain": [
       "array([[1, 5],\n",
       "       [2, 6],\n",
       "       [3, 7]])"
      ]
     },
     "execution_count": 13,
     "metadata": {},
     "output_type": "execute_result"
    }
   ],
   "source": [
    "a = np.arange(1,4)\n",
    "print(f\"a is {a}\")\n",
    "b = np.arange(5,8)\n",
    "print(f\"b is {b}\")\n",
    "np.column_stack((a,b))"
   ]
  },
  {
   "cell_type": "markdown",
   "metadata": {},
   "source": [
    "## B. Properties of ndarrays "
   ]
  },
  {
   "cell_type": "markdown",
   "metadata": {},
   "source": [
    "We can use\n",
    "```python\n",
    "array_name.ndim\n",
    "```\n",
    "to find the number of dimensions of an array.\n",
    "\n",
    "We can also use\n",
    "```python\n",
    "array_name.shape\n",
    "```\n",
    "to find the shape of an array."
   ]
  },
  {
   "cell_type": "code",
   "execution_count": 14,
   "metadata": {},
   "outputs": [
    {
     "name": "stdout",
     "output_type": "stream",
     "text": [
      "<class 'numpy.ndarray'> \n",
      " [ 4.   3.1  7.   9.  11. ]\n",
      "Number of dimensions = 1\n",
      "Shape of array = (5,)\n",
      "\n",
      "\n",
      "<class 'numpy.ndarray'> \n",
      " [[0. 0.]\n",
      " [0. 0.]\n",
      " [0. 0.]\n",
      " [0. 0.]\n",
      " [0. 0.]]\n",
      "Number of dimensions = 2\n",
      "Shape of array = (5, 2)\n",
      "\n",
      "\n",
      "<class 'numpy.ndarray'> \n",
      " [[1. 0. 0. 0.]\n",
      " [0. 1. 0. 0.]\n",
      " [0. 0. 1. 0.]\n",
      " [0. 0. 0. 1.]]\n",
      "Number of dimensions = 2\n",
      "Shape of array = (4, 4)\n"
     ]
    }
   ],
   "source": [
    "print(type(eg1),'\\n', eg1)\n",
    "print(f'Number of dimensions = {eg1.ndim}')\n",
    "print(f'Shape of array = {eg1.shape}')\n",
    "print()\n",
    "print()\n",
    "print(type(eg4),'\\n', eg4)\n",
    "print(f'Number of dimensions = {eg4.ndim}')\n",
    "print(f'Shape of array = {eg4.shape}')\n",
    "print()\n",
    "print()\n",
    "print(type(eg5),'\\n', eg5)\n",
    "print(f'Number of dimensions = {eg5.ndim}')\n",
    "print(f'Shape of array = {eg5.shape}')\n"
   ]
  },
  {
   "cell_type": "markdown",
   "metadata": {},
   "source": [
    "We can use\n",
    "```python\n",
    "array_name.reshape(M, N)\n",
    "```\n",
    "to reshape an array."
   ]
  },
  {
   "cell_type": "code",
   "execution_count": 17,
   "metadata": {},
   "outputs": [
    {
     "name": "stdout",
     "output_type": "stream",
     "text": [
      "x is [0 1 2 3 4 5]\n",
      "[[0 1]\n",
      " [2 3]\n",
      " [4 5]]\n"
     ]
    },
    {
     "data": {
      "text/plain": [
       "2"
      ]
     },
     "execution_count": 17,
     "metadata": {},
     "output_type": "execute_result"
    }
   ],
   "source": [
    "# Common Usage\n",
    "x = np.arange(6)\n",
    "print(f\"x is {x}\")\n",
    "b = x.reshape(3,2)\n",
    "print(b)\n",
    "b.ndim"
   ]
  },
  {
   "cell_type": "markdown",
   "metadata": {},
   "source": [
    "### Try It 2"
   ]
  },
  {
   "cell_type": "markdown",
   "metadata": {},
   "source": [
    "What happened to the array x above when we used the reshape command? \n",
    "Try to do 2 lists with 3 items each."
   ]
  },
  {
   "cell_type": "code",
   "execution_count": 18,
   "metadata": {},
   "outputs": [
    {
     "data": {
      "text/plain": [
       "array([[0, 1, 2],\n",
       "       [3, 4, 5]])"
      ]
     },
     "execution_count": 18,
     "metadata": {},
     "output_type": "execute_result"
    }
   ],
   "source": [
    "# Try It Code\n",
    "b = x.reshape(2,3)\n",
    "b"
   ]
  },
  {
   "cell_type": "markdown",
   "metadata": {},
   "source": [
    "### Try It 3"
   ]
  },
  {
   "cell_type": "markdown",
   "metadata": {},
   "source": [
    "What does the assignment\n",
    "```python\n",
    "arr = np.arange(36).reshape(3, 4, 3)\n",
    "```\n",
    "result in?"
   ]
  },
  {
   "cell_type": "code",
   "execution_count": 24,
   "metadata": {},
   "outputs": [
    {
     "name": "stdout",
     "output_type": "stream",
     "text": [
      "[[[ 0  1  2]\n",
      "  [ 3  4  5]\n",
      "  [ 6  7  8]\n",
      "  [ 9 10 11]]\n",
      "\n",
      " [[12 13 14]\n",
      "  [15 16 17]\n",
      "  [18 19 20]\n",
      "  [21 22 23]]\n",
      "\n",
      " [[24 25 26]\n",
      "  [27 28 29]\n",
      "  [30 31 32]\n",
      "  [33 34 35]]]\n"
     ]
    },
    {
     "data": {
      "text/plain": [
       "3"
      ]
     },
     "execution_count": 24,
     "metadata": {},
     "output_type": "execute_result"
    }
   ],
   "source": [
    "# TryIt Code\n",
    "arr = np.arange(36).reshape(3, 4, 3)\n",
    "print(arr)\n",
    "arr.ndim"
   ]
  },
  {
   "cell_type": "markdown",
   "metadata": {},
   "source": [
    "### Try It 4"
   ]
  },
  {
   "cell_type": "markdown",
   "metadata": {},
   "source": [
    "What happens if a one dimensional array only has 10 elements and we try to reshape it as a 4x4 array?"
   ]
  },
  {
   "cell_type": "code",
   "execution_count": 25,
   "metadata": {},
   "outputs": [
    {
     "ename": "ValueError",
     "evalue": "cannot reshape array of size 10 into shape (4,4)",
     "output_type": "error",
     "traceback": [
      "\u001b[0;31m---------------------------------------------------------------------------\u001b[0m",
      "\u001b[0;31mValueError\u001b[0m                                Traceback (most recent call last)",
      "\u001b[0;32m<ipython-input-25-292d6104aa4c>\u001b[0m in \u001b[0;36m<module>\u001b[0;34m\u001b[0m\n\u001b[1;32m      1\u001b[0m \u001b[0;31m# Try It Code\u001b[0m\u001b[0;34m\u001b[0m\u001b[0;34m\u001b[0m\u001b[0;34m\u001b[0m\u001b[0m\n\u001b[1;32m      2\u001b[0m \u001b[0mx\u001b[0m \u001b[0;34m=\u001b[0m \u001b[0mnp\u001b[0m\u001b[0;34m.\u001b[0m\u001b[0marange\u001b[0m\u001b[0;34m(\u001b[0m\u001b[0;36m10\u001b[0m\u001b[0;34m)\u001b[0m\u001b[0;34m\u001b[0m\u001b[0;34m\u001b[0m\u001b[0m\n\u001b[0;32m----> 3\u001b[0;31m \u001b[0mb\u001b[0m \u001b[0;34m=\u001b[0m \u001b[0mx\u001b[0m\u001b[0;34m.\u001b[0m\u001b[0mreshape\u001b[0m\u001b[0;34m(\u001b[0m\u001b[0;36m4\u001b[0m\u001b[0;34m,\u001b[0m\u001b[0;36m4\u001b[0m\u001b[0;34m)\u001b[0m\u001b[0;34m\u001b[0m\u001b[0;34m\u001b[0m\u001b[0m\n\u001b[0m\u001b[1;32m      4\u001b[0m \u001b[0mb\u001b[0m\u001b[0;34m\u001b[0m\u001b[0;34m\u001b[0m\u001b[0m\n",
      "\u001b[0;31mValueError\u001b[0m: cannot reshape array of size 10 into shape (4,4)"
     ]
    }
   ],
   "source": [
    "# Try It Code\n",
    "x = np.arange(10)\n",
    "b = x.reshape(4,4)\n",
    "b"
   ]
  },
  {
   "cell_type": "markdown",
   "metadata": {},
   "source": [
    "**Note:** ndarrays are `fixed shape` with elements all of the `same type`."
   ]
  },
  {
   "cell_type": "code",
   "execution_count": 26,
   "metadata": {},
   "outputs": [
    {
     "name": "stdout",
     "output_type": "stream",
     "text": [
      "float64\n"
     ]
    }
   ],
   "source": [
    "print(eg1.dtype) # data type"
   ]
  },
  {
   "cell_type": "markdown",
   "metadata": {},
   "source": [
    "We can use\n",
    "```python\n",
    "array_name.astype(element-type)\n",
    "```\n",
    "to change the element types in an array."
   ]
  },
  {
   "cell_type": "code",
   "execution_count": 27,
   "metadata": {},
   "outputs": [
    {
     "name": "stdout",
     "output_type": "stream",
     "text": [
      "int64 \n",
      " [0 1 2 3 4 5 6 7 8 9]\n",
      "\n",
      "float64 \n",
      " [0. 1. 2. 3. 4. 5. 6. 7. 8. 9.]\n"
     ]
    }
   ],
   "source": [
    "eg1 = np.arange(10)\n",
    "print(eg1.dtype,'\\n', eg1)\n",
    "print()\n",
    "eg2 = eg1.astype(np.float64)\n",
    "print(eg2.dtype,'\\n', eg2)"
   ]
  },
  {
   "cell_type": "markdown",
   "metadata": {},
   "source": [
    "Possible **darray datatypes** for elements\n",
    "\n",
    "1. int8, int16, int32, int64\n",
    "2. float16, float32, float64, float128\n",
    "3. complex64, comples128, complex256\n",
    "4. bool, object, string_"
   ]
  },
  {
   "cell_type": "code",
   "execution_count": 28,
   "metadata": {},
   "outputs": [
    {
     "name": "stdout",
     "output_type": "stream",
     "text": [
      "|S4 \n",
      " [b'1.25' b'-9.6' b'42']\n",
      "\n",
      "float64 \n",
      " [ 1.25 -9.6  42.  ]\n"
     ]
    }
   ],
   "source": [
    "eg3 = np.array(['1.25', '-9.6', '42'], dtype=np.string_)\n",
    "print(eg3.dtype,'\\n', eg3)\n",
    "print()\n",
    "eg4 = eg3.astype(float)  # notice we can just use the keyword float\n",
    "print(eg4.dtype,'\\n', eg4)"
   ]
  },
  {
   "cell_type": "markdown",
   "metadata": {},
   "source": [
    "### Try It 5"
   ]
  },
  {
   "cell_type": "markdown",
   "metadata": {},
   "source": [
    "Change eg4 back into a string."
   ]
  },
  {
   "cell_type": "code",
   "execution_count": 30,
   "metadata": {},
   "outputs": [
    {
     "data": {
      "text/plain": [
       "array([b'1.25', b'-9.6', b'42.0'], dtype='|S32')"
      ]
     },
     "execution_count": 30,
     "metadata": {},
     "output_type": "execute_result"
    }
   ],
   "source": [
    "# Try It Code\n",
    "eg9 = eg4.astype(np.string_)\n",
    "eg9"
   ]
  },
  {
   "cell_type": "markdown",
   "metadata": {},
   "source": [
    "### C. Indexing and walking through ndarrays"
   ]
  },
  {
   "cell_type": "code",
   "execution_count": 35,
   "metadata": {},
   "outputs": [
    {
     "name": "stdout",
     "output_type": "stream",
     "text": [
      "eg1 [0 1 2 3 4 5 6 7 8 9] \n",
      " 1\n",
      "\n",
      "eg5 \n",
      " [[1. 0. 0. 0.]\n",
      " [0. 1. 0. 0.]\n",
      " [0. 0. 1. 0.]\n",
      " [0. 0. 0. 1.]] \n",
      " 1.0\n",
      "\n",
      "eg4 [ 1.25  3.   42.  ] \n",
      " 3.0\n",
      "\n",
      "eg4 [ 1.25  4.   42.  ] \n",
      " 4.0\n"
     ]
    }
   ],
   "source": [
    "print(\"eg1\", eg1, '\\n', eg1[1])\n",
    "print()\n",
    "print(\"eg5\", '\\n', eg5,'\\n', eg5[1][1])\n",
    "print()\n",
    "print(\"eg4\", eg4,'\\n', eg4[1])\n",
    "print()\n",
    "eg4[1] = 4.  # This shows that ndarrays are mutable \n",
    "print(\"eg4\", eg4,'\\n', eg4[1])"
   ]
  },
  {
   "cell_type": "markdown",
   "metadata": {},
   "source": [
    "**We can walk through an array using for loops**"
   ]
  },
  {
   "cell_type": "code",
   "execution_count": 36,
   "metadata": {},
   "outputs": [
    {
     "name": "stdout",
     "output_type": "stream",
     "text": [
      "<class 'numpy.ndarray'> 1 [1. 0. 0. 0.]\n",
      "<class 'numpy.ndarray'> 1 [0. 1. 0. 0.]\n",
      "<class 'numpy.ndarray'> 1 [0. 0. 1. 0.]\n",
      "<class 'numpy.ndarray'> 1 [0. 0. 0. 1.]\n"
     ]
    }
   ],
   "source": [
    "for h in eg5:\n",
    "    print(type(h), h.ndim, h)"
   ]
  },
  {
   "cell_type": "code",
   "execution_count": 37,
   "metadata": {},
   "outputs": [
    {
     "name": "stdout",
     "output_type": "stream",
     "text": [
      "Element 0, 0 = 1.0\n",
      "Element 0, 1 = 0.0\n",
      "Element 0, 2 = 0.0\n",
      "Element 0, 3 = 0.0\n",
      "Element 1, 0 = 0.0\n",
      "Element 1, 1 = 1.0\n",
      "Element 1, 2 = 0.0\n",
      "Element 1, 3 = 0.0\n",
      "Element 2, 0 = 0.0\n",
      "Element 2, 1 = 0.0\n",
      "Element 2, 2 = 1.0\n",
      "Element 2, 3 = 0.0\n",
      "Element 3, 0 = 0.0\n",
      "Element 3, 1 = 0.0\n",
      "Element 3, 2 = 0.0\n",
      "Element 3, 3 = 1.0\n"
     ]
    }
   ],
   "source": [
    "for h, k in enumerate(eg5):\n",
    "    for i, j in enumerate(k):\n",
    "        print(f'Element {h}, {i} = {j}')"
   ]
  },
  {
   "cell_type": "markdown",
   "metadata": {},
   "source": [
    "## D.  Operations on ndarrays"
   ]
  },
  {
   "cell_type": "code",
   "execution_count": 38,
   "metadata": {},
   "outputs": [
    {
     "data": {
      "text/plain": [
       "array([[5.5, 0. , 0. ],\n",
       "       [0. , 5.5, 0. ],\n",
       "       [0. , 0. , 5.5]])"
      ]
     },
     "execution_count": 38,
     "metadata": {},
     "output_type": "execute_result"
    }
   ],
   "source": [
    "np.identity(3)*5.5"
   ]
  },
  {
   "cell_type": "code",
   "execution_count": 39,
   "metadata": {},
   "outputs": [
    {
     "data": {
      "text/plain": [
       "array([[5.5, 0. , 0. ],\n",
       "       [0. , 5.5, 0. ],\n",
       "       [0. , 0. , 5.5]])"
      ]
     },
     "execution_count": 39,
     "metadata": {},
     "output_type": "execute_result"
    }
   ],
   "source": [
    "np.diag([5.5, 5.5, 5.5])"
   ]
  },
  {
   "cell_type": "code",
   "execution_count": 40,
   "metadata": {},
   "outputs": [
    {
     "name": "stdout",
     "output_type": "stream",
     "text": [
      "float64 \n",
      " [[6.1 0.  0.  0.  0. ]\n",
      " [0.  6.1 0.  0.  0. ]\n",
      " [0.  0.  6.1 0.  0. ]\n",
      " [0.  0.  0.  6.1 0. ]\n",
      " [0.  0.  0.  0.  6.1]]\n",
      "\n",
      "float64 \n",
      " [[ 0.16393443  0.          0.          0.          0.        ]\n",
      " [ 0.          0.16393443  0.          0.          0.        ]\n",
      " [ 0.          0.          0.16393443  0.          0.        ]\n",
      " [-0.         -0.         -0.          0.16393443 -0.        ]\n",
      " [ 0.          0.          0.          0.          0.16393443]]\n",
      "\n",
      "float64 \n",
      " [[1. 0. 0. 0. 0.]\n",
      " [0. 1. 0. 0. 0.]\n",
      " [0. 0. 1. 0. 0.]\n",
      " [0. 0. 0. 1. 0.]\n",
      " [0. 0. 0. 0. 1.]]\n",
      "\n"
     ]
    }
   ],
   "source": [
    "eg1 = np.identity(5)*6.1\n",
    "print(eg1.dtype,'\\n', eg1)\n",
    "print()\n",
    "#\n",
    "# invert the matrix\n",
    "#\n",
    "eg2 = np.linalg.inv(eg1)\n",
    "print(eg2.dtype,'\\n', eg2)\n",
    "print()\n",
    "#\n",
    "# multiply matrix time inverse to get identity\n",
    "#\n",
    "eg3 = np.dot(eg1, eg2)\n",
    "print(eg3.dtype,'\\n', eg3)\n",
    "print()"
   ]
  },
  {
   "cell_type": "code",
   "execution_count": 41,
   "metadata": {},
   "outputs": [
    {
     "name": "stdout",
     "output_type": "stream",
     "text": [
      "eg6 \n",
      " [[1. 2.]\n",
      " [3. 4.]]\n",
      "\n",
      "eg7 \n",
      " [[1. 3.]\n",
      " [2. 4.]]\n"
     ]
    }
   ],
   "source": [
    "# Transpose with the .T operator\n",
    "\n",
    "eg6 = np.array([[1.,2.],[3.,4.]])\n",
    "print(\"eg6\", '\\n', eg6)\n",
    "print()\n",
    "eg7 = eg6.T\n",
    "print(\"eg7\", '\\n', eg7)"
   ]
  },
  {
   "cell_type": "markdown",
   "metadata": {},
   "source": [
    "## E. Random Variables Using Numpy"
   ]
  },
  {
   "cell_type": "code",
   "execution_count": 42,
   "metadata": {},
   "outputs": [
    {
     "name": "stdout",
     "output_type": "stream",
     "text": [
      "<class 'numpy.ndarray'>\n",
      "[[6 3 4 8]\n",
      " [3 6 8 7]\n",
      " [5 3 0 3]]\n"
     ]
    }
   ],
   "source": [
    "np.random.seed(4271)\n",
    "eg = np.random.randint(low=0, high=10, size=(3,4))\n",
    "print(type(eg))\n",
    "print(eg)"
   ]
  },
  {
   "cell_type": "code",
   "execution_count": 43,
   "metadata": {},
   "outputs": [],
   "source": [
    "%matplotlib inline\n",
    "\n",
    "import matplotlib.pyplot as plt  # import matplotlib\n",
    "import numpy as np\n",
    "\n",
    "def histogram_plot(data, bins, plot_title):  \n",
    "    plt.title(plot_title)\n",
    "    plt.xlabel('Observations')\n",
    "    plt.ylabel('Count')\n",
    "    plt.hist(data, bins)   \n",
    "    plt.show()\n",
    "    "
   ]
  },
  {
   "cell_type": "code",
   "execution_count": 44,
   "metadata": {},
   "outputs": [
    {
     "data": {
      "image/png": "[encoded data removed]",
      "text/plain": [
       "<Figure size 432x288 with 1 Axes>"
      ]
     },
     "metadata": {
      "needs_background": "light"
     },
     "output_type": "display_data"
    }
   ],
   "source": [
    "# Test Function\n",
    "\n",
    "np.random.seed(4288)    \n",
    "random_data = np.random.choice(range(11), 100)\n",
    "bins = len(set(random_data))\n",
    "histogram_plot(random_data, bins, 'Sample Histogram')"
   ]
  },
  {
   "cell_type": "markdown",
   "metadata": {},
   "source": [
    "Just a quick reminder, the mean, the measure of center of the distribution, is calculated using the following formula.\n",
    "\n",
    "\\begin{equation}\n",
    "    \\bar{x} = \\frac{1}{n}\\sum^{n}_{i=0}x_i\n",
    "\\end{equation}\n",
    "\n",
    "The standard deviation, the measure of the distribution's spread, is then calculated using the following formula.\n",
    "\n",
    "\\begin{equation}\n",
    "    \\bar{s} = \\sqrt{\\frac{1}{n}\\sum^{n}_{i=0}(x_{i}-\\bar{x})^2}\n",
    "\\end{equation}"
   ]
  },
  {
   "cell_type": "markdown",
   "metadata": {},
   "source": [
    "### Try It 6"
   ]
  },
  {
   "cell_type": "markdown",
   "metadata": {},
   "source": [
    "Look up NumPy mean and standard deviation methods and then find the mean and standard deviation to the rand_numbs array below."
   ]
  },
  {
   "cell_type": "code",
   "execution_count": 50,
   "metadata": {},
   "outputs": [
    {
     "name": "stdout",
     "output_type": "stream",
     "text": [
      "[[ 8  7  3  9  8  6  5  5  6  7  5  1  5  9  1  1  7  6  7  8  7  6  2  3\n",
      "   0  3  2  5  6  6  1  7  7 10  7  2  4  8  8  3  7  5  2  6  8  6  8  2\n",
      "  10  5  9  4  0  4  2  8  1  6  3  2  5  1  1  7  7  4  9 10  2  2  2  8\n",
      "   1  1 10  5  5  7 10  9  0 10  7  3  7  9  1  6  2  7  4  6  6  2  9  9\n",
      "   6  7  1  6]]\n",
      "\n",
      "Mean = 5.23 and Average = 5.23 and Std_dev = 2.8630578059131118\n"
     ]
    }
   ],
   "source": [
    "# Try It\n",
    "rand_numbs = np.random.randint(low=0, high=11, size = (1,100))\n",
    "print(rand_numbs)\n",
    "print()\n",
    "\n",
    "mean = np.mean(rand_numbs)\n",
    "average = np.average(rand_numbs)\n",
    "std_dev = np.std(rand_numbs)\n",
    "print(f\"Mean = {mean} and Average = {average} and Std_dev = {std_dev}\")"
   ]
  },
  {
   "cell_type": "markdown",
   "metadata": {},
   "source": [
    "### MiniProject"
   ]
  },
  {
   "cell_type": "markdown",
   "metadata": {},
   "source": [
    "Your goal is to write a function that will do repeated sampling, and return a list of sample means.\n",
    "\n",
    "Name this function `sample()` and be able to pass it the number of samples it should generate.\n",
    "\n",
    "Using the cell below, import your sampling function, construct a `for` loop, and have it generate sample averages for a number of samples equal to 10, 100, 1,000, 10,000, 100,000, and 1,000,000\n",
    "\n",
    "At each iteration, plot the data.\n",
    "\n",
    "This means your loop should look something like this\n",
    "```python\n",
    "\n",
    "sample_sizes = [10, 100, 1000, 10000, 100000, 1000000]\n",
    "for n in sample_sizes:\n",
    "    sample_means = sample(n)\n",
    "    histogram_plot(sample_means, bin_size, f'sample size = {n}')\n",
    "\n",
    "```\n",
    "You might want to try \n",
    "```python\n",
    "bin_size = int(n**.334*2) # Rice's Rule\n",
    "```\n",
    "Looking at your plots, write what you notice about the shape of the distribution as $n \\to \\infty$.\n",
    "You can try to use larger numbers of samples, but know that it will take longer and longer to compute!"
   ]
  },
  {
   "cell_type": "code",
   "execution_count": 52,
   "metadata": {},
   "outputs": [
    {
     "data": {
      "image/png": "[encoded data removed]",
      "text/plain": [
       "<Figure size 432x288 with 1 Axes>"
      ]
     },
     "metadata": {
      "needs_background": "light"
     },
     "output_type": "display_data"
    },
    {
     "name": "stdout",
     "output_type": "stream",
     "text": [
      "4\n"
     ]
    },
    {
     "data": {
      "image/png": "[encoded data removed]",
      "text/plain": [
       "<Figure size 432x288 with 1 Axes>"
      ]
     },
     "metadata": {
      "needs_background": "light"
     },
     "output_type": "display_data"
    },
    {
     "name": "stdout",
     "output_type": "stream",
     "text": [
      "9\n"
     ]
    },
    {
     "data": {
      "image/png": "[encoded data removed]",
      "text/plain": [
       "<Figure size 432x288 with 1 Axes>"
      ]
     },
     "metadata": {
      "needs_background": "light"
     },
     "output_type": "display_data"
    },
    {
     "name": "stdout",
     "output_type": "stream",
     "text": [
      "20\n"
     ]
    },
    {
     "data": {
      "image/png": "[encoded data removed]",
      "text/plain": [
       "<Figure size 432x288 with 1 Axes>"
      ]
     },
     "metadata": {
      "needs_background": "light"
     },
     "output_type": "display_data"
    },
    {
     "name": "stdout",
     "output_type": "stream",
     "text": [
      "43\n"
     ]
    },
    {
     "data": {
      "image/png": "[encoded data removed]",
      "text/plain": [
       "<Figure size 432x288 with 1 Axes>"
      ]
     },
     "metadata": {
      "needs_background": "light"
     },
     "output_type": "display_data"
    },
    {
     "name": "stdout",
     "output_type": "stream",
     "text": [
      "93\n"
     ]
    },
    {
     "data": {
      "image/png": "[encoded data removed]",
      "text/plain": [
       "<Figure size 432x288 with 1 Axes>"
      ]
     },
     "metadata": {
      "needs_background": "light"
     },
     "output_type": "display_data"
    },
    {
     "name": "stdout",
     "output_type": "stream",
     "text": [
      "201\n"
     ]
    }
   ],
   "source": [
    "def sample(size):\n",
    "    data = []\n",
    "    for k in range(size):\n",
    "        random_data = np.random.uniform(low = 0.0, high = 1.0, size = 10)\n",
    "        data.append(np.mean(random_data))\n",
    "    return data\n",
    "        \n",
    "sample_sizes = [10, 100, 1000, 10000, 100000, 1000000]\n",
    "for n in sample_sizes:\n",
    "    sample_means = sample(n)\n",
    "    histogram_plot(sample_means, int(n**.334 * 2), f'sample size = {n}')\n",
    "    print(int(n**.334 * 2))\n"
   ]
  },
  {
   "cell_type": "markdown",
   "metadata": {},
   "source": [
    "# Try It Solutions"
   ]
  },
  {
   "cell_type": "markdown",
   "metadata": {},
   "source": [
    "## Try It 1\n",
    "Use the code cell below to see if you can convert an array back to a list. Try converting eg6 to a list first. But notice what happens when you try to convert eg5. can you explain why?"
   ]
  },
  {
   "cell_type": "code",
   "execution_count": null,
   "metadata": {},
   "outputs": [],
   "source": [
    "print(list(eg6))\n",
    "print(list(eg5))"
   ]
  },
  {
   "cell_type": "markdown",
   "metadata": {},
   "source": [
    "## Try It 2\n",
    "What happened to the array x above when we used the reshape command? \n",
    "Try to do 2 lists with 3 items each."
   ]
  },
  {
   "cell_type": "code",
   "execution_count": null,
   "metadata": {},
   "outputs": [],
   "source": [
    "# Try It Code\n",
    "x = np.arange(6)\n",
    "b = x.reshape(2,3)\n",
    "b"
   ]
  },
  {
   "cell_type": "markdown",
   "metadata": {},
   "source": [
    "## Try It 3\n",
    "\n",
    "What does the assignment\n",
    "```python\n",
    "arr = np.arange(36).reshape(3, 4, 3)\n",
    "```\n",
    "result in?"
   ]
  },
  {
   "cell_type": "code",
   "execution_count": null,
   "metadata": {},
   "outputs": [],
   "source": [
    "arr = np.arange(36).reshape(3, 4, 3)\n",
    "#Maybe 3 matricies, 4 rows, 3 columns\n",
    "arr\n"
   ]
  },
  {
   "cell_type": "markdown",
   "metadata": {},
   "source": [
    "## Try It 4\n",
    "What happens if a one dimensional array only has 10 elements and we try to reshape it as a 4x4 array?"
   ]
  },
  {
   "cell_type": "code",
   "execution_count": null,
   "metadata": {},
   "outputs": [],
   "source": [
    "x = np.arange(11)\n",
    "b = x.reshape(4,4)\n",
    "b"
   ]
  },
  {
   "cell_type": "markdown",
   "metadata": {},
   "source": [
    "## Try It 5\n",
    "\n",
    "Change eg4 back into a string."
   ]
  },
  {
   "cell_type": "code",
   "execution_count": null,
   "metadata": {},
   "outputs": [],
   "source": [
    "eg5 = eg4.astype(np.string_)  \n",
    "print(eg5.dtype,'\\n', eg5)"
   ]
  },
  {
   "cell_type": "markdown",
   "metadata": {},
   "source": [
    "## Try It 6\n",
    "\n",
    "Look up NumPy mean and standard deviation methods and then find the mean and standard deviation to the rand_numbs array below."
   ]
  },
  {
   "cell_type": "code",
   "execution_count": null,
   "metadata": {},
   "outputs": [],
   "source": [
    "rand_numbs = np.random.randint(low=0, high=11, size = (1,100))\n",
    "print(rand_numbs)\n",
    "print()\n",
    "\n",
    "mean = np.mean(rand_numbs)\n",
    "std_dev = np.std(rand_numbs)\n",
    "print(f\"Mean = {mean} and Std_dev = {std_dev}\")"
   ]
  }
 ],
 "metadata": {
  "kernelspec": {
   "display_name": "Python 3",
   "language": "python",
   "name": "python3"
  },
  "language_info": {
   "codemirror_mode": {
    "name": "ipython",
    "version": 3
   },
   "file_extension": ".py",
   "mimetype": "text/x-python",
   "name": "python",
   "nbconvert_exporter": "python",
   "pygments_lexer": "ipython3",
   "version": "3.7.6"
  },
  "toc": {
   "base_numbering": 1,
   "nav_menu": {},
   "number_sections": true,
   "sideBar": true,
   "skip_h1_title": false,
   "title_cell": "Table of Contents",
   "title_sidebar": "Contents",
   "toc_cell": false,
   "toc_position": {
    "height": "calc(100% - 180px)",
    "left": "10px",
    "top": "150px",
    "width": "202.825px"
   },
   "toc_section_display": true,
   "toc_window_display": true
  }
 },
 "nbformat": 4,
 "nbformat_minor": 2
}
