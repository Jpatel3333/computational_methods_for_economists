{
 "cells": [
  {
   "cell_type": "markdown",
   "metadata": {},
   "source": [
    "# Programming Workflow"
   ]
  },
  {
   "cell_type": "markdown",
   "metadata": {},
   "source": [
    "This primer gives you a **workflow for testing and developing software** using Jupyter Notebooks.  Over time most of this workflow will be done in an IDE like **Visual Studio Code** or **PyCharm**, and you will use version control software like **git** and **GitHub**."
   ]
  },
  {
   "cell_type": "markdown",
   "metadata": {},
   "source": [
    "## Introduction"
   ]
  },
  {
   "cell_type": "markdown",
   "metadata": {},
   "source": [
    "A workflow is a usful routine for doing something.  As you work on projects you should develop a workflow that works for you.  What follows is a starting point.  Often a project you are working on will need you to develop a piece of software.  Here is a typical workflow:\n",
    "\n",
    "1. **Problem Statement:** What problem does my software solve?\n",
    "2. **Algorithmic Design:** What algorithms you will use?\n",
    "3. **Implementation Design:** How will you implement the algorithms?\n",
    "    1. **Data Structures:** What data structures will you use?\n",
    "    2. **Libraries:** What libraries will you use?\n",
    "    3. **Functions and Classes:** What is the pseudo-code?\n",
    "4. **Implementation Coding:**\n",
    "    1. **DocStrings:** Write doc strings.\n",
    "    2. **Add TODO comments**: Indicates coding steps.\n",
    "    3. **Incremental Coding:** Code and test TODO's.  Use a code linter.\n",
    "    4. **Add doctest(s):** Tests in doc strings.  Simpler than unit tests.\n",
    "    5. **Add logging Files:** To record what your code is doing.\n",
    "    6. **Add Exception Handling:** asserts and try/excepts.\n",
    "5. **Refactor Code:** Look for improvements, coding, function usage, and documentation.\n",
    "    1. **Perform Walkthroughs:** Using **pdb** breakpoints() to walk-through code. \n",
    "6. **Package Code:** Make available as a module.\n",
    "\n",
    "As you work on your program the steps will not be as linear as they are written in this introduction.  Instead it will be a more back and forth process."
   ]
  },
  {
   "cell_type": "markdown",
   "metadata": {},
   "source": [
    "# Problem Statement\n",
    "\n",
    "> In economics many problems can be described in terms of a **microeconomic Systems** framework first described by Leonid Hurwicz (1960).  We can think of a microeconomic system as consisting of an **environment** and an **institution**.  The environment consists of a **state space**, a set of **transformation rules** that change state, and a set of **agents** with preferences over state.  The institution consists of a **message space** and a **message/event** driven algorithm that produces state changes.  One example of the algorithmic approach is given by Mount and Reiter (2002). \n",
    "\n",
    "## MES-F -> MES-M -> MES-C -> MES-E\n",
    "\n",
    "We will refer to the actual Microeconomic System in the field as the MES-F and our model of the microeconomic system as MES-M.  When our model of the MES-F is explicitly computational we will refer to it as MES-C a subset of MES-M.  The microeconomic systems framework can be used to design experiments as discussed in Vernon Smith (1982) who also provides sufficient conditions for replication with human subjects.  We will refer to an MES used in an experiment as MES-E which is a subset of MES-C.   Here are a few standard problems that economists address with this framework:\n",
    "\n",
    "1. What is the MES-M for a given MES-F?  While largely descriptive, constructing a causal model of the problem must always be addressed before moving to other questions.\n",
    "2. What is the appropriate theory for the MES-M?  A theory closes the MES-M by constructing the the strategies agents use to send messages.  Note a strategy is a mapping from agent's information to the messages an agent sends.  With a theory we can predict the behavior in a Microeconomic Systems Model, and we can then test the theory.\n",
    "3. What is the MES-C for a given MES-M and what is the MES-E for a given MES-C and are the predictions of the MES-M replicated in the MES-E?  If the MES-M fails to predict what happens in the MES-E, why does it fail?\n",
    "4. How well does the microeconomic system perform? Given the messages sent the system will produce certain state changes.  We can evaluate these state changes using a performance function given agents' preferences and states of the environment. \n",
    "5. How does changing the environment or the institution affect behavior and performance?\n",
    "6. Is the economic system model an accurate model of the real world?  If so can we make or evaluate policy proposals on MES-F using the MES-M?\n",
    "7. For a given environment or change in an environment, can we construct an institution or change an institution to maximize, or at least improve, on some performance measure? "
   ]
  },
  {
   "cell_type": "markdown",
   "metadata": {},
   "source": [
    "# Algorithmic Design\n",
    "\n",
    "In general algorithmic design is about choosing the data structures and the steps in your program to solve your problem. \n",
    "\n",
    "> Using the problem statement above we see that a data structure will be used to model the state of the MES-C while the **institution is modeled as an algorithm** that processes messages to changes state.  When we build a theory of the MES-C we build a **strategy algorithms for agents** that compute the messages the agent will send based on the information the agent has.  We can then build and run a **simulation algorithm of the MES-C** to see what predictions the theory produces.  When we build the MES-E we include a subject interface to the MES-C and we build a **experiment algorithm of the MES-E** to collect and analyze the data from subjects in our experiment.   "
   ]
  },
  {
   "cell_type": "markdown",
   "metadata": {},
   "source": [
    "# Uisng the *doctest* module\n",
    "\n",
    "See documentation [here](https://docs.python.org/3/library/doctest.html#module-doctest)\n"
   ]
  },
  {
   "cell_type": "markdown",
   "metadata": {},
   "source": [
    "We include a doctest in a functions docstring as follows\n",
    "```Python\n",
    "\"\"\"\n",
    "...\n",
    "\n",
    "doctests:\n",
    ">>> expression1\n",
    "result1\n",
    "\n",
    ">>> expression2\n",
    "result2\n",
    "\n",
    "...\n",
    "\"\"\"\n",
    "```\n"
   ]
  },
  {
   "cell_type": "code",
   "execution_count": null,
   "metadata": {},
   "outputs": [],
   "source": [
    "# Get a test case\n",
    "import math\n",
    "math.log(100)\n",
    "# Copy and paste result to doctest"
   ]
  },
  {
   "cell_type": "markdown",
   "metadata": {},
   "source": [
    "## Eample: log_utility function"
   ]
  },
  {
   "cell_type": "code",
   "execution_count": 2,
   "metadata": {},
   "outputs": [],
   "source": [
    "import math\n",
    "\n",
    "def log_utility(x, warning = False):\n",
    "    \n",
    "    \"\"\"Returns the natural log of x\n",
    "    \n",
    "    arg: x, float > 0\n",
    "    arg: warning, boolean defaults to False\n",
    "                  if warning = True prints warnings\n",
    "                        \n",
    "    return: ln(x) if x > 0,\n",
    "    None  otherwise\n",
    "               \n",
    "    doctests:\n",
    "    >>> log_utility(0) is None\n",
    "    True\n",
    "    \n",
    "    >>> log_utility(100)\n",
    "    4.605170185988092\n",
    "    \"\"\""
   ]
  },
  {
   "cell_type": "code",
   "execution_count": 1,
   "metadata": {},
   "outputs": [
    {
     "data": {
      "text/plain": [
       "TestResults(failed=0, attempted=0)"
      ]
     },
     "execution_count": 1,
     "metadata": {},
     "output_type": "execute_result"
    }
   ],
   "source": [
    "import doctest\n",
    "doctest.testmod()"
   ]
  },
  {
   "cell_type": "code",
   "execution_count": 3,
   "metadata": {},
   "outputs": [],
   "source": [
    "import math\n",
    "\n",
    "def log_utility(x, warning = False):\n",
    "    \n",
    "    \"\"\"Returns the natural log of x\n",
    "    \n",
    "    arg: x, float > 0\n",
    "    arg: warning, boolean defaults to False\n",
    "                  if warning = True prints warnings\n",
    "                        \n",
    "    return: ln(x) if x > 0,\n",
    "    None  otherwise\n",
    "               \n",
    "    doctests:\n",
    "    >>> log_utility(0) is None\n",
    "    True\n",
    "    \n",
    "    >>> log_utility(100)\n",
    "    4.605170185988092\n",
    "    \"\"\"\n",
    "    \n",
    "    \n",
    "    try:\n",
    "        return math.log(x)\n",
    "    except ValueError:\n",
    "        if warning: print(f\"Warning:  ln({x}) set to None.\")\n",
    "        return None"
   ]
  },
  {
   "cell_type": "code",
   "execution_count": 4,
   "metadata": {},
   "outputs": [
    {
     "data": {
      "text/plain": [
       "TestResults(failed=0, attempted=2)"
      ]
     },
     "execution_count": 4,
     "metadata": {},
     "output_type": "execute_result"
    }
   ],
   "source": [
    "import doctest\n",
    "doctest.testmod()"
   ]
  },
  {
   "cell_type": "markdown",
   "metadata": {},
   "source": [
    "## Some Typical Usage"
   ]
  },
  {
   "cell_type": "code",
   "execution_count": 5,
   "metadata": {},
   "outputs": [
    {
     "name": "stdout",
     "output_type": "stream",
     "text": [
      "[(-5, None), (-4, None), (-3, None), (-2, None), (-1, None), (0, None), (1, 0.0), (2, 0.6931471805599453), (3, 1.0986122886681098), (4, 1.3862943611198906), (5, 1.6094379124341003)]\n"
     ]
    }
   ],
   "source": [
    "z = []\n",
    "for k in range(-5, 6):\n",
    "    z.append((k, log_utility(k)))\n",
    "print(z)"
   ]
  },
  {
   "cell_type": "code",
   "execution_count": 6,
   "metadata": {},
   "outputs": [
    {
     "name": "stdout",
     "output_type": "stream",
     "text": [
      "Warning:  ln(-5) set to None.\n",
      "Warning:  ln(-4) set to None.\n",
      "Warning:  ln(-3) set to None.\n",
      "Warning:  ln(-2) set to None.\n",
      "Warning:  ln(-1) set to None.\n",
      "Warning:  ln(0) set to None.\n",
      "[(-5, None), (-4, None), (-3, None), (-2, None), (-1, None), (0, None), (1, 0.0), (2, 0.6931471805599453), (3, 1.0986122886681098), (4, 1.3862943611198906), (5, 1.6094379124341003)]\n"
     ]
    }
   ],
   "source": [
    "z = []\n",
    "for k in range(-5, 6):\n",
    "    z.append((k, log_utility(k, warning=True)))\n",
    "print(z)"
   ]
  },
  {
   "cell_type": "markdown",
   "metadata": {},
   "source": [
    "# Walkthrough with pdb\n",
    "\n",
    "Documentation on the builtin Python Debugger is [here](https://docs.python.org/3.5/library/pdb.html)\n",
    "\n",
    "A Real Python tutorial is [here](https://realpython.com/python-debugging-pdb/) \n",
    "\n",
    "```\n",
    "Short Version:\n",
    "breakpoint() # Gets you into pdb\n",
    "p var_name \n",
    "p expression\n",
    "n #next-line\n",
    "s #step to next instruction\n",
    "c #continue to next breakpoint\n",
    "\n",
    "```"
   ]
  },
  {
   "cell_type": "code",
   "execution_count": null,
   "metadata": {},
   "outputs": [],
   "source": [
    "import math\n",
    "\n",
    "def log_utility(x, warning = False):\n",
    "    \n",
    "    \"\"\"Returns the natural log of x\n",
    "    \n",
    "    arg: x, number > 0\n",
    "    arg: warning, boolean defaults to False\n",
    "                  if warning = True prints warnings\n",
    "                        \n",
    "    return: ln(x) if x > 0,\n",
    "    None  otherwise\n",
    "               \n",
    "    doctests:\n",
    "    >>> log_utility(0) is None\n",
    "    True\n",
    "    \n",
    "    >>> log_utility(100)\n",
    "    4.605170185988092\n",
    "    \"\"\"\n",
    "    \n",
    "#    breakpoint()\n",
    "    try:\n",
    "        return math.log(x)\n",
    "    except ValueError:\n",
    "        if warning: print(f\"Warning:  ln(x) set to None.\")\n",
    "        return None"
   ]
  },
  {
   "cell_type": "markdown",
   "metadata": {},
   "source": [
    "in pdb try try \n",
    "\n",
    "p x\n",
    "whatis x\n",
    "p math.log(x)\n",
    "c\n"
   ]
  },
  {
   "cell_type": "code",
   "execution_count": null,
   "metadata": {},
   "outputs": [],
   "source": [
    "log_utility(10)"
   ]
  },
  {
   "cell_type": "markdown",
   "metadata": {},
   "source": [
    "# Refactoring Code"
   ]
  },
  {
   "cell_type": "code",
   "execution_count": null,
   "metadata": {},
   "outputs": [],
   "source": [
    "log_utility(1.1+1j)"
   ]
  },
  {
   "cell_type": "code",
   "execution_count": null,
   "metadata": {},
   "outputs": [],
   "source": [
    "import math\n",
    "\n",
    "def log_utility(x, warning = False):\n",
    "    \n",
    "    \"\"\"Returns the natural log of x\n",
    "    \n",
    "    arg: x, int, float > 0\n",
    "    arg: warning, boolean defaults to False\n",
    "                  if warning = True prints warnings\n",
    "                        \n",
    "    return: ln(x) if x > 0\n",
    "            None  if x not > 0, or x not int, float\n",
    "               \n",
    "    doctests:\n",
    "    >>> log_utility(0) is None\n",
    "    True\n",
    "    \n",
    "    >>> log_utility(100)\n",
    "    4.605170185988092\n",
    "    \"\"\"\n",
    "    \n",
    "    try:\n",
    "        return math.log(x)\n",
    "    except ValueError:\n",
    "        if warning: print(f\"Warning:  ln(x) set to None.\")\n",
    "        return None\n",
    "    except TypeError:\n",
    "        if warning: print(f\"Warning value {x} is {type(x)} not int or float.  Set to None.\")\n",
    "        return None"
   ]
  },
  {
   "cell_type": "code",
   "execution_count": null,
   "metadata": {},
   "outputs": [],
   "source": [
    "log_utility(\"one\", warning = True)"
   ]
  },
  {
   "cell_type": "code",
   "execution_count": null,
   "metadata": {},
   "outputs": [],
   "source": [
    "import math\n",
    "\n",
    "def log_utility(x, warning = False):\n",
    "    \n",
    "    \"\"\"Returns the natural log of x\n",
    "    \n",
    "    arg: x, int, float > 0\n",
    "    arg: warning, boolean defaults to False\n",
    "                  if warning = True prints warnings\n",
    "                        \n",
    "    return: ln(x) if x > 0\n",
    "            None  if x not > 0, or x not int, float\n",
    "               \n",
    "    doctests:\n",
    "    >>> log_utility(0) is None\n",
    "    True\n",
    "    \n",
    "    >>> log_utility(100)\n",
    "    4.605170185988092\n",
    "    \n",
    "    >>> log_utility(\"\") is None\n",
    "    True\n",
    "    \n",
    "    >>> log_utility(1.1+1j) is None\n",
    "    True\n",
    "    \n",
    "    >>> log_utility(100.0)\n",
    "    4.605170185988092\n",
    "    \n",
    "    \"\"\"\n",
    "    \n",
    "    try:\n",
    "        return math.log(x)\n",
    "    except ValueError:\n",
    "        if warning: print(f\"Warning:  ln(x) set to None.\")\n",
    "        return None\n",
    "    except TypeError:\n",
    "        if warning: print(f\"Warning value {x} is {type(x)} not int or float.  Set to None.\")\n",
    "        return None"
   ]
  },
  {
   "cell_type": "code",
   "execution_count": 7,
   "metadata": {},
   "outputs": [
    {
     "data": {
      "text/plain": [
       "TestResults(failed=0, attempted=2)"
      ]
     },
     "execution_count": 7,
     "metadata": {},
     "output_type": "execute_result"
    }
   ],
   "source": [
    "import doctest\n",
    "doctest.testmod()"
   ]
  },
  {
   "cell_type": "code",
   "execution_count": 8,
   "metadata": {},
   "outputs": [
    {
     "name": "stdout",
     "output_type": "stream",
     "text": [
      "Help on function log_utility in module __main__:\n",
      "\n",
      "log_utility(x, warning=False)\n",
      "    Returns the natural log of x\n",
      "    \n",
      "    arg: x, float > 0\n",
      "    arg: warning, boolean defaults to False\n",
      "                  if warning = True prints warnings\n",
      "                        \n",
      "    return: ln(x) if x > 0,\n",
      "    None  otherwise\n",
      "               \n",
      "    doctests:\n",
      "    >>> log_utility(0) is None\n",
      "    True\n",
      "    \n",
      "    >>> log_utility(100)\n",
      "    4.605170185988092\n",
      "\n"
     ]
    }
   ],
   "source": [
    "help(log_utility)"
   ]
  },
  {
   "cell_type": "markdown",
   "metadata": {},
   "source": [
    "# Build Module"
   ]
  },
  {
   "cell_type": "code",
   "execution_count": null,
   "metadata": {},
   "outputs": [],
   "source": [
    "%pwd"
   ]
  },
  {
   "cell_type": "markdown",
   "metadata": {},
   "source": [
    "This is your current working directory path and where you will find files you write without an explicit path address, including modules your write.\n",
    "\n",
    "First we can test to make sure the library doesn't already exist."
   ]
  },
  {
   "cell_type": "code",
   "execution_count": null,
   "metadata": {},
   "outputs": [],
   "source": [
    "import utility_functions"
   ]
  },
  {
   "cell_type": "markdown",
   "metadata": {},
   "source": [
    "## Our first write to the module"
   ]
  },
  {
   "cell_type": "code",
   "execution_count": null,
   "metadata": {},
   "outputs": [],
   "source": [
    "%%writefile utility_functions.py \n",
    "import math\n",
    "\n",
    "def log_utility(x, warning = False):\n",
    "    \n",
    "    \"\"\"Returns the natural log of x\n",
    "    \n",
    "    arg: x, int, float > 0\n",
    "    arg: warning, boolean defaults to False\n",
    "                  if warning = True prints warnings\n",
    "                        \n",
    "    return: ln(x) if x > 0\n",
    "            None  if x not > 0, or x not int, float\n",
    "               \n",
    "    doctests:\n",
    "    >>> log_utility(0) is None\n",
    "    True\n",
    "    \n",
    "    >>> log_utility(100)\n",
    "    4.605170185988092\n",
    "    \n",
    "    >>> log_utility(\"\") is None\n",
    "    True\n",
    "    \n",
    "    >>> log_utility(1.1+1j) is None\n",
    "    True\n",
    "    \n",
    "    >>> log_utility(100.0)\n",
    "    4.605170185988092\n",
    "    \n",
    "    \"\"\"\n",
    "    \n",
    "    try:\n",
    "        return math.log(x)\n",
    "    except ValueError:\n",
    "        if warning: print(f\"Warning:  ln(x) set to None.\")\n",
    "        return None\n",
    "    except TypeError:\n",
    "        if warning: print(f\"Warning value {x} is {type(x)} not int or float.  Set to None.\")\n",
    "        return None"
   ]
  },
  {
   "cell_type": "markdown",
   "metadata": {},
   "source": [
    "## Testing Import"
   ]
  },
  {
   "cell_type": "code",
   "execution_count": null,
   "metadata": {},
   "outputs": [],
   "source": [
    "import utility_functions as u\n",
    "dir(u)"
   ]
  },
  {
   "cell_type": "code",
   "execution_count": null,
   "metadata": {},
   "outputs": [],
   "source": [
    "import doctest\n",
    "doctest.testmod(u)"
   ]
  },
  {
   "cell_type": "markdown",
   "metadata": {},
   "source": [
    "## Typical Usage"
   ]
  },
  {
   "cell_type": "code",
   "execution_count": null,
   "metadata": {},
   "outputs": [],
   "source": [
    "z = []\n",
    "for k in range(-5, 6):\n",
    "    z.append((k, u.log_utility(k, warning=True)))\n",
    "print(z)"
   ]
  },
  {
   "cell_type": "markdown",
   "metadata": {},
   "source": [
    "## Add Linear Utility Function"
   ]
  },
  {
   "cell_type": "code",
   "execution_count": 9,
   "metadata": {},
   "outputs": [
    {
     "data": {
      "text/plain": [
       "(26.05+5.5j)"
      ]
     },
     "execution_count": 9,
     "metadata": {},
     "output_type": "execute_result"
    }
   ],
   "source": [
    "# for test below\n",
    "20+5.5*(1.1+1j)"
   ]
  },
  {
   "cell_type": "code",
   "execution_count": null,
   "metadata": {},
   "outputs": [],
   "source": [
    "%%writefile -a utility_functions.py\n",
    "\n",
    "# leave blank line above\n",
    "def linear_utility(x, intercept = 0.0, slope = 1.0, warning = False):\n",
    "    \n",
    "    \"\"\"Returns linear utility of x\n",
    "    \n",
    "    arg: x, int, float > 0\n",
    "    arg: intercept, float, default to 0.0\n",
    "    arg: slope, float > 0, default to 1.0\n",
    "    arg: warning, boolean default to False\n",
    "                  if warning = True prints warnings\n",
    "                        \n",
    "    return: intercept + slope*x\n",
    "            None  if x not int, float or complex\n",
    "               \n",
    "    doctests:\n",
    "    >>> linear_utility(0)\n",
    "    0.0\n",
    "    \n",
    "    >>> linear_utility(100.0)\n",
    "    100.0\n",
    "    \n",
    "    >>> linear_utility(100.0, intercept = 10.0)\n",
    "    110.0\n",
    "    \n",
    "    >>> linear_utility(\"\") is None\n",
    "    True\n",
    "    \n",
    "    >>> linear_utility(1.1+1j, slope = 5.5, intercept = 20.0)\n",
    "    (26.05+5.5j)\n",
    "    \n",
    "    \n",
    "    \"\"\"\n",
    "    assert type(intercept) == float, \"intercept is not a float\" \n",
    "    assert type(slope) == float, \"slope is not a float\"    \n",
    "    assert slope > 0, f\"Slope {slope} < 0\"\n",
    "    try:\n",
    "        return float(intercept) + float(slope) * x\n",
    "    except ValueError:\n",
    "        if warning: print(f\"Warning:Value error on argument = {x}.\")\n",
    "        return None\n",
    "    except TypeError:\n",
    "        if warning: print(f\"Warning value {x} is {type(x)} not int or float.  Set to None.\")\n",
    "        return None"
   ]
  },
  {
   "cell_type": "code",
   "execution_count": null,
   "metadata": {},
   "outputs": [],
   "source": [
    "import importlib         # You need to do these two lines to reload utility_functions\n",
    "importlib.reload(u)\n",
    "dir(u)"
   ]
  },
  {
   "cell_type": "markdown",
   "metadata": {},
   "source": [
    "# Logging\n",
    "\n",
    "You can find out more on logging [here](https://docs.python.org/3.9/library/logging.html?highlight=logging)\n",
    "\n",
    "The basic tutorial is [here](https://docs.python.org/3.9/howto/logging.html#logging-basic-tutorial)\n",
    "\n",
    "A real python tutorial is [here](https://realpython.com/python-logging/#the-logging-module)\n"
   ]
  },
  {
   "cell_type": "code",
   "execution_count": 10,
   "metadata": {},
   "outputs": [
    {
     "name": "stderr",
     "output_type": "stream",
     "text": [
      "WARNING:root:Watch out!\n"
     ]
    }
   ],
   "source": [
    "import logging\n",
    "logging.warning('Watch out!')  # will print a message to the console\n",
    "logging.info('I told you so')  # will not print anything"
   ]
  },
  {
   "cell_type": "code",
   "execution_count": 18,
   "metadata": {},
   "outputs": [
    {
     "name": "stderr",
     "output_type": "stream",
     "text": [
      "WARNING:root:Watch out!\n",
      "INFO:root:I told you so\n"
     ]
    }
   ],
   "source": [
    "logger.setLevel(logging.INFO)\n",
    "logging.warning('Watch out!')  # will print a message to the console\n",
    "logging.info('I told you so')  # will not print anything"
   ]
  },
  {
   "cell_type": "code",
   "execution_count": 11,
   "metadata": {},
   "outputs": [
    {
     "data": {
      "text/plain": [
       "'C:\\\\Users\\\\Desktop\\\\Desktop\\\\notbok'"
      ]
     },
     "execution_count": 11,
     "metadata": {},
     "output_type": "execute_result"
    }
   ],
   "source": [
    "%pwd"
   ]
  },
  {
   "cell_type": "markdown",
   "metadata": {},
   "source": [
    "## Logging to a file\n",
    "\n",
    "I had to look on stack overflow to learn how to do this in Jupyter Notebooks the result is [here](https://stackoverflow.com/questions/18786912/get-output-from-the-logging-module-in-ipython-notebook)"
   ]
  },
  {
   "cell_type": "code",
   "execution_count": 17,
   "metadata": {},
   "outputs": [
    {
     "name": "stderr",
     "output_type": "stream",
     "text": [
      "DEBUG:root:This message should go to the log file\n",
      "INFO:root:So should this\n",
      "WARNING:root:And this, too\n",
      "ERROR:root:And non-ASCII stuff, too, like Øresund and Malmö\n"
     ]
    }
   ],
   "source": [
    "import logging\n",
    "logger = logging.getLogger()\n",
    "fhandler = logging.FileHandler(filename='mylog.log', mode='a')\n",
    "formatter = logging.Formatter('%(asctime)s - %(name)s - %(levelname)s - %(message)s')\n",
    "fhandler.setFormatter(formatter)\n",
    "logger.addHandler(fhandler)\n",
    "logger.setLevel(logging.DEBUG)\n",
    "logging.debug('This message should go to the log file')\n",
    "logging.info('So should this')\n",
    "logging.warning('And this, too')\n",
    "logging.error('And non-ASCII stuff, too, like Øresund and Malmö')"
   ]
  },
  {
   "cell_type": "markdown",
   "metadata": {},
   "source": [
    "## Add logging to log_utility()"
   ]
  },
  {
   "cell_type": "code",
   "execution_count": 1,
   "metadata": {},
   "outputs": [],
   "source": [
    "import math\n",
    "import logging\n",
    "\n",
    "def log_utility(x):\n",
    "    \n",
    "    \"\"\"Returns the natural log of x\n",
    "    \n",
    "    arg: x, int, float > 0\n",
    "    arg: warning, boolean defaults to False\n",
    "                  if warning = True prints warnings\n",
    "                        \n",
    "    return: ln(x) if x > 0\n",
    "            None  if x not > 0, or x not int, float\n",
    "               \n",
    "    doctests:\n",
    "    >>> log_utility(0) is None\n",
    "    True\n",
    "    \n",
    "    >>> log_utility(100)\n",
    "    4.605170185988092\n",
    "    \n",
    "    >>> log_utility(\"\") is None\n",
    "    True\n",
    "    \n",
    "    >>> log_utility(1.1+1j) is None\n",
    "    True\n",
    "    \n",
    "    >>> log_utility(100.0)\n",
    "    4.605170185988092\n",
    "    \n",
    "    \"\"\"\n",
    "    logging.info(f'entered log_utility x = {x}, type(x) ={type(x)}')\n",
    "    try:\n",
    "        utility = math.log(x)\n",
    "        logging.info(f'log_utility({x}) returned {utility}')\n",
    "        return utility\n",
    "    except ValueError:\n",
    "        logging.warning('ValueError on math.log(x), returned None')\n",
    "        return None\n",
    "    except TypeError:\n",
    "        logging.warning('TypeError on math.log(x), returned None')\n",
    "        return None"
   ]
  },
  {
   "cell_type": "code",
   "execution_count": 15,
   "metadata": {},
   "outputs": [
    {
     "name": "stdout",
     "output_type": "stream",
     "text": [
      "[(-10, None), (-5, None), (0, None), ('one', None), (1, 0.0), (5, 1.6094379124341003), (10, 2.302585092994046)]\n",
      "[<FileHandler C:\\Users\\Desktop\\repo\\cmms\\class\\risk_preferences.log (NOTSET)>]\n"
     ]
    }
   ],
   "source": [
    "logger = logging.getLogger()\n",
    "fhandler = logging.FileHandler(filename='risk_preferences.log', mode='w')\n",
    "formatter = logging.Formatter('%(asctime)s - %(name)s - %(levelname)s - %(message)s')\n",
    "fhandler.setFormatter(formatter)\n",
    "logger.addHandler(fhandler)\n",
    "logger.setLevel(logging.DEBUG)\n",
    "\n",
    "logging.info('start ------------------')\n",
    "states = [-10, -5, 0, 'one', 1, 5, 10]\n",
    "state_utilities = []\n",
    "for money in states:\n",
    "    utility = log_utility(money)\n",
    "    state_utilities.append((money, utility))\n",
    "    \n",
    "print(state_utilities)\n",
    "\n",
    "logs = list(logger.handlers)\n",
    "print(logs)\n",
    "for i in logs:\n",
    "    logger.removeHandler(i)\n",
    "    i.flush()\n",
    "    i.close()\n"
   ]
  },
  {
   "cell_type": "markdown",
   "metadata": {},
   "source": [
    "# Exercise"
   ]
  },
  {
   "cell_type": "markdown",
   "metadata": {},
   "source": [
    "Previously we built the CRRA utility function defined as follows:"
   ]
  },
  {
   "cell_type": "markdown",
   "metadata": {},
   "source": [
    "\n",
    "$U(x) = \\frac{x^{1-a}-1}{1-a}, a \\gt 0, and, a \\ne 1.$\n"
   ]
  },
  {
   "cell_type": "markdown",
   "metadata": {},
   "source": [
    "Using the following code."
   ]
  },
  {
   "cell_type": "code",
   "execution_count": null,
   "metadata": {},
   "outputs": [],
   "source": [
    "#%%writefile -a utility_functions.py\n",
    "\n",
    "def crra_utility(x, a=.5):\n",
    "    \"\"\"returns CRRA utility of money x\"\"\"\n",
    "    if float(a) == 1.0:\n",
    "        return log_utility(x)\n",
    "    return (x**(1.0-a) - 1.0)/(1.0-a)"
   ]
  },
  {
   "cell_type": "code",
   "execution_count": null,
   "metadata": {},
   "outputs": [],
   "source": [
    "import importlib         # You need to do these two lines to reload utility_functions\n",
    "importlib.reload(u)\n",
    "dir(u)"
   ]
  },
  {
   "cell_type": "code",
   "execution_count": null,
   "metadata": {},
   "outputs": [],
   "source": [
    "crra_utility(10, a = 1)"
   ]
  },
  {
   "cell_type": "markdown",
   "metadata": {},
   "source": [
    "You can find more complete documentation here: https://en.wikipedia.org/wiki/Isoelastic_utility"
   ]
  },
  {
   "cell_type": "markdown",
   "metadata": {},
   "source": [
    "Prepare a crra_utility function for inclusion in your utility_functions module.  It should accept a keyword argument a as shown above and work for a = 1.  When you are done building, documenting, testing, logging, and refactoring the function you should then add it to utility_functions and import it to make sure it still works."
   ]
  }
 ],
 "metadata": {
  "kernelspec": {
   "display_name": "Python 3 (ipykernel)",
   "language": "python",
   "name": "python3"
  },
  "language_info": {
   "codemirror_mode": {
    "name": "ipython",
    "version": 3
   },
   "file_extension": ".py",
   "mimetype": "text/x-python",
   "name": "python",
   "nbconvert_exporter": "python",
   "pygments_lexer": "ipython3",
   "version": "3.7.9"
  },
  "toc": {
   "base_numbering": 1,
   "nav_menu": {},
   "number_sections": true,
   "sideBar": true,
   "skip_h1_title": false,
   "title_cell": "Table of Contents",
   "title_sidebar": "Contents",
   "toc_cell": false,
   "toc_position": {
    "height": "calc(100% - 180px)",
    "left": "10px",
    "top": "150px",
    "width": "166.3px"
   },
   "toc_section_display": true,
   "toc_window_display": true
  }
 },
 "nbformat": 4,
 "nbformat_minor": 2
}
