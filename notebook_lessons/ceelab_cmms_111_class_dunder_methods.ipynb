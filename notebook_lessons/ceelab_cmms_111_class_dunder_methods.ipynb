{
 "cells": [
  {
   "cell_type": "markdown",
   "metadata": {},
   "source": [
    "# Dunder Methods\n",
    "\n",
    "Dunder methods in Python are methods having two prefix and suffix underscores in the method name. Dunder here means “Double Underscores)”.  These methods are also called magic methods or special methods.  You get a bunch of Dunder methods from the base class.  See the example below. "
   ]
  },
  {
   "cell_type": "code",
   "execution_count": 2,
   "metadata": {},
   "outputs": [
    {
     "name": "stdout",
     "output_type": "stream",
     "text": [
      "__class__                \n",
      "__delattr__              __dir__                  __doc__                  __eq__                   \n",
      "__format__               __ge__                   __getattribute__         __getstate__             \n",
      "__gt__                   __hash__                 __init__                 __init_subclass__        \n",
      "__le__                   __lt__                   __ne__                   __new__                  \n",
      "__reduce__               __reduce_ex__            __repr__                 __setattr__              \n",
      "__sizeof__               __str__                  __subclasshook__         "
     ]
    }
   ],
   "source": [
    "dunder_methods = dir(object)\n",
    "for k, dunder_name in enumerate(dunder_methods):\n",
    "    print(f\"{dunder_name:25}\", end = \"\")\n",
    "    if k%4 == 0:\n",
    "        print()\n",
    "        "
   ]
  },
  {
   "cell_type": "markdown",
   "metadata": {},
   "source": [
    "We are already familiar with the constructor method __init__ which is used to construct objects but there are many more uses of Dunder methods."
   ]
  },
  {
   "cell_type": "markdown",
   "metadata": {},
   "source": [
    "When we want to use a Dunder method in a class we are building we override the base class Dunder method.  For example, the constructor `__init__` is a special method which we routinely override to construct our own object. Special methods also are used to implement operators such as `__add__` to implement 5 + 4. Lets look at all the special methods that have been overridden for the builtin int class again.\n"
   ]
  },
  {
   "cell_type": "code",
   "execution_count": 4,
   "metadata": {},
   "outputs": [],
   "source": [
    "def dunder_print(x):\n",
    "    \"\"\"pretty prints the dunder names starting with __\"\"\"\n",
    "    list_of_dir = dir(x)\n",
    "    print(f\"variable examined is of type {type(x)}\")\n",
    "    print(20*'-')\n",
    "    print('Attributes')\n",
    "    print(20*'-')\n",
    "    k = 0\n",
    "    for item in list_of_dir:\n",
    "        if item[:2] == \"__\":\n",
    "            print(f\"{item:25}\", end = \"\")\n",
    "            k = k + 1\n",
    "            if k%4 == 0:\n",
    "                print()\n",
    "        else:\n",
    "            continue\n",
    "            "
   ]
  },
  {
   "cell_type": "code",
   "execution_count": 6,
   "metadata": {},
   "outputs": [
    {
     "name": "stdout",
     "output_type": "stream",
     "text": [
      "variable examined is of type <class 'int'>\n",
      "--------------------\n",
      "Attributes\n",
      "--------------------\n",
      "__abs__                  __add__                  __and__                  __bool__                 \n",
      "__ceil__                 __class__                __delattr__              __dir__                  \n",
      "__divmod__               __doc__                  __eq__                   __float__                \n",
      "__floor__                __floordiv__             __format__               __ge__                   \n",
      "__getattribute__         __getnewargs__           __getstate__             __gt__                   \n",
      "__hash__                 __index__                __init__                 __init_subclass__        \n",
      "__int__                  __invert__               __le__                   __lshift__               \n",
      "__lt__                   __mod__                  __mul__                  __ne__                   \n",
      "__neg__                  __new__                  __or__                   __pos__                  \n",
      "__pow__                  __radd__                 __rand__                 __rdivmod__              \n",
      "__reduce__               __reduce_ex__            __repr__                 __rfloordiv__            \n",
      "__rlshift__              __rmod__                 __rmul__                 __ror__                  \n",
      "__round__                __rpow__                 __rrshift__              __rshift__               \n",
      "__rsub__                 __rtruediv__             __rxor__                 __setattr__              \n",
      "__sizeof__               __str__                  __sub__                  __subclasshook__         \n",
      "__truediv__              __trunc__                __xor__                  "
     ]
    }
   ],
   "source": [
    "a = 1\n",
    "dunder_print(a)"
   ]
  },
  {
   "cell_type": "markdown",
   "metadata": {},
   "source": [
    "#  Building a Fraction Class"
   ]
  },
  {
   "cell_type": "code",
   "execution_count": 30,
   "metadata": {},
   "outputs": [
    {
     "name": "stdout",
     "output_type": "stream",
     "text": [
      "<__main__.Fraction object at 0x0000026E46F93740>\n"
     ]
    }
   ],
   "source": [
    "class Fraction(object):\n",
    "    def __init__(self, numerator, denominator):\n",
    "        self.__numerator = numerator\n",
    "        self.__denominator = denominator\n",
    "\n",
    "half = Fraction(1,2)\n",
    "quarter = Fraction(1,4)\n",
    "print(half)"
   ]
  },
  {
   "cell_type": "markdown",
   "metadata": {},
   "source": [
    "Notice when we try to print our fraction we simply get the address of our fraction object in memory.  We can fix this with the ```__repr__``` Dunder method.  "
   ]
  },
  {
   "cell_type": "code",
   "execution_count": 10,
   "metadata": {},
   "outputs": [
    {
     "name": "stdout",
     "output_type": "stream",
     "text": [
      "1/2\n"
     ]
    }
   ],
   "source": [
    "class Fraction(object):\n",
    "    def __init__(self, numerator, denominator):\n",
    "        self.numerator = numerator\n",
    "        self.denominator = denominator\n",
    "    def __repr__(self):\n",
    "        return str(self.numerator)+\"/\"+str(self.denominator)\n",
    "\n",
    "half = Fraction(1,2)\n",
    "quarter = Fraction(1,4)\n",
    "print(half)"
   ]
  },
  {
   "cell_type": "markdown",
   "metadata": {},
   "source": [
    "## Simplify a fraction"
   ]
  },
  {
   "cell_type": "code",
   "execution_count": 12,
   "metadata": {},
   "outputs": [
    {
     "name": "stdout",
     "output_type": "stream",
     "text": [
      "21/7\n",
      "3/1\n"
     ]
    }
   ],
   "source": [
    "import math\n",
    "\n",
    "def print_frac(x, y):\n",
    "    print(f\"{x}/{y}\")\n",
    "\n",
    "numerator = 21\n",
    "denominator = 7\n",
    "print_frac(numerator, denominator)\n",
    "\n",
    "# calculate greatest common divisor\n",
    "gcd = math.gcd(numerator, denominator)\n",
    "\n",
    "new_numerator = int(numerator/gcd)\n",
    "new_denominator = int(denominator/gcd)\n",
    "print_frac(new_numerator, new_denominator)"
   ]
  },
  {
   "cell_type": "code",
   "execution_count": 16,
   "metadata": {},
   "outputs": [],
   "source": [
    "import math\n",
    "class Fraction(object):\n",
    "    def __init__(self, numerator, denominator):\n",
    "        self.numerator = numerator\n",
    "        self.denominator = denominator\n",
    "    def __repr__(self):\n",
    "        return str(self.numerator)+\"/\"+str(self.denominator)\n",
    "    def __add__(self, other):\n",
    "        new_numerator = self.numerator*other.denominator + self.denominator*other.numerator\n",
    "        new_denominator = self.denominator*other.denominator\n",
    "        return Fraction(new_numerator, new_denominator)\n",
    "    def simplify(self):\n",
    "        gcd = math.gcd(self.numerator, self.denominator)\n",
    "        new_numerator = int(self.numerator/gcd)\n",
    "        new_denominator = int(self.denominator/gcd)\n",
    "        return new_numerator, new_denominator\n"
   ]
  },
  {
   "cell_type": "code",
   "execution_count": 18,
   "metadata": {},
   "outputs": [
    {
     "name": "stdout",
     "output_type": "stream",
     "text": [
      "fraction = 22/8\n",
      "becomes    11/4\n"
     ]
    }
   ],
   "source": [
    "fraction = Fraction(22,8)\n",
    "print(f\"fraction = {fraction}\")\n",
    "new_numerator, new_denominator = fraction.simplify()\n",
    "new_fraction = Fraction(new_numerator, new_denominator)\n",
    "print(f\"becomes    {new_fraction}\")"
   ]
  },
  {
   "cell_type": "markdown",
   "metadata": {},
   "source": [
    "Notice the following code does not work when fraction.simplify is used inside the Fraction constructor because a tuple is treated as a single argument. "
   ]
  },
  {
   "cell_type": "code",
   "execution_count": 20,
   "metadata": {},
   "outputs": [
    {
     "name": "stdout",
     "output_type": "stream",
     "text": [
      "fraction = 22/8\n"
     ]
    },
    {
     "ename": "TypeError",
     "evalue": "Fraction.__init__() missing 1 required positional argument: 'denominator'",
     "output_type": "error",
     "traceback": [
      "\u001b[1;31m---------------------------------------------------------------------------\u001b[0m",
      "\u001b[1;31mTypeError\u001b[0m                                 Traceback (most recent call last)",
      "Cell \u001b[1;32mIn[20], line 4\u001b[0m\n\u001b[0;32m      2\u001b[0m \u001b[38;5;28mprint\u001b[39m(\u001b[38;5;124mf\u001b[39m\u001b[38;5;124m\"\u001b[39m\u001b[38;5;124mfraction = \u001b[39m\u001b[38;5;132;01m{\u001b[39;00mfraction\u001b[38;5;132;01m}\u001b[39;00m\u001b[38;5;124m\"\u001b[39m)\n\u001b[0;32m      3\u001b[0m new_numerator, new_denominator \u001b[38;5;241m=\u001b[39m fraction\u001b[38;5;241m.\u001b[39msimplify()\n\u001b[1;32m----> 4\u001b[0m new_fraction \u001b[38;5;241m=\u001b[39m Fraction(fraction\u001b[38;5;241m.\u001b[39msimplify())\n\u001b[0;32m      5\u001b[0m \u001b[38;5;28mprint\u001b[39m(\u001b[38;5;124mf\u001b[39m\u001b[38;5;124m\"\u001b[39m\u001b[38;5;124mbecomes    \u001b[39m\u001b[38;5;132;01m{\u001b[39;00mnew_fraction\u001b[38;5;132;01m}\u001b[39;00m\u001b[38;5;124m\"\u001b[39m)\n",
      "\u001b[1;31mTypeError\u001b[0m: Fraction.__init__() missing 1 required positional argument: 'denominator'"
     ]
    }
   ],
   "source": [
    "fraction = Fraction(22,8)\n",
    "print(f\"fraction = {fraction}\")\n",
    "new_numerator, new_denominator = fraction.simplify()\n",
    "new_fraction = Fraction(fraction.simplify())\n",
    "print(f\"becomes    {new_fraction}\")"
   ]
  },
  {
   "cell_type": "markdown",
   "metadata": {},
   "source": [
    "We can fix this by using the * operator on the tuple to unpack it.\n"
   ]
  },
  {
   "cell_type": "code",
   "execution_count": 22,
   "metadata": {},
   "outputs": [
    {
     "name": "stdout",
     "output_type": "stream",
     "text": [
      "fraction = 22/8\n",
      "becomes    11/4\n"
     ]
    }
   ],
   "source": [
    "fraction = Fraction(22,8)\n",
    "print(f\"fraction = {fraction}\")\n",
    "new_numerator, new_denominator = fraction.simplify()\n",
    "new_fraction = Fraction(*fraction.simplify()) # Notice the unpack operator *\n",
    "print(f\"becomes    {new_fraction}\")"
   ]
  },
  {
   "cell_type": "code",
   "execution_count": 26,
   "metadata": {},
   "outputs": [
    {
     "name": "stdout",
     "output_type": "stream",
     "text": [
      "1/3\n",
      "1/4\n"
     ]
    }
   ],
   "source": [
    "third = Fraction(1, 3)\n",
    "print(third)\n",
    "third.denominator = 4\n",
    "print(third)"
   ]
  },
  {
   "cell_type": "markdown",
   "metadata": {},
   "source": [
    "## Adding Fractions\n",
    "Let's make two fractions and try to add them."
   ]
  },
  {
   "cell_type": "code",
   "execution_count": 32,
   "metadata": {},
   "outputs": [
    {
     "ename": "TypeError",
     "evalue": "unsupported operand type(s) for +: 'Fraction' and 'Fraction'",
     "output_type": "error",
     "traceback": [
      "\u001b[1;31m---------------------------------------------------------------------------\u001b[0m",
      "\u001b[1;31mTypeError\u001b[0m                                 Traceback (most recent call last)",
      "Cell \u001b[1;32mIn[32], line 3\u001b[0m\n\u001b[0;32m      1\u001b[0m helf \u001b[38;5;241m=\u001b[39m Fraction(\u001b[38;5;241m1\u001b[39m, \u001b[38;5;241m2\u001b[39m)\n\u001b[0;32m      2\u001b[0m quarter \u001b[38;5;241m=\u001b[39m Fraction(\u001b[38;5;241m1\u001b[39m, \u001b[38;5;241m4\u001b[39m)\n\u001b[1;32m----> 3\u001b[0m a \u001b[38;5;241m=\u001b[39m half \u001b[38;5;241m+\u001b[39m quarter\n",
      "\u001b[1;31mTypeError\u001b[0m: unsupported operand type(s) for +: 'Fraction' and 'Fraction'"
     ]
    }
   ],
   "source": [
    "helf = Fraction(1, 2)\n",
    "quarter = Fraction(1, 4)\n",
    "a = half + quarter"
   ]
  },
  {
   "cell_type": "markdown",
   "metadata": {},
   "source": [
    "We have not told our class how to add fractions.  To do this we have to override the __add__ Dunder method to implement adding two fractions.  If you remember if we want to add a/b + c/d, we have to use the rule (a*d + c*b)/b*d. Also noted we added a __str__ function which returns a string with the simplified fraction."
   ]
  },
  {
   "cell_type": "code",
   "execution_count": 34,
   "metadata": {},
   "outputs": [],
   "source": [
    "import math\n",
    "\n",
    "class Fraction(object):\n",
    "    def __init__(self, numerator, denominator):\n",
    "        self.numerator = numerator\n",
    "        self.denominator = denominator\n",
    "        \n",
    "    def __repr__(self):\n",
    "        return str(self.numerator)+\"/\"+str(self.denominator)\n",
    "\n",
    "    def __str__(self):\n",
    "        new_numerator, new_denominator = self.simplify()\n",
    "        if new_denominator == 1:\n",
    "            return str(new_numerator)\n",
    "        else:\n",
    "            return str(new_numerator)+\"/\"+str(new_denominator)\n",
    "        \n",
    "    def __add__(self, other):\n",
    "        new_numerator = self.numerator*other.denominator + other.numerator*self.denominator\n",
    "        new_denominator = self.denominator*other.denominator\n",
    "        return Fraction(new_numerator, new_denominator)\n",
    "        \n",
    "    def simplify(self):\n",
    "        gcd = math.gcd(self.numerator, self.denominator)\n",
    "        new_numerator = int(self.numerator/gcd)\n",
    "        new_denominator = int(self.denominator/gcd)\n",
    "        return new_numerator, new_denominator\n"
   ]
  },
  {
   "cell_type": "code",
   "execution_count": 42,
   "metadata": {},
   "outputs": [
    {
     "name": "stdout",
     "output_type": "stream",
     "text": [
      "3/4 = 1/2 + 1/4\n",
      "13/12 = 1/2 + 1/4 + 1/3\n",
      "26/24\n"
     ]
    }
   ],
   "source": [
    "half = Fraction(1, 2)\n",
    "quarter = Fraction(1, 4)\n",
    "a = half + quarter\n",
    "print(f\"{a} = {half} + {quarter}\")\n",
    "third = Fraction(1, 3)\n",
    "b = half + quarter + third\n",
    "print(f\"{b} = {half} + {quarter} + {third}\")\n",
    "print(repr(b))"
   ]
  },
  {
   "cell_type": "markdown",
   "metadata": {},
   "source": [
    "## Subtracting Functions"
   ]
  },
  {
   "cell_type": "markdown",
   "metadata": {},
   "source": [
    "Lets add a subtract fraction by overriding the __sub__ method:"
   ]
  },
  {
   "cell_type": "code",
   "execution_count": 44,
   "metadata": {},
   "outputs": [],
   "source": [
    "import math\n",
    "\n",
    "class Fraction(object):\n",
    "    def __init__(self, numerator, denominator):\n",
    "        self.numerator = numerator\n",
    "        self.denominator = denominator\n",
    "        \n",
    "    def __repr__(self):\n",
    "        return str(self.numerator)+\"/\"+str(self.denominator)\n",
    "\n",
    "    def __str__(self):\n",
    "        new_numerator, new_denominator = self.simplify()\n",
    "        if new_denominator == 1:\n",
    "            return str(new_numerator)\n",
    "        else:\n",
    "            return str(new_numerator)+\"/\"+str(new_denominator)\n",
    "        \n",
    "    def __add__(self, other):\n",
    "        new_numerator = self.numerator*other.denominator + other.numerator*self.denominator\n",
    "        new_denominator = self.denominator*other.denominator\n",
    "        return Fraction(new_numerator, new_denominator)\n",
    "\n",
    "    def __sub__(self, other): \n",
    "        new_numerator = self.numerator * other.denominator - other.numerator * self.denominator\n",
    "        new_denominator = self.denominator * other.denominator\n",
    "        return Fraction(new_numerator, new_denominator)\n",
    "        \n",
    "    def simplify(self):\n",
    "        gcd = math.gcd(self.numerator, self.denominator)\n",
    "        new_numerator = int(self.numerator/gcd)\n",
    "        new_denominator = int(self.denominator/gcd)\n",
    "        return new_numerator, new_denominator\n"
   ]
  },
  {
   "cell_type": "code",
   "execution_count": 46,
   "metadata": {},
   "outputs": [
    {
     "name": "stdout",
     "output_type": "stream",
     "text": [
      "1/4 = 1/2 - 1/4\n",
      "2/3 = 1 - 1/3\n",
      "1/12 = (1/3 + 1/4) - 1/2\n"
     ]
    }
   ],
   "source": [
    "half = Fraction(1, 2)\n",
    "quarter = Fraction(1, 4)\n",
    "a = half - quarter\n",
    "print(f\"{a} = {half} - {quarter}\")\n",
    "\n",
    "one = Fraction(1, 1)\n",
    "third = Fraction(1, 3)\n",
    "b = one - third\n",
    "print(f\"{b} = {one} - {third}\")\n",
    "\n",
    "c = (third + quarter) - half\n",
    "print(f\"{c} = ({third} + {quarter}) - {half}\")"
   ]
  },
  {
   "cell_type": "markdown",
   "metadata": {},
   "source": [
    "## Multiplying Fractions\n",
    "\n",
    "Override the __mul__ method and use the rule a/b * c/d = ac/bd"
   ]
  },
  {
   "cell_type": "code",
   "execution_count": 48,
   "metadata": {},
   "outputs": [],
   "source": [
    "class Fraction(object):\n",
    "    def __init__(self, numerator, denominator):\n",
    "        self.numerator = numerator\n",
    "        self.denominator = denominator\n",
    "        \n",
    "    def __repr__(self):\n",
    "        return str(self.numerator)+\"/\"+str(self.denominator)\n",
    "\n",
    "    def __str__(self):\n",
    "        new_numerator, new_denominator = self.simplify()\n",
    "        if new_denominator == 1:\n",
    "            return str(new_numerator)\n",
    "        else:\n",
    "            return str(new_numerator)+\"/\"+str(new_denominator)\n",
    "        \n",
    "    def __add__(self, other):\n",
    "        new_numerator = self.numerator*other.denominator + other.numerator*self.denominator\n",
    "        new_denominator = self.denominator*other.denominator\n",
    "        return Fraction(new_numerator, new_denominator)\n",
    "\n",
    "    def __sub__(self, other): \n",
    "        new_numerator = self.numerator * other.denominator - other.numerator * self.denominator\n",
    "        new_denominator = self.denominator * other.denominator\n",
    "        return Fraction(new_numerator, new_denominator)\n",
    "\n",
    "    def __mul__(self, other):\n",
    "        new_numerator = self.numerator * other.numerator\n",
    "        new_denominator = self.denominator * other.denominator\n",
    "        return Fraction(new_numerator, new_denominator)\n",
    "        \n",
    "    def simplify(self):\n",
    "        gcd = math.gcd(self.numerator, self.denominator)\n",
    "        new_numerator = int(self.numerator/gcd)\n",
    "        new_denominator = int(self.denominator/gcd)\n",
    "        return new_numerator, new_denominator\n"
   ]
  },
  {
   "cell_type": "code",
   "execution_count": 50,
   "metadata": {},
   "outputs": [
    {
     "name": "stdout",
     "output_type": "stream",
     "text": [
      "1/8 = 1/2 * 1/4\n",
      "1/3 = 1 * 1/3\n",
      "2/9 = (1/3 + 1/3) * 1/3\n",
      "4/9 = 1/3 + 1/3 * 1/3\n"
     ]
    }
   ],
   "source": [
    "half = Fraction(1, 2)\n",
    "quarter = Fraction(1, 4)\n",
    "a = half * quarter\n",
    "print(f\"{a} = {half} * {quarter}\")\n",
    "\n",
    "one = Fraction(1, 1)\n",
    "third = Fraction(1, 3)\n",
    "b = one * third\n",
    "print(f\"{b} = {one} * {third}\")\n",
    "\n",
    "c = (third + third) * third\n",
    "print(f\"{c} = ({third} + {third}) * {third}\")\n",
    "\n",
    "d = third + third * third\n",
    "print(f\"{d} = {third} + {third} * {third}\")"
   ]
  },
  {
   "cell_type": "markdown",
   "metadata": {},
   "source": [
    "Notice the order of operations now matters."
   ]
  },
  {
   "cell_type": "markdown",
   "metadata": {},
   "source": [
    "## Dividing Fractions\n",
    "Override the __truediv__ method and use the rule (a/b)/(c/d) = da/cb"
   ]
  },
  {
   "cell_type": "code",
   "execution_count": 52,
   "metadata": {},
   "outputs": [],
   "source": [
    "class Fraction(object):\n",
    "    def __init__(self, numerator, denominator):\n",
    "        self.numerator = numerator\n",
    "        self.denominator = denominator\n",
    "        \n",
    "    def __repr__(self):\n",
    "        return str(self.numerator)+\"/\"+str(self.denominator)\n",
    "\n",
    "    def __str__(self):\n",
    "        new_numerator, new_denominator = self.simplify()\n",
    "        if new_denominator == 1:\n",
    "            return str(new_numerator)\n",
    "        else:\n",
    "            return str(new_numerator)+\"/\"+str(new_denominator)\n",
    "        \n",
    "    def __add__(self, other):\n",
    "        new_numerator = self.numerator*other.denominator + other.numerator*self.denominator\n",
    "        new_denominator = self.denominator*other.denominator\n",
    "        return Fraction(new_numerator, new_denominator)\n",
    "\n",
    "    def __sub__(self, other): \n",
    "        new_numerator = self.numerator * other.denominator - other.numerator * self.denominator\n",
    "        new_denominator = self.denominator * other.denominator\n",
    "        return Fraction(new_numerator, new_denominator)\n",
    "\n",
    "    def __mul__(self, other):\n",
    "        new_numerator = self.numerator * other.numerator\n",
    "        new_denominator = self.denominator * other.denominator\n",
    "        return Fraction(new_numerator, new_denominator)\n",
    "\n",
    "    def __truediv__(self, other):\n",
    "        # Implement division for Fraction objects by multiplying by the reciprocal\n",
    "        new_numerator = self.numerator * other.denominator\n",
    "        new_denominator = self.denominator * other.numerator\n",
    "        return Fraction(new_numerator, new_denominator)\n",
    "        \n",
    "    def simplify(self):\n",
    "        gcd = math.gcd(self.numerator, self.denominator)\n",
    "        new_numerator = int(self.numerator/gcd)\n",
    "        new_denominator = int(self.denominator/gcd)\n",
    "        return new_numerator, new_denominator\n"
   ]
  },
  {
   "cell_type": "code",
   "execution_count": 54,
   "metadata": {},
   "outputs": [
    {
     "name": "stdout",
     "output_type": "stream",
     "text": [
      "2 = 1/2 / 1/4\n",
      "3 = 1 / 1/3\n",
      "1 = (1/4 / 1/2) * (1/2 / 1/4)\n",
      "1\n",
      "1\n"
     ]
    }
   ],
   "source": [
    "half = Fraction(1, 2)\n",
    "quarter = Fraction(1, 4)\n",
    "a = half / quarter\n",
    "print(f\"{a} = {half} / {quarter}\")\n",
    "\n",
    "one = Fraction(1, 1)\n",
    "third = Fraction(1, 3)\n",
    "b = one / third\n",
    "print(f\"{b} = {one} / {third}\")\n",
    "\n",
    "c = (quarter/half) * (half/quarter)\n",
    "print(f\"{c} = ({quarter} / {half}) * ({half} / {quarter})\")\n",
    "\n",
    "d = quarter/half*half/quarter\n",
    "print(d)\n",
    "\n",
    "e = quarter*half/quarter/half\n",
    "print(e)\n",
    "\n"
   ]
  },
  {
   "cell_type": "markdown",
   "metadata": {},
   "source": [
    "## Raising Fractions to an Integer Power\n",
    "override __pow__ using the formula (a/b)`**`n = a`**`n/b**n"
   ]
  },
  {
   "cell_type": "code",
   "execution_count": 57,
   "metadata": {},
   "outputs": [],
   "source": [
    "class Fraction(object):\n",
    "    def __init__(self, numerator, denominator):\n",
    "        self.numerator = numerator\n",
    "        self.denominator = denominator\n",
    "        \n",
    "    def __repr__(self):\n",
    "        return str(self.numerator)+\"/\"+str(self.denominator)\n",
    "\n",
    "    def __str__(self):\n",
    "        new_numerator, new_denominator = self.simplify()\n",
    "        if new_denominator == 1:\n",
    "            return str(new_numerator)\n",
    "        else:\n",
    "            return str(new_numerator)+\"/\"+str(new_denominator)\n",
    "        \n",
    "    def __add__(self, other):\n",
    "        new_numerator = self.numerator*other.denominator + other.numerator*self.denominator\n",
    "        new_denominator = self.denominator*other.denominator\n",
    "        return Fraction(new_numerator, new_denominator)\n",
    "\n",
    "    def __sub__(self, other): \n",
    "        new_numerator = self.numerator * other.denominator - other.numerator * self.denominator\n",
    "        new_denominator = self.denominator * other.denominator\n",
    "        return Fraction(new_numerator, new_denominator)\n",
    "\n",
    "    def __mul__(self, other):\n",
    "        new_numerator = self.numerator * other.numerator\n",
    "        new_denominator = self.denominator * other.denominator\n",
    "        return Fraction(new_numerator, new_denominator)\n",
    "\n",
    "    def __truediv__(self, other):\n",
    "        # Implement division for Fraction objects by multiplying by the reciprocal\n",
    "        new_numerator = self.numerator * other.denominator\n",
    "        new_denominator = self.denominator * other.numerator\n",
    "        return Fraction(new_numerator, new_denominator)\n",
    "\n",
    "    def __pow__(self, power):\n",
    "        # Implement exponentiation for Fraction objects\n",
    "        new_numerator = self.numerator ** power\n",
    "        new_denominator = self.denominator ** power\n",
    "        return Fraction(new_numerator, new_denominator)\n",
    "        \n",
    "    def simplify(self):\n",
    "        gcd = math.gcd(self.numerator, self.denominator)\n",
    "        new_numerator = int(self.numerator/gcd)\n",
    "        new_denominator = int(self.denominator/gcd)\n",
    "        return new_numerator, new_denominator\n"
   ]
  },
  {
   "cell_type": "code",
   "execution_count": 59,
   "metadata": {},
   "outputs": [
    {
     "name": "stdout",
     "output_type": "stream",
     "text": [
      "1/4 = (1/2)**2\n",
      "1/36 = (1/2 * 1/3)**2\n"
     ]
    }
   ],
   "source": [
    "half = Fraction(1, 2)\n",
    "quarter = Fraction(1, 4)\n",
    "a = half**2\n",
    "print(f\"{a} = ({half})**2\")\n",
    "\n",
    "third = Fraction(1, 3)\n",
    "b = (half*third)**2\n",
    "print(f\"{b} = ({half} * {third})**2\")\n"
   ]
  },
  {
   "cell_type": "markdown",
   "metadata": {},
   "source": [
    "## Comparing Fractions\n",
    "\n",
    "Methods we have to override and implement\n",
    "\n",
    "```python\n",
    "__eq__: To check equality (==).\n",
    "__ne__: To check inequality (!=).\n",
    "__lt__: To check if a fraction is less than another (<).\n",
    "__le__: To check if a fraction is less than or equal to another (<=).\n",
    "__gt__: To check if a fraction is greater than another (>).\n",
    "__ge__: To check if a fraction is greater than or equal to another (>=).\n",
    "```"
   ]
  },
  {
   "cell_type": "code",
   "execution_count": 61,
   "metadata": {},
   "outputs": [],
   "source": [
    "class Fraction(object):\n",
    "    def __init__(self, numerator, denominator):\n",
    "        self.numerator = numerator\n",
    "        self.denominator = denominator\n",
    "        \n",
    "    def __repr__(self):\n",
    "        return str(self.numerator)+\"/\"+str(self.denominator)\n",
    "\n",
    "    def __str__(self):\n",
    "        new_numerator, new_denominator = self.simplify()\n",
    "        if new_denominator == 1:\n",
    "            return str(new_numerator)\n",
    "        else:\n",
    "            return str(new_numerator)+\"/\"+str(new_denominator)\n",
    "\n",
    "    # Mathematical Operators\n",
    "        \n",
    "    def __add__(self, other):\n",
    "        new_numerator = self.numerator*other.denominator + other.numerator*self.denominator\n",
    "        new_denominator = self.denominator*other.denominator\n",
    "        return Fraction(new_numerator, new_denominator)\n",
    "\n",
    "    def __sub__(self, other): \n",
    "        new_numerator = self.numerator * other.denominator - other.numerator * self.denominator\n",
    "        new_denominator = self.denominator * other.denominator\n",
    "        return Fraction(new_numerator, new_denominator)\n",
    "\n",
    "    def __mul__(self, other):\n",
    "        new_numerator = self.numerator * other.numerator\n",
    "        new_denominator = self.denominator * other.denominator\n",
    "        return Fraction(new_numerator, new_denominator)\n",
    "\n",
    "    def __truediv__(self, other):\n",
    "        # Implement division for Fraction objects by multiplying by the reciprocal\n",
    "        new_numerator = self.numerator * other.denominator\n",
    "        new_denominator = self.denominator * other.numerator\n",
    "        return Fraction(new_numerator, new_denominator)\n",
    "\n",
    "    def __pow__(self, power):\n",
    "        # Implement exponentiation for Fraction objects\n",
    "        new_numerator = self.numerator ** power\n",
    "        new_denominator = self.denominator ** power\n",
    "        return Fraction(new_numerator, new_denominator)\n",
    "\n",
    "    # Comparison operators\n",
    "    def __eq__(self, other):\n",
    "        # a/b == c/d <=> a*d == b*c\n",
    "        return self.numerator * other.denominator == self.denominator * other.numerator\n",
    "    \n",
    "    def __ne__(self, other):\n",
    "        return not self.__eq__(other)\n",
    "    \n",
    "    def __lt__(self, other):\n",
    "        # a/b < c/d <=> a*d < b*c\n",
    "        return self.numerator * other.denominator < self.denominator * other.numerator\n",
    "    \n",
    "    def __le__(self, other):\n",
    "        # a/b <= c/d <=> a*d <= b*c\n",
    "        return self.numerator * other.denominator <= self.denominator * other.numerator\n",
    "    \n",
    "    def __gt__(self, other):\n",
    "        # a/b > c/d <=> a*d > b*c\n",
    "        return self.numerator * other.denominator > self.denominator * other.numerator\n",
    "    \n",
    "    def __ge__(self, other):\n",
    "        # a/b >= c/d <=> a*d >= b*c\n",
    "        return self.numerator * other.denominator >= self.denominator * other.numerator\n",
    "    \n",
    "    def simplify(self):\n",
    "        gcd = math.gcd(self.numerator, self.denominator)\n",
    "        new_numerator = int(self.numerator/gcd)\n",
    "        new_denominator = int(self.denominator/gcd)\n",
    "        return new_numerator, new_denominator\n"
   ]
  },
  {
   "cell_type": "code",
   "execution_count": 63,
   "metadata": {},
   "outputs": [
    {
     "name": "stdout",
     "output_type": "stream",
     "text": [
      "Is 1/2 == 1/3? False\n",
      "Is 1/2 != 1/3? True\n",
      "Is 1/2 < 1/3? False\n",
      "Is 1/2 <= 1/3? False\n",
      "Is 1/2 > 1/3? True\n",
      "Is 1/2 >= 1/3? True\n",
      "\n",
      "Is 1/4 + 1/4 == 1/2? True\n",
      "Is 1/4 + 1/3 == 1/2? False\n"
     ]
    }
   ],
   "source": [
    "half = Fraction(1, 2)\n",
    "third = Fraction(1, 3)\n",
    "\n",
    "# Compare fractions\n",
    "print(f\"Is {half} == {third}? {half == third}\")\n",
    "print(f\"Is {half} != {third}? {half != third}\")\n",
    "print(f\"Is {half} < {third}? {half < third}\")\n",
    "print(f\"Is {half} <= {third}? {half <= third}\")\n",
    "print(f\"Is {half} > {third}? {half > third}\")\n",
    "print(f\"Is {half} >= {third}? {half >= third}\")\n",
    "print()\n",
    "quarter = Fraction(1, 4)\n",
    "print(f\"Is {quarter} + {quarter} == {half}? {quarter + quarter == half}\")\n",
    "print(f\"Is {quarter} + {third} == {half}? {quarter + third == half}\")\n"
   ]
  },
  {
   "cell_type": "code",
   "execution_count": 65,
   "metadata": {},
   "outputs": [
    {
     "data": {
      "text/plain": [
       "True"
      ]
     },
     "execution_count": 65,
     "metadata": {},
     "output_type": "execute_result"
    }
   ],
   "source": [
    "half = Fraction(1, 2)\n",
    "another_half = Fraction(2, 4)\n",
    "half == another_half"
   ]
  },
  {
   "cell_type": "markdown",
   "metadata": {},
   "source": [
    "## Handling a negative numerator and/or denominator\n"
   ]
  },
  {
   "cell_type": "code",
   "execution_count": 67,
   "metadata": {},
   "outputs": [],
   "source": [
    "class Fraction(object):\n",
    "    def __init__(self, numerator, denominator):\n",
    "        # Ensure the denominator is always positive, and transfer any negative sign to the numerator\n",
    "        if denominator < 0:\n",
    "            numerator = -numerator\n",
    "            denominator = -denominator\n",
    "        self.numerator = numerator\n",
    "        self.denominator = denominator\n",
    "        \n",
    "    def __repr__(self):\n",
    "        return str(self.numerator)+\"/\"+str(self.denominator)\n",
    "\n",
    "    def __str__(self):\n",
    "        new_numerator, new_denominator = self.simplify()\n",
    "        if new_denominator == 1:\n",
    "            return str(new_numerator)\n",
    "        else:\n",
    "            return str(new_numerator)+\"/\"+str(new_denominator)\n",
    "\n",
    "    # Mathematical Operators\n",
    "        \n",
    "    def __add__(self, other):\n",
    "        new_numerator = self.numerator*other.denominator + other.numerator*self.denominator\n",
    "        new_denominator = self.denominator*other.denominator\n",
    "        return Fraction(new_numerator, new_denominator)\n",
    "\n",
    "    def __sub__(self, other): \n",
    "        new_numerator = self.numerator * other.denominator - other.numerator * self.denominator\n",
    "        new_denominator = self.denominator * other.denominator\n",
    "        return Fraction(new_numerator, new_denominator)\n",
    "\n",
    "    def __mul__(self, other):\n",
    "        new_numerator = self.numerator * other.numerator\n",
    "        new_denominator = self.denominator * other.denominator\n",
    "        return Fraction(new_numerator, new_denominator)\n",
    "\n",
    "    def __truediv__(self, other):\n",
    "        # Implement division for Fraction objects by multiplying by the reciprocal\n",
    "        new_numerator = self.numerator * other.denominator\n",
    "        new_denominator = self.denominator * other.numerator\n",
    "        return Fraction(new_numerator, new_denominator)\n",
    "\n",
    "    def __pow__(self, power):\n",
    "        # Implement exponentiation for Fraction objects\n",
    "        new_numerator = self.numerator ** power\n",
    "        new_denominator = self.denominator ** power\n",
    "        return Fraction(new_numerator, new_denominator)\n",
    "\n",
    "    # Comparison operators\n",
    "    def __eq__(self, other):\n",
    "        # a/b == c/d <=> a*d == b*c\n",
    "        return self.numerator * other.denominator == self.denominator * other.numerator\n",
    "    \n",
    "    def __ne__(self, other):\n",
    "        return not self.__eq__(other)\n",
    "    \n",
    "    def __lt__(self, other):\n",
    "        # a/b < c/d <=> a*d < b*c\n",
    "        return self.numerator * other.denominator < self.denominator * other.numerator\n",
    "    \n",
    "    def __le__(self, other):\n",
    "        # a/b <= c/d <=> a*d <= b*c\n",
    "        return self.numerator * other.denominator <= self.denominator * other.numerator\n",
    "    \n",
    "    def __gt__(self, other):\n",
    "        # a/b > c/d <=> a*d > b*c\n",
    "        return self.numerator * other.denominator > self.denominator * other.numerator\n",
    "    \n",
    "    def __ge__(self, other):\n",
    "        # a/b >= c/d <=> a*d >= b*c\n",
    "        return self.numerator * other.denominator >= self.denominator * other.numerator\n",
    "    \n",
    "    def simplify(self):\n",
    "        return self.simplify_fraction(self.numerator, self.denominator)\n",
    "\n",
    "    @staticmethod\n",
    "    def simplify_fraction(numerator, denominator):\n",
    "        gcd = math.gcd(numerator, denominator)\n",
    "        simplified_numerator = int(numerator / gcd)\n",
    "        simplified_denominator = int(denominator / gcd)\n",
    "        # Ensure the denominator stays positive\n",
    "        if simplified_denominator < 0:\n",
    "            simplified_numerator = -simplified_numerator\n",
    "            simplified_denominator = -simplified_denominator\n",
    "        return simplified_numerator, simplified_denominator\n"
   ]
  },
  {
   "cell_type": "code",
   "execution_count": 71,
   "metadata": {},
   "outputs": [
    {
     "name": "stdout",
     "output_type": "stream",
     "text": [
      "Fraction1: -3/4\n",
      "Fraction2: -3/4\n",
      "Fraction3: 2/5\n",
      "Fraction4: 2/5\n",
      "Sum: -3/4 + 2/5 = -7/20\n",
      "Difference: -3/4 - 2/5 = -23/20\n",
      "Product: -3/4 * 2/5 = -3/10\n",
      "Division: -3/4 / 2/5 = -15/8\n"
     ]
    },
    {
     "ename": "TypeError",
     "evalue": "bad operand type for unary -: 'Fraction'",
     "output_type": "error",
     "traceback": [
      "\u001b[1;31m---------------------------------------------------------------------------\u001b[0m",
      "\u001b[1;31mTypeError\u001b[0m                                 Traceback (most recent call last)",
      "Cell \u001b[1;32mIn[71], line 26\u001b[0m\n\u001b[0;32m     23\u001b[0m div_fractions \u001b[38;5;241m=\u001b[39m fraction1 \u001b[38;5;241m/\u001b[39m fraction4\n\u001b[0;32m     24\u001b[0m \u001b[38;5;28mprint\u001b[39m(\u001b[38;5;124mf\u001b[39m\u001b[38;5;124m\"\u001b[39m\u001b[38;5;124mDivision: \u001b[39m\u001b[38;5;132;01m{\u001b[39;00mfraction1\u001b[38;5;132;01m}\u001b[39;00m\u001b[38;5;124m / \u001b[39m\u001b[38;5;132;01m{\u001b[39;00mfraction4\u001b[38;5;132;01m}\u001b[39;00m\u001b[38;5;124m = \u001b[39m\u001b[38;5;132;01m{\u001b[39;00mdiv_fractions\u001b[38;5;132;01m}\u001b[39;00m\u001b[38;5;124m\"\u001b[39m)  \u001b[38;5;66;03m# Expected: (-3/4 / 2/5)\u001b[39;00m\n\u001b[1;32m---> 26\u001b[0m \u001b[38;5;28mprint\u001b[39m(\u001b[38;5;124mf\u001b[39m\u001b[38;5;124m\"\u001b[39m\u001b[38;5;132;01m{\u001b[39;00m\u001b[38;5;241m-\u001b[39mfraction4\u001b[38;5;132;01m}\u001b[39;00m\u001b[38;5;124m\"\u001b[39m)\n",
      "\u001b[1;31mTypeError\u001b[0m: bad operand type for unary -: 'Fraction'"
     ]
    }
   ],
   "source": [
    "# Test cases with negative fractions\n",
    "fraction1 = Fraction(-3, 4)\n",
    "fraction2 = Fraction(3, -4)\n",
    "fraction3 = Fraction(-2, -5)\n",
    "fraction4 = Fraction(2, 5)\n",
    "\n",
    "# Print fractions (negative handling)\n",
    "print(f\"Fraction1: {fraction1}\")  # Expected: -3/4\n",
    "print(f\"Fraction2: {fraction2}\")  # Expected: -3/4\n",
    "print(f\"Fraction3: {fraction3}\")  # Expected: 2/5\n",
    "print(f\"Fraction4: {fraction4}\")  # Expected: 2/5\n",
    "\n",
    "# Test operations with negatives\n",
    "sum_fractions = fraction1 + fraction4\n",
    "print(f\"Sum: {fraction1} + {fraction4} = {sum_fractions}\")  # Expected: (-3/4 + 2/5)\n",
    "\n",
    "sub_fractions = fraction1 - fraction4\n",
    "print(f\"Difference: {fraction1} - {fraction4} = {sub_fractions}\")  # Expected: (-3/4 - 2/5)\n",
    "\n",
    "mult_fractions = fraction1 * fraction4\n",
    "print(f\"Product: {fraction1} * {fraction4} = {mult_fractions}\")  # Expected: (-3/4 * 2/5)\n",
    "\n",
    "div_fractions = fraction1 / fraction4\n",
    "print(f\"Division: {fraction1} / {fraction4} = {div_fractions}\")  # Expected: (-3/4 / 2/5)\n",
    "\n",
    "print(f\"{-fraction4}\")"
   ]
  },
  {
   "cell_type": "markdown",
   "metadata": {},
   "source": [
    "# Getting the Attributes of an Object"
   ]
  },
  {
   "cell_type": "code",
   "execution_count": 73,
   "metadata": {},
   "outputs": [],
   "source": [
    "def attribute_print(x):\n",
    "    \"\"\"pretty prints the dunder names starting with __\"\"\"\n",
    "    list_of_dir = dir(x)\n",
    "    print(f\"variable examined is of type {type(x)}\")\n",
    "    print(20*'-')\n",
    "    print('Attributes')\n",
    "    print(20*'-')\n",
    "    k = 0\n",
    "    for item in list_of_dir:\n",
    "        print(f\"{item:25}\", end = \"\")\n",
    "        k = k + 1\n",
    "        if k%4 == 0:\n",
    "            print()\n",
    "        else:\n",
    "            continue\n",
    "            "
   ]
  },
  {
   "cell_type": "code",
   "execution_count": 75,
   "metadata": {},
   "outputs": [
    {
     "name": "stdout",
     "output_type": "stream",
     "text": [
      "variable examined is of type <class '__main__.Fraction'>\n",
      "--------------------\n",
      "Attributes\n",
      "--------------------\n",
      "__add__                  __class__                __delattr__              __dict__                 \n",
      "__dir__                  __doc__                  __eq__                   __format__               \n",
      "__ge__                   __getattribute__         __getstate__             __gt__                   \n",
      "__hash__                 __init__                 __init_subclass__        __le__                   \n",
      "__lt__                   __module__               __mul__                  __ne__                   \n",
      "__new__                  __pow__                  __reduce__               __reduce_ex__            \n",
      "__repr__                 __setattr__              __sizeof__               __str__                  \n",
      "__sub__                  __subclasshook__         __truediv__              __weakref__              \n",
      "denominator              numerator                simplify                 "
     ]
    }
   ],
   "source": [
    "d = half\n",
    "attribute_print(d)\n"
   ]
  },
  {
   "cell_type": "code",
   "execution_count": 77,
   "metadata": {},
   "outputs": [
    {
     "name": "stdout",
     "output_type": "stream",
     "text": [
      "{'numerator': 1, 'denominator': 2}\n"
     ]
    }
   ],
   "source": [
    "half=Fraction(1, 2)\n",
    "c = half.__dict__\n",
    "print(c)"
   ]
  },
  {
   "cell_type": "markdown",
   "metadata": {},
   "source": [
    "# Learn More About Special Methods\n",
    "\n",
    "https://docs.python.org/3/reference/datamodel.html#specialnames\n",
    "\n",
    "https://docs.python.org/3/reference/datamodel.html\n",
    "\n"
   ]
  },
  {
   "cell_type": "markdown",
   "metadata": {},
   "source": [
    "# Problem - Multiplying by an Integer Constant.  \n",
    "In the fraction class how can I handle the following problem which currently throws an exception\n",
    "for example 4*(1/2)"
   ]
  },
  {
   "cell_type": "code",
   "execution_count": 79,
   "metadata": {},
   "outputs": [
    {
     "ename": "TypeError",
     "evalue": "unsupported operand type(s) for *: 'int' and 'Fraction'",
     "output_type": "error",
     "traceback": [
      "\u001b[1;31m---------------------------------------------------------------------------\u001b[0m",
      "\u001b[1;31mTypeError\u001b[0m                                 Traceback (most recent call last)",
      "Cell \u001b[1;32mIn[79], line 2\u001b[0m\n\u001b[0;32m      1\u001b[0m half \u001b[38;5;241m=\u001b[39m Fraction(\u001b[38;5;241m1\u001b[39m, \u001b[38;5;241m2\u001b[39m)\n\u001b[1;32m----> 2\u001b[0m \u001b[38;5;241m4\u001b[39m\u001b[38;5;241m*\u001b[39mhalf\n",
      "\u001b[1;31mTypeError\u001b[0m: unsupported operand type(s) for *: 'int' and 'Fraction'"
     ]
    }
   ],
   "source": [
    "half = Fraction(1, 2)\n",
    "4*half"
   ]
  },
  {
   "cell_type": "markdown",
   "metadata": {},
   "source": [
    "Hint the answer is to implement __rmul__"
   ]
  }
 ],
 "metadata": {
  "kernelspec": {
   "display_name": "Python 3 (ipykernel)",
   "language": "python",
   "name": "python3"
  },
  "language_info": {
   "codemirror_mode": {
    "name": "ipython",
    "version": 3
   },
   "file_extension": ".py",
   "mimetype": "text/x-python",
   "name": "python",
   "nbconvert_exporter": "python",
   "pygments_lexer": "ipython3",
   "version": "3.12.4"
  },
  "toc": {
   "base_numbering": 1,
   "nav_menu": {},
   "number_sections": true,
   "sideBar": true,
   "skip_h1_title": false,
   "title_cell": "Table of Contents",
   "title_sidebar": "Contents",
   "toc_cell": false,
   "toc_position": {},
   "toc_section_display": true,
   "toc_window_display": false
  }
 },
 "nbformat": 4,
 "nbformat_minor": 4
}
