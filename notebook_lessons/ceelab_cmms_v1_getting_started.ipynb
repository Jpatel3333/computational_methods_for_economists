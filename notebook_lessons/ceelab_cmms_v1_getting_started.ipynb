{
 "cells": [
  {
   "cell_type": "markdown",
   "id": "9a3cd046",
   "metadata": {},
   "source": [
    "# Welcome \n",
    "\n",
    ">These notes are for anyone who want to learn how to program in Python, but I've written them with the practicing economist in mind.  All this really means is that the examples and projects are all chosen from the field of economics. \n",
    "\n",
    "I've divided the notebooks into four levels.  The first level is an introduction to Python programming.  This level teaches you the how to write programs in Python.  If you never programmed before or are new to Python you want to start here.  The second level is practical economics programming.  This level introduces you to many of the standard libraries available to economists and how to use them.  The third level is intermediate level Python programming. This level introduces you to the more advanced programming concepts and how they are used in economics research.  The four level is the developer level of Python programming.  This level is important if you plan to develop software that other people will use.      "
   ]
  },
  {
   "cell_type": "markdown",
   "id": "c2df3145",
   "metadata": {},
   "source": [
    "# Level One:  Introduction to Python Programming\n",
    "\n",
    "1. Introduction to Jupyter notebooks\n",
    "2. Variables, data types, data values, and the assignment statement\n",
    "3. Expressions and comments\n",
    "4. Input, print, and conversion functions\n",
    "5. Functions and doc-strings\n",
    "6. Imports, modules, and libraries\n",
    "7. Booleans, conditionals, and while Loops\n",
    "8. Exceptions, assert statements, and try-except blocks\n",
    "9. Sequences, for and enumerate loops, and comprehensions\n",
    "10. Dictionaries \n",
    "11. Files and File Handling\n",
    "12. Risk-preferences project\n",
    "13. Object Oriented Programming\n",
    "14. Dunder methods and dataclasses\n",
    "15. Decision-tree project"
   ]
  },
  {
   "cell_type": "markdown",
   "id": "5ed3fa68",
   "metadata": {},
   "source": [
    "# Level Two: Practical Economics Programming\n",
    "\n",
    "1. Introduction to Visual Studio Code\n",
    "2. Graphing using matplotlib\n",
    "3. Symbolic math with SynPy\n",
    "4. Arrays in NumPy\n",
    "5. Numerical methods with SciPy\n",
    "6. Statistical-distributions project\n",
    "7. Pandas and data handling\n",
    "8. API's for economic data bases\n",
    "9. Statsmodels library\n",
    "10. Scikit-learn library\n",
    "11. Gambit and the Python API \n",
    "12. \n",
    "13.\n",
    "14.\n",
    "15. "
   ]
  }
 ],
 "metadata": {
  "kernelspec": {
   "display_name": "Python 3 (ipykernel)",
   "language": "python",
   "name": "python3"
  },
  "language_info": {
   "codemirror_mode": {
    "name": "ipython",
    "version": 3
   },
   "file_extension": ".py",
   "mimetype": "text/x-python",
   "name": "python",
   "nbconvert_exporter": "python",
   "pygments_lexer": "ipython3",
   "version": "3.10.9"
  },
  "toc": {
   "base_numbering": 1,
   "nav_menu": {},
   "number_sections": true,
   "sideBar": true,
   "skip_h1_title": false,
   "title_cell": "Table of Contents",
   "title_sidebar": "Contents",
   "toc_cell": false,
   "toc_position": {},
   "toc_section_display": true,
   "toc_window_display": false
  }
 },
 "nbformat": 4,
 "nbformat_minor": 5
}
